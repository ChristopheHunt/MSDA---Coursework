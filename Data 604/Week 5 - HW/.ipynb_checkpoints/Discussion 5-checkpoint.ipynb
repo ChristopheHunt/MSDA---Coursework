{
 "cells": [
  {
   "cell_type": "markdown",
   "metadata": {},
   "source": [
    "Modify your model from Problem 1 assuming that you are modeling manufacturing process that involves drilling holes in a steel plate. The drilling machine has capacity for up to 3 parts at a time ($c$ = 3 in queuing terms). The arrivale rate should be 120 parts per hour and the processing rate should be 50 parts per hour. Use Google 3D Warehouse to find appropriate symbols for the entities (steel plates) and the server (a drill process or other hole-making device). Add a label to your animation to show how many parts are bing processed as the model runs"
   ]
  }
 ],
 "metadata": {
  "kernelspec": {
   "display_name": "Python 3",
   "language": "python",
   "name": "python3"
  },
  "language_info": {
   "codemirror_mode": {
    "name": "ipython",
    "version": 3
   },
   "file_extension": ".py",
   "mimetype": "text/x-python",
   "name": "python",
   "nbconvert_exporter": "python",
   "pygments_lexer": "ipython3",
   "version": "3.6.1"
  }
 },
 "nbformat": 4,
 "nbformat_minor": 2
}
