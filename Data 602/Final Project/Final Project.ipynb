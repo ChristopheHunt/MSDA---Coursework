{
 "cells": [
  {
   "cell_type": "markdown",
   "metadata": {},
   "source": [
    "# Analyzing Iowa Liquor Sales\n",
    "\n",
    "## Data Set \n",
    "\n",
    "The state of Iowa's Alcoholic Beverages Division [dataset](https://data.iowa.gov/Economy/Iowa-Liquor-Sales/m3tr-qhgy  ) consists of spirit purchase information from January 1, 2012 to current. \n",
    "\n",
    "> The Division can provide this level of information because Iowa is one of 17 states that directly controls the sale and distribution of alcoholic beverages https://abd.iowa.gov/division. \n",
    "\n",
    "It should be noted that the data set is limited to Iowa Class “E” liquor license which is for:  \n",
    "\n",
    "> Grocery stores, liquor stores, convenience stores, etc. Allows commercial establishments to sell liquor for off-premises consumption in original unopened containers. No sales by the drink.\n",
    "\n",
    "Also, while this data set is not direct consumer sales, we can use this information as a proxy indicator of sales because most stores should be only buying spirits that sell well in their stores.  "
   ]
  },
  {
   "cell_type": "markdown",
   "metadata": {},
   "source": [
    "### Adding the Data Set to MongoDB"
   ]
  },
  {
   "cell_type": "markdown",
   "metadata": {
    "collapsed": false
   },
   "source": [
    "I am assuming you have already installed MongoDB but if you haven't you will need to navigate to [MongoDB](https://www.mongodb.org/)  and download the latest version. After installation of MongoDB you will need to follow the next steps and open a connection.\n",
    "\n",
    "After installation.\n",
    "\n",
    "Open a command prompt window in the `bin` folder from your `MongoDB` installation and type `mongod`.\n",
    "\n",
    "![](https://raw.githubusercontent.com/ChristopheHunt/MSDA---Coursework/master/Data%20607/Homework/Project%204/mongod.JPG)\n",
    "\n",
    "Then in a new command prompt window in the same `bin` folder type `mongo` and continue to create our new collection.\n",
    "\n",
    "![](https://raw.githubusercontent.com/ChristopheHunt/MSDA---Coursework/master/Data%20607/Homework/Project%204/mongo.JPG)"
   ]
  },
  {
   "cell_type": "code",
   "execution_count": 1,
   "metadata": {
    "collapsed": false
   },
   "outputs": [
    {
     "data": {
      "text/plain": [
       "<pymongo.results.DeleteResult at 0x13e68f58ea0>"
      ]
     },
     "execution_count": 1,
     "metadata": {},
     "output_type": "execute_result"
    }
   ],
   "source": [
    "from pymongo import MongoClient\n",
    "\n",
    "client = MongoClient()\n",
    "db = client.test\n",
    "liquor = db.iowaliquor\n",
    "liquor.delete_many({})"
   ]
  },
  {
   "cell_type": "code",
   "execution_count": 2,
   "metadata": {
    "collapsed": false
   },
   "outputs": [],
   "source": [
    "import numpy as np\n",
    "import pandas as pd\n",
    "import datetime\n",
    "import urllib\n",
    "import matplotlib"
   ]
  },
  {
   "cell_type": "markdown",
   "metadata": {},
   "source": [
    "#### If you don't already have a code you will need one from Socrata to pull down the Iowa Data set. The API key can be found at  https://www.socrata.com/\n"
   ]
  },
  {
   "cell_type": "code",
   "execution_count": 3,
   "metadata": {
    "collapsed": false
   },
   "outputs": [
    {
     "data": {
      "text/plain": [
       "<pymongo.results.InsertManyResult at 0x13e6b363d38>"
      ]
     },
     "execution_count": 3,
     "metadata": {},
     "output_type": "execute_result"
    }
   ],
   "source": [
    "from sodapy import Socrata\n",
    "client = Socrata(\"data.iowa.gov\", \"ibhJMpvP9MQ1Rl0Ox5wlSMpgn\")\n",
    "results = client.get(\"spsw-4jax\", limit = 1000000)\n",
    "added_results = liquor.insert_many(results)\n",
    "added_results"
   ]
  },
  {
   "cell_type": "code",
   "execution_count": 4,
   "metadata": {
    "collapsed": false
   },
   "outputs": [],
   "source": [
    "list = []\n",
    "for liquors in liquor.find():\n",
    "    list.append(liquors)"
   ]
  },
  {
   "cell_type": "code",
   "execution_count": 5,
   "metadata": {
    "collapsed": false,
    "scrolled": true
   },
   "outputs": [],
   "source": [
    "df = pd.DataFrame(list)\n",
    "df.columns = ['_id', 'address', 'bottle_volume_ml', 'category', 'category_name',\n",
    "       'city', 'county', 'county_number', 'date', 'im_desc',\n",
    "       'invoice_line_no', 'itemno', 'name', 'pack', 'sale_bottles',\n",
    "       'sale_dollars', 'sale_gallons', 'sale_liters', 'state_bottle_cost',\n",
    "       'state_bottle_retail', 'store', 'store_location',\n",
    "       'store_location_address', 'store_location_city',\n",
    "       'store_location_zip', 'vendor_name', 'vendor_no', 'zipcode']\n",
    "\n",
    "df['state_bottle_cost'] = df['state_bottle_cost'].astype('float64')\n",
    "df['bottle_volume_ml'] = df['bottle_volume_ml'].astype('float64')\n",
    "df['sale_dollars'] = df['sale_dollars'].astype('float64')\n",
    "df['sale_gallons'] = df['sale_gallons'].astype('float64')"
   ]
  },
  {
   "cell_type": "code",
   "execution_count": 6,
   "metadata": {
    "collapsed": false
   },
   "outputs": [
    {
     "data": {
      "text/html": [
       "<div>\n",
       "<table border=\"1\" class=\"dataframe\">\n",
       "  <thead>\n",
       "    <tr style=\"text-align: right;\">\n",
       "      <th></th>\n",
       "      <th>Total Bottle Volume (in ml)</th>\n",
       "    </tr>\n",
       "    <tr>\n",
       "      <th>category_name</th>\n",
       "      <th></th>\n",
       "    </tr>\n",
       "  </thead>\n",
       "  <tbody>\n",
       "    <tr>\n",
       "      <th>VODKA 80 PROOF</th>\n",
       "      <td>139310850.0</td>\n",
       "    </tr>\n",
       "    <tr>\n",
       "      <th>CANADIAN WHISKIES</th>\n",
       "      <td>93842128.0</td>\n",
       "    </tr>\n",
       "    <tr>\n",
       "      <th>STRAIGHT BOURBON WHISKIES</th>\n",
       "      <td>53103500.0</td>\n",
       "    </tr>\n",
       "    <tr>\n",
       "      <th>SPICED RUM</th>\n",
       "      <td>52175350.0</td>\n",
       "    </tr>\n",
       "    <tr>\n",
       "      <th>BLENDED WHISKIES</th>\n",
       "      <td>49012827.0</td>\n",
       "    </tr>\n",
       "    <tr>\n",
       "      <th>AMERICAN COCKTAILS</th>\n",
       "      <td>48388100.0</td>\n",
       "    </tr>\n",
       "    <tr>\n",
       "      <th>PUERTO RICO &amp; VIRGIN ISLANDS RUM</th>\n",
       "      <td>44540900.0</td>\n",
       "    </tr>\n",
       "    <tr>\n",
       "      <th>VODKA FLAVORED</th>\n",
       "      <td>41494404.0</td>\n",
       "    </tr>\n",
       "    <tr>\n",
       "      <th>IMPORTED VODKA</th>\n",
       "      <td>37490725.0</td>\n",
       "    </tr>\n",
       "    <tr>\n",
       "      <th>TEQUILA</th>\n",
       "      <td>34007005.0</td>\n",
       "    </tr>\n",
       "  </tbody>\n",
       "</table>\n",
       "</div>"
      ],
      "text/plain": [
       "                                  Total Bottle Volume (in ml)\n",
       "category_name                                                \n",
       "VODKA 80 PROOF                                    139310850.0\n",
       "CANADIAN WHISKIES                                  93842128.0\n",
       "STRAIGHT BOURBON WHISKIES                          53103500.0\n",
       "SPICED RUM                                         52175350.0\n",
       "BLENDED WHISKIES                                   49012827.0\n",
       "AMERICAN COCKTAILS                                 48388100.0\n",
       "PUERTO RICO & VIRGIN ISLANDS RUM                   44540900.0\n",
       "VODKA FLAVORED                                     41494404.0\n",
       "IMPORTED VODKA                                     37490725.0\n",
       "TEQUILA                                            34007005.0"
      ]
     },
     "execution_count": 6,
     "metadata": {},
     "output_type": "execute_result"
    }
   ],
   "source": [
    "column_subset = df[['category_name', 'county', 'bottle_volume_ml']]\n",
    "grouped = column_subset.groupby('category_name')\n",
    "grouped = pd.DataFrame(grouped.sum())\n",
    "results = grouped.sort_values(by = 'bottle_volume_ml', ascending = False)\n",
    "results.columns = ['Total Bottle Volume (in ml)']\n",
    "results.head(10)"
   ]
  },
  {
   "cell_type": "markdown",
   "metadata": {},
   "source": [
    "### Interestingly, we see that Vodka 80 proof and Canadian Whiskies sell at large volumes. I am curious how this translates to the cost of this liquor. I would assume that these are the cheaper liquors which are being sold at high volumes based on personal experience in stores. I typically see the cheaper liquors being sold in large bottles versus the more expensive liquors being sold at smaller volumes  "
   ]
  },
  {
   "cell_type": "code",
   "execution_count": 7,
   "metadata": {
    "collapsed": false
   },
   "outputs": [
    {
     "data": {
      "text/html": [
       "<div>\n",
       "<table border=\"1\" class=\"dataframe\">\n",
       "  <thead>\n",
       "    <tr style=\"text-align: right;\">\n",
       "      <th></th>\n",
       "      <th>Sale per gallon sold</th>\n",
       "    </tr>\n",
       "    <tr>\n",
       "      <th>category_name</th>\n",
       "      <th></th>\n",
       "    </tr>\n",
       "  </thead>\n",
       "  <tbody>\n",
       "    <tr>\n",
       "      <th>TRIPLE SEC</th>\n",
       "      <td>15.719525</td>\n",
       "    </tr>\n",
       "    <tr>\n",
       "      <th>AMERICAN AMARETTO</th>\n",
       "      <td>26.452779</td>\n",
       "    </tr>\n",
       "    <tr>\n",
       "      <th>AMERICAN COCKTAILS</th>\n",
       "      <td>26.988900</td>\n",
       "    </tr>\n",
       "    <tr>\n",
       "      <th>SPEARMINT SCHNAPPS</th>\n",
       "      <td>27.646909</td>\n",
       "    </tr>\n",
       "    <tr>\n",
       "      <th>100 PROOF VODKA</th>\n",
       "      <td>29.543432</td>\n",
       "    </tr>\n",
       "    <tr>\n",
       "      <th>PEPPERMINT SCHNAPPS</th>\n",
       "      <td>29.995041</td>\n",
       "    </tr>\n",
       "    <tr>\n",
       "      <th>TROPICAL FRUIT SCHNAPPS</th>\n",
       "      <td>30.485252</td>\n",
       "    </tr>\n",
       "    <tr>\n",
       "      <th>VODKA 80 PROOF</th>\n",
       "      <td>30.544185</td>\n",
       "    </tr>\n",
       "    <tr>\n",
       "      <th>AMERICAN SLOE GINS</th>\n",
       "      <td>31.638868</td>\n",
       "    </tr>\n",
       "    <tr>\n",
       "      <th>CREME DE ALMOND</th>\n",
       "      <td>33.620505</td>\n",
       "    </tr>\n",
       "  </tbody>\n",
       "</table>\n",
       "</div>"
      ],
      "text/plain": [
       "                         Sale per gallon sold\n",
       "category_name                                \n",
       "TRIPLE SEC                          15.719525\n",
       "AMERICAN AMARETTO                   26.452779\n",
       "AMERICAN COCKTAILS                  26.988900\n",
       "SPEARMINT SCHNAPPS                  27.646909\n",
       "100 PROOF VODKA                     29.543432\n",
       "PEPPERMINT SCHNAPPS                 29.995041\n",
       "TROPICAL FRUIT SCHNAPPS             30.485252\n",
       "VODKA 80 PROOF                      30.544185\n",
       "AMERICAN SLOE GINS                  31.638868\n",
       "CREME DE ALMOND                     33.620505"
      ]
     },
     "execution_count": 7,
     "metadata": {},
     "output_type": "execute_result"
    }
   ],
   "source": [
    "column_subset = df[['category_name', 'sale_dollars', 'sale_gallons']]\n",
    "grouped = column_subset.groupby('category_name')\n",
    "grouped = pd.DataFrame(grouped.sum())\n",
    "results = pd.DataFrame(grouped.sort_values(by = 'sale_dollars', ascending = False))\n",
    "results = pd.DataFrame(results['sale_dollars'] / results['sale_gallons'])\n",
    "results.columns = ['Sale per gallon sold']\n",
    "results = results.sort_values(by = 'Sale per gallon sold', ascending = True)\n",
    "results.head(10)"
   ]
  },
  {
   "cell_type": "markdown",
   "metadata": {},
   "source": [
    "### It appears that our top volume sales are not necessarily the cheapest available liquors. While the top liquors by volume are Vodka 80 proof and Canadian Whiskies, we see more mixer type liquors being sold at lower prices per gallon. However, since we do see that Vodka 80 Proof is the most sold liquor by volume and is in the top 10 of cheapest liquors sold in Iowa. Let's explore the sales of Vodka 80 Proof more to see if there are any interesting patterns. "
   ]
  },
  {
   "cell_type": "code",
   "execution_count": 8,
   "metadata": {
    "collapsed": true
   },
   "outputs": [],
   "source": [
    "%matplotlib inline\n",
    "import matplotlib.pyplot as plt\n",
    "matplotlib.style.use('ggplot')\n",
    "import matplotlib.mlab as mlab\n",
    "import numpy as np"
   ]
  },
  {
   "cell_type": "code",
   "execution_count": 10,
   "metadata": {
    "collapsed": false
   },
   "outputs": [],
   "source": [
    "client = MongoClient()\n",
    "db = client.test\n",
    "liquor = db.iowaliquor\n",
    "liquor.delete_many({})\n",
    "\n",
    "from sodapy import Socrata\n",
    "\n",
    "client = Socrata(\"data.iowa.gov\", \"ibhJMpvP9MQ1Rl0Ox5wlSMpgn\")\n",
    "results = client.get(\"spsw-4jax\", where=\"category='1031080'\", limit = 1000000)\n",
    "added_results = liquor.insert_many(results)"
   ]
  },
  {
   "cell_type": "markdown",
   "metadata": {},
   "source": [
    "#### We us \"where=\"category='1031080'\"\" because 1031080 is the Category ID for Vodka 80 Proof"
   ]
  },
  {
   "cell_type": "code",
   "execution_count": 11,
   "metadata": {
    "collapsed": false
   },
   "outputs": [],
   "source": [
    "list = []\n",
    "for liquors in liquor.find():\n",
    "    list.append(liquors)"
   ]
  },
  {
   "cell_type": "code",
   "execution_count": 12,
   "metadata": {
    "collapsed": true
   },
   "outputs": [],
   "source": [
    "df = pd.DataFrame(list)\n",
    "df.columns = ['_id', 'address', 'bottle_volume_ml', 'category', 'category_name',\n",
    "       'city', 'county', 'county_number', 'date', 'im_desc',\n",
    "       'invoice_line_no', 'itemno', 'name', 'pack', 'sale_bottles',\n",
    "       'sale_dollars', 'sale_gallons', 'sale_liters', 'state_bottle_cost',\n",
    "       'state_bottle_retail', 'store', 'store_location',\n",
    "       'store_location_address', 'store_location_city',\n",
    "       'store_location_zip', 'vendor_name', 'vendor_no', 'zipcode']\n",
    "\n",
    "df['state_bottle_cost'] = df['state_bottle_cost'].astype('float64')\n",
    "df['bottle_volume_ml'] = df['bottle_volume_ml'].astype('float64')\n",
    "df['sale_dollars'] = df['sale_dollars'].astype('float64')\n",
    "df['sale_gallons'] = df['sale_gallons'].astype('float64')\n",
    "df['date'] = pd.to_datetime(df['date'])"
   ]
  },
  {
   "cell_type": "code",
   "execution_count": 13,
   "metadata": {
    "collapsed": false
   },
   "outputs": [
    {
     "data": {
      "text/html": [
       "<div>\n",
       "<table border=\"1\" class=\"dataframe\">\n",
       "  <thead>\n",
       "    <tr style=\"text-align: right;\">\n",
       "      <th></th>\n",
       "      <th>0</th>\n",
       "    </tr>\n",
       "  </thead>\n",
       "  <tbody>\n",
       "    <tr>\n",
       "      <th>0</th>\n",
       "      <td>Polk</td>\n",
       "    </tr>\n",
       "    <tr>\n",
       "      <th>1</th>\n",
       "      <td>Linn</td>\n",
       "    </tr>\n",
       "    <tr>\n",
       "      <th>2</th>\n",
       "      <td>Scott</td>\n",
       "    </tr>\n",
       "    <tr>\n",
       "      <th>3</th>\n",
       "      <td>Johnson</td>\n",
       "    </tr>\n",
       "    <tr>\n",
       "      <th>4</th>\n",
       "      <td>Black Hawk</td>\n",
       "    </tr>\n",
       "  </tbody>\n",
       "</table>\n",
       "</div>"
      ],
      "text/plain": [
       "            0\n",
       "0        Polk\n",
       "1        Linn\n",
       "2       Scott\n",
       "3     Johnson\n",
       "4  Black Hawk"
      ]
     },
     "execution_count": 13,
     "metadata": {},
     "output_type": "execute_result"
    }
   ],
   "source": [
    "top_n_countries = 5\n",
    "top_counties = df[['county', 'sale_gallons']]\n",
    "top_counties = top_counties.groupby([\"county\"]).sum().sort_values(\\\n",
    "                                      by = 'sale_gallons', ascending = False).head(\\\n",
    "                                      top_n_countries).index.values.tolist()\n",
    "pd.DataFrame(top_counties)"
   ]
  },
  {
   "cell_type": "markdown",
   "metadata": {},
   "source": [
    "#### We will look at the top 5 counties and the volume of VODKA 80 PROOF sales over the time period of the data set. Polk County is a the top of our list but that should not be suprising as that is the largest county by population in Iowa. "
   ]
  },
  {
   "cell_type": "code",
   "execution_count": 14,
   "metadata": {
    "collapsed": false
   },
   "outputs": [
    {
     "data": {
      "text/html": [
       "<div>\n",
       "<table border=\"1\" class=\"dataframe\">\n",
       "  <thead>\n",
       "    <tr style=\"text-align: right;\">\n",
       "      <th></th>\n",
       "      <th></th>\n",
       "      <th>sale_gallons</th>\n",
       "    </tr>\n",
       "    <tr>\n",
       "      <th>county</th>\n",
       "      <th>date</th>\n",
       "      <th></th>\n",
       "    </tr>\n",
       "  </thead>\n",
       "  <tbody>\n",
       "    <tr>\n",
       "      <th rowspan=\"10\" valign=\"top\">Black Hawk</th>\n",
       "      <th>2012-01-31</th>\n",
       "      <td>3355.189798</td>\n",
       "    </tr>\n",
       "    <tr>\n",
       "      <th>2012-02-29</th>\n",
       "      <td>3256.316803</td>\n",
       "    </tr>\n",
       "    <tr>\n",
       "      <th>2012-03-31</th>\n",
       "      <td>3577.662292</td>\n",
       "    </tr>\n",
       "    <tr>\n",
       "      <th>2012-04-30</th>\n",
       "      <td>3941.321539</td>\n",
       "    </tr>\n",
       "    <tr>\n",
       "      <th>2012-05-31</th>\n",
       "      <td>4275.756753</td>\n",
       "    </tr>\n",
       "    <tr>\n",
       "      <th>2012-06-30</th>\n",
       "      <td>4308.586735</td>\n",
       "    </tr>\n",
       "    <tr>\n",
       "      <th>2012-07-31</th>\n",
       "      <td>4190.039527</td>\n",
       "    </tr>\n",
       "    <tr>\n",
       "      <th>2012-08-31</th>\n",
       "      <td>4396.047497</td>\n",
       "    </tr>\n",
       "    <tr>\n",
       "      <th>2012-09-30</th>\n",
       "      <td>3401.862396</td>\n",
       "    </tr>\n",
       "    <tr>\n",
       "      <th>2012-10-31</th>\n",
       "      <td>6504.906574</td>\n",
       "    </tr>\n",
       "  </tbody>\n",
       "</table>\n",
       "</div>"
      ],
      "text/plain": [
       "                       sale_gallons\n",
       "county     date                    \n",
       "Black Hawk 2012-01-31   3355.189798\n",
       "           2012-02-29   3256.316803\n",
       "           2012-03-31   3577.662292\n",
       "           2012-04-30   3941.321539\n",
       "           2012-05-31   4275.756753\n",
       "           2012-06-30   4308.586735\n",
       "           2012-07-31   4190.039527\n",
       "           2012-08-31   4396.047497\n",
       "           2012-09-30   3401.862396\n",
       "           2012-10-31   6504.906574"
      ]
     },
     "execution_count": 14,
     "metadata": {},
     "output_type": "execute_result"
    }
   ],
   "source": [
    "vodka_column_subset = df[['sale_gallons', 'county', 'date']]\n",
    "vodka_column_subset = vodka_column_subset[vodka_column_subset['county'].isin(top_counties)]\n",
    "vodka_column_subset['date'] =  pd.to_datetime(vodka_column_subset['date'], format = \"%m/%d/%Y\")\n",
    "vodka_column_subset = vodka_column_subset.set_index('date')\n",
    "grouped = vodka_column_subset.groupby([\"county\", pd.TimeGrouper('M')]).sum()\n",
    "grouped.head(10)"
   ]
  },
  {
   "cell_type": "code",
   "execution_count": 17,
   "metadata": {
    "collapsed": false
   },
   "outputs": [
    {
     "data": {
      "text/plain": [
       "<matplotlib.figure.Figure at 0x1401a457a90>"
      ]
     },
     "metadata": {},
     "output_type": "display_data"
    },
    {
     "data": {
      "image/png": "[encoded data removed]",
      "text/plain": [
       "<matplotlib.figure.Figure at 0x1401a431400>"
      ]
     },
     "metadata": {},
     "output_type": "display_data"
    }
   ],
   "source": [
    "plotting = grouped.unstack().fillna(0).transpose().unstack(level=0)\n",
    "plotting.columns = plotting.columns.droplevel(1)\n",
    "\n",
    "fig = plt.figure()\n",
    "ax = plotting.unstack().fillna(0).transpose().unstack(level=0).plot()\n",
    "\n",
    "#legend help from http://stackoverflow.com/questions/4700614/how-to-put-the-legend-out-of-the-plot\n",
    "box = ax.get_position()\n",
    "ax.set_position([box.x0, box.y0, box.width * 2, box.height])\n",
    "ax.legend(loc='center left', bbox_to_anchor=(1, 0.5))\n",
    "plt.xticks(rotation='vertical')\n",
    "plt.xlabel(\"date\")\n",
    "plt.ylabel(\"Gallons sold\")\n",
    "\n",
    "plt.show()"
   ]
  },
  {
   "cell_type": "markdown",
   "metadata": {},
   "source": [
    "##### I found that creating a thematic map with Python is very non-trivial. A lot of assistance in producing the below code was made possible by http://cimms.ou.edu/~lakshman/spatialprogramming/chapter03_basicgis/ch03_basicgis.pdf and http://brandonrose.org/pythonmap. The below thematic mapping is a derivative of the work of the two resources. "
   ]
  },
  {
   "cell_type": "code",
   "execution_count": 18,
   "metadata": {
    "collapsed": true
   },
   "outputs": [],
   "source": [
    "import pandas as pd\n",
    "import numpy as np\n",
    "import matplotlib\n",
    "import matplotlib.pyplot as plt\n",
    "import matplotlib.cm as cm\n",
    "from matplotlib.colors import Normalize\n",
    "from matplotlib.collections import PatchCollection\n",
    "from mpl_toolkits.basemap import Basemap\n",
    "from shapely.geometry import Point, Polygon, MultiPoint, MultiPolygon\n",
    "from shapely.prepared import prep\n",
    "from pysal.esda.mapclassify import Natural_Breaks as nb\n",
    "from descartes import PolygonPatch\n",
    "import fiona\n",
    "from itertools import chain\n",
    "import pysal.esda.mapclassify as mapclassify\n",
    "import sys, shutil, os, shapefile as shp"
   ]
  },
  {
   "cell_type": "code",
   "execution_count": 19,
   "metadata": {
    "collapsed": false
   },
   "outputs": [],
   "source": [
    "sf = shp.Reader(\".//cb_2015_us_county_20m/cb_2015_us_county_20m\");\n",
    "shapes = sf.shapes()\n",
    "fields = sf.fields\n",
    "records = sf.records()\n",
    "\n",
    "def find_column(column_name):\n",
    "    for i in range(len(sf.fields)):\n",
    "        if(sf.fields[i][0] == column_name):\n",
    "            return i - 1\n",
    "    sys.exit(-1)\n",
    "\n",
    "NAME = find_column('STATEFP')\n",
    "\n",
    "iowa = shp.Writer(shp.POLYGON)\n",
    "iowa.fields = sf.fields\n",
    "for shapeno in range(len(shapes)):\n",
    "    shapename = records[shapeno][NAME]\n",
    "    if (shapename == '19'): #19 is the state code for Iowa\n",
    "        iowa.records.append(records[shapeno])\n",
    "        iowa.shapes().append(shapes[shapeno])\n",
    "\n",
    "outputdir = \"..//Final Project//New File\";\n",
    "shutil.rmtree(outputdir, ignore_errors=True)\n",
    "os.mkdir(outputdir)\n",
    "filename = (outputdir + \"//iowa\")\n",
    "iowa.save(filename)\n",
    "shutil.copyfile(\".//cb_2015_us_county_20m/cb_2015_us_county_20m.prj\", \\\n",
    "               filename + \".prj\");"
   ]
  },
  {
   "cell_type": "markdown",
   "metadata": {},
   "source": [
    "#### The above code takes the county information from the census bureau and subsets out the counties for Iowa. Now lets map it so we can see if we subsetted the Iowa map appropriately. \n"
   ]
  },
  {
   "cell_type": "code",
   "execution_count": 20,
   "metadata": {
    "collapsed": false
   },
   "outputs": [
    {
     "data": {
      "image/png": "[encoded data removed]",
      "text/plain": [
       "<matplotlib.figure.Figure at 0x14019408390>"
      ]
     },
     "metadata": {},
     "output_type": "display_data"
    }
   ],
   "source": [
    "from mpl_toolkits.basemap import Basemap\n",
    "import numpy as np\n",
    "import shapefile as shp\n",
    "import matplotlib.pyplot as plt\n",
    "\n",
    "def find_bounding_box(shpfile):\n",
    "    shapes = shp.Reader(shpfile).shapes()\n",
    "    bbox = [180, 90, -180, -90]\n",
    "    for shape in shapes:\n",
    "        bbox[0] = min(bbox[0], shape.bbox[0])\n",
    "        bbox[1] = min(bbox[1], shape.bbox[1])\n",
    "        bbox[2] = max(bbox[2], shape.bbox[2])\n",
    "        bbox[3] = max(bbox[3], shape.bbox[3])\n",
    "    bbox[0] -= 0.05\n",
    "    bbox[1] -= 0.05\n",
    "    bbox[2] += 0.05\n",
    "    bbox[3] += 0.05\n",
    "    return bbox\n",
    "\n",
    "bbox = find_bounding_box(\".//New File//iowa\")\n",
    "\n",
    "m = Basemap(projection='merc',\\\n",
    "            llcrnrlat=bbox[1],\\\n",
    "            urcrnrlat=bbox[3],\\\n",
    "            llcrnrlon=bbox[0],\\\n",
    "            urcrnrlon=bbox[2],\\\n",
    "            lat_ts=20,resolution='c')\n",
    "\n",
    "\n",
    "countyshp = m.readshapefile(\".//New File//iowa\", \\\n",
    "                            \"counties\", drawbounds=True)\n",
    "for shape in m.counties:\n",
    "    xx,yy = zip(*shape)\n",
    "    m.plot(xx,yy,linewidth=.5, color = 'brown')\n",
    "    \n",
    "m.drawmapboundary(fill_color = 'w')\n",
    "plt.show()"
   ]
  },
  {
   "cell_type": "markdown",
   "metadata": {},
   "source": [
    "#### Now that we have the county map of Iowa, we can begin thematic mapping. I relied on http://brandonrose.org/pythonmap to develop the thematic map and the below code is a derivative of Brandon's work. "
   ]
  },
  {
   "cell_type": "code",
   "execution_count": 21,
   "metadata": {
    "collapsed": false
   },
   "outputs": [],
   "source": [
    "from shapely.geometry import Point, Polygon, MultiPoint, MultiPolygon\n",
    "# set up a map dataframe\n",
    "df_map = pd.DataFrame({'poly': [Polygon(xy) for xy in m.counties],'county': [county['NAME'] for county in m.counties_info]})\n",
    "\n",
    "vodka_column_subset = df[['sale_gallons', 'county']]\n",
    "pd.options.display.multi_sparse = False\n",
    "grouped = vodka_column_subset.groupby([\"county\"]).sum().dropna().reset_index()\n",
    "df_map = pd.merge(grouped, df_map, on='county')"
   ]
  },
  {
   "cell_type": "markdown",
   "metadata": {},
   "source": [
    "#### The below functions are for working with color ramps and bars, this will allow us to create the necessary heat map. "
   ]
  },
  {
   "cell_type": "code",
   "execution_count": 22,
   "metadata": {
    "collapsed": true
   },
   "outputs": [],
   "source": [
    "# Convenience functions for working with color ramps and bars\n",
    "def colorbar_index(ncolors, cmap, labels=None, **kwargs):\n",
    "    \"\"\"\n",
    "    This is a convenience function to stop you making off-by-one errors\n",
    "    Takes a standard colour ramp, and discretizes it,\n",
    "    then draws a colour bar with correctly aligned labels\n",
    "    \"\"\"\n",
    "    cmap = cmap_discretize(cmap, ncolors)\n",
    "    mappable = cm.ScalarMappable(cmap=cmap)\n",
    "    mappable.set_array([])\n",
    "    mappable.set_clim(-0.5, ncolors+0.5)\n",
    "    colorbar = plt.colorbar(mappable, **kwargs)\n",
    "    colorbar.set_ticks(np.linspace(0, ncolors, ncolors))\n",
    "    colorbar.set_ticklabels(range(ncolors))\n",
    "    if labels:\n",
    "        colorbar.set_ticklabels(labels)\n",
    "    return colorbar\n",
    "\n",
    "def cmap_discretize(cmap, N):\n",
    "    \"\"\"\n",
    "    Return a discrete colormap from the continuous colormap cmap.\n",
    "\n",
    "        cmap: colormap instance, eg. cm.jet. \n",
    "        N: number of colors.\n",
    "\n",
    "    Example\n",
    "        x = resize(arange(100), (5,100))\n",
    "        djet = cmap_discretize(cm.jet, 5)\n",
    "        imshow(x, cmap=djet)\n",
    "\n",
    "    \"\"\"\n",
    "    if type(cmap) == str:\n",
    "        cmap = get_cmap(cmap)\n",
    "    colors_i = np.concatenate((np.linspace(0, 1., N), (0., 0., 0., 0.)))\n",
    "    colors_rgba = cmap(colors_i)\n",
    "    indices = np.linspace(0, 1., N + 1)\n",
    "    cdict = {}\n",
    "    for ki, key in enumerate(('red', 'green', 'blue')):\n",
    "        cdict[key] = [(indices[i], colors_rgba[i - 1, ki], colors_rgba[i, ki]) for i in range(N + 1)]\n",
    "    return matplotlib.colors.LinearSegmentedColormap(cmap.name + \"_%d\" % N, cdict, 1024)"
   ]
  },
  {
   "cell_type": "code",
   "execution_count": 23,
   "metadata": {
    "collapsed": false,
    "scrolled": true
   },
   "outputs": [],
   "source": [
    "var_2_analyze = 'sale_gallons'\n",
    "\n",
    "jenks = True\n",
    "\n",
    "if jenks == True:\n",
    "    breaks = nb(\n",
    "        df_map[df_map[var_2_analyze].notnull()][var_2_analyze].values,\n",
    "        initial=300,\n",
    "        k=10)\n",
    "\n",
    "if 'bins' in df_map.columns:\n",
    "    df_map = df_map.drop('bins',1)\n",
    "\n",
    "b = pd.DataFrame({'bins': breaks.yb}, index=df_map[df_map[var_2_analyze].notnull()].index)\n",
    "df_map = df_map.join(b)\n",
    "df_map.bins.fillna(-1, inplace=True)\n",
    "\n",
    "if jenks == True:\n",
    "    bin_labels = [\"<= %0.0f\" % b for b in breaks.bins]"
   ]
  },
  {
   "cell_type": "code",
   "execution_count": 24,
   "metadata": {
    "collapsed": false
   },
   "outputs": [
    {
     "data": {
      "text/plain": [
       "<matplotlib.figure.Figure at 0x14019295dd8>"
      ]
     },
     "metadata": {},
     "output_type": "display_data"
    },
    {
     "data": {
      "image/png": "[encoded data removed]",
      "text/plain": [
       "<matplotlib.figure.Figure at 0x14019295c18>"
      ]
     },
     "metadata": {},
     "output_type": "display_data"
    }
   ],
   "source": [
    "plt.clf()\n",
    "fig = plt.figure(facecolor='white')\n",
    "ax = fig.add_subplot(111, axisbg='w', frame_on=False)\n",
    "\n",
    "# use a blue colour ramp ('Blues') - we'll be converting it to a map using cmap()\n",
    "# you could also use 'Oranges' or 'Greens' \n",
    "cmap = plt.get_cmap('Oranges')\n",
    "\n",
    "df_map['patches'] = df_map['poly'].map(lambda x: PolygonPatch(x, ec='#555555', lw=.2, alpha=1., zorder=4))\n",
    "\n",
    "\n",
    "smallprint = ax.text(\n",
    "    # set the x,y location of the smallprint\n",
    "    1, 1,\n",
    "    'This is a map of Iowa showing gallons of Vodka 80 Proof sold per county.',\n",
    "    ha='right', va='bottom',\n",
    "    size=10,\n",
    "    color='#555555',\n",
    "    transform=ax.transAxes)\n",
    "\n",
    "pc = PatchCollection(df_map['patches'], match_original=True)\n",
    "\n",
    "norm = Normalize(vmin=df_map['bins'].min(), vmax=df_map['bins'].max())\n",
    "\n",
    "pc.set_facecolor(cmap(norm(df_map['bins'].values)))\n",
    "ax.add_collection(pc)\n",
    "\n",
    "cb = colorbar_index(ncolors=len(bin_labels), cmap=cmap, shrink=0.5, labels=bin_labels)\n",
    "cb.ax.tick_params(labelsize=10)\n",
    "\n",
    "m.drawmapscale(\n",
    "    bbox[0] + 0.08, bbox[1] + 0.215,\n",
    "    bbox[0], bbox[1],\n",
    "    75.,\n",
    "    barstyle='fancy', labelstyle='simple',\n",
    "    fillcolor1='w', fillcolor2='#555555',\n",
    "    fontcolor='#555555',\n",
    "    zorder=5,\n",
    "    units='mi')\n",
    "\n",
    "plt.tight_layout()\n",
    "fig.set_size_inches(10,12)\n",
    "plt.savefig('iowa_' + var_2_analyze + '.png', dpi=1000, alpha=True)\n",
    "\n",
    "# display our plot\n",
    "plt.show()"
   ]
  },
  {
   "cell_type": "markdown",
   "metadata": {},
   "source": [
    "#### As we can see the higher gallon sales are in some of the most populous counties. One interesting outlier is Dickinson county in the top left hand coner of the state that is in the <=58727 category. More research is needed to understand why this rate is so high especially considering that the county has a population of only 16,667. "
   ]
  }
 ],
 "metadata": {
  "kernelspec": {
   "display_name": "Python 3",
   "language": "python",
   "name": "python3"
  },
  "language_info": {
   "codemirror_mode": {
    "name": "ipython",
    "version": 3
   },
   "file_extension": ".py",
   "mimetype": "text/x-python",
   "name": "python",
   "nbconvert_exporter": "python",
   "pygments_lexer": "ipython3",
   "version": "3.5.1"
  }
 },
 "nbformat": 4,
 "nbformat_minor": 0
}
