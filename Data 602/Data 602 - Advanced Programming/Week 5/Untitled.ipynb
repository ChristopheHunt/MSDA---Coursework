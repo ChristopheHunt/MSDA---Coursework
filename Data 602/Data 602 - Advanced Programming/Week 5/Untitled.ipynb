{
 "cells": [
  {
   "cell_type": "code",
   "execution_count": null,
   "metadata": {
    "collapsed": true
   },
   "outputs": [],
   "source": [
    "import pandas\n",
    "\n",
    "pandas.read_csv(\"https://raw.githubusercontent.com/ChristopheHunt/MSDA\" + \n",
    "                         \"---Coursework/master/Data%20602/\" + \n",
    "                         \"Data%20602%20-%20Advanced%20Programming/\" + \n",
    "                         \"data/cars.data.csv\", \n",
    "                         header=None, index_col=False)"
   ]
  }
 ],
 "metadata": {
  "kernelspec": {
   "display_name": "Python 2",
   "language": "python",
   "name": "python2"
  },
  "language_info": {
   "codemirror_mode": {
    "name": "ipython",
    "version": 2
   },
   "file_extension": ".py",
   "mimetype": "text/x-python",
   "name": "python",
   "nbconvert_exporter": "python",
   "pygments_lexer": "ipython2",
   "version": "2.7.11"
  }
 },
 "nbformat": 4,
 "nbformat_minor": 0
}
