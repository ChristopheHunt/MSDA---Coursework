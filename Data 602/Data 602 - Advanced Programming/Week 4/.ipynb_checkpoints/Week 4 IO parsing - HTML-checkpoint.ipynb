{
 "cells": [
  {
   "cell_type": "markdown",
   "metadata": {
    "slideshow": {
     "slide_type": "-"
    }
   },
   "source": [
    "# Week 4 IO Parsing HTML"
   ]
  },
  {
   "cell_type": "markdown",
   "metadata": {},
   "source": [
    "#### I will be use the Beautiful Soup python library to parse https://www.brainpickings.org. The iste has excellent book reviews for a variety of topics by the site's creator Maria Popova. Additionally, she takes several curator quotes from each author of her posts, which will be our text of interest. Once we parse the text of interest, will pass them to the Alchemy API for the top ten keywords.  "
   ]
  },
  {
   "cell_type": "code",
   "execution_count": null,
   "metadata": {
    "collapsed": false,
    "slideshow": {
     "slide_type": "slide"
    }
   },
   "outputs": [],
   "source": [
    "from BeautifulSoup import BeautifulSoup\n",
    "import urllib2\n",
    "\n",
    "url = 'https://www.brainpickings.org'\n",
    "page = urllib2.urlopen(url)\n",
    "soup = BeautifulSoup(page.read())\n",
    "print soup.prettify()"
   ]
  },
  {
   "cell_type": "code",
   "execution_count": null,
   "metadata": {
    "collapsed": false,
    "slideshow": {
     "slide_type": "slide"
    }
   },
   "outputs": [],
   "source": [
    "divText = soup.find(\"div\",  {\"id\": \"main_body\"} , {\"class\": \"right\"})\n",
    "\n",
    "for tag in divText:\n",
    "    author = tag.find('strong')\n",
    "    quotes = tag.find('blockquote')   \n",
    "    print quotes\n",
    "    print author\n",
    "                       \n",
    "#for i in text.strong:\n",
    " #   print i\n",
    "\n",
    "#for i in text.blockquote.p.em:\n",
    " #   print i"
   ]
  },
  {
   "cell_type": "code",
   "execution_count": null,
   "metadata": {
    "collapsed": false
   },
   "outputs": [],
   "source": [
    "text.div.blockquote.p.contents"
   ]
  },
  {
   "cell_type": "code",
   "execution_count": null,
   "metadata": {
    "collapsed": true
   },
   "outputs": [],
   "source": [
    "#text.findAll('blockquote', text = True)\n",
    "text.strong.contents\n",
    "text.blockquote.contents"
   ]
  },
  {
   "cell_type": "code",
   "execution_count": null,
   "metadata": {
    "collapsed": false
   },
   "outputs": [],
   "source": [
    "text.findAll('strong')"
   ]
  },
  {
   "cell_type": "code",
   "execution_count": null,
   "metadata": {
    "collapsed": false
   },
   "outputs": [],
   "source": [
    "from IPython.display import HTML\n",
    "HTML('<iframe src=https://www.brainpickings.org width=900 height=600></iframe>')"
   ]
  },
  {
   "cell_type": "code",
   "execution_count": null,
   "metadata": {
    "collapsed": true
   },
   "outputs": [],
   "source": []
  }
 ],
 "metadata": {
  "kernelspec": {
   "display_name": "Python 2",
   "language": "python",
   "name": "python2"
  },
  "language_info": {
   "codemirror_mode": {
    "name": "ipython",
    "version": 2
   },
   "file_extension": ".py",
   "mimetype": "text/x-python",
   "name": "python",
   "nbconvert_exporter": "python",
   "pygments_lexer": "ipython2",
   "version": "2.7.11"
  }
 },
 "nbformat": 4,
 "nbformat_minor": 0
}
