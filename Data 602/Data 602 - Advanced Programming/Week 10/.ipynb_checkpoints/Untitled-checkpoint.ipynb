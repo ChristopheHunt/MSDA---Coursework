{
 "cells": [
  {
   "cell_type": "markdown",
   "metadata": {},
   "source": [
    "# Histograms"
   ]
  },
  {
   "cell_type": "markdown",
   "metadata": {},
   "source": [
    "Express the cars.data.csv data as a series of bar graphs.  The x-axis represents a feature and the y-axis is the frequency in the sample.  Do this with the 'buying', 'maint', 'safety', and 'doors' fields with one plot for each for a total of four.  Make each graph a subplot of a single output. "
   ]
  },
  {
   "cell_type": "code",
   "execution_count": null,
   "metadata": {
    "collapsed": true
   },
   "outputs": [],
   "source": [
    "import requests\n",
    "import numpy as np\n",
    "import csv\n",
    "import pandas \n",
    "import Tkinter\n",
    "import tkFileDialog\n",
    "import sys\n",
    "%matplotlib inline\n",
    "import matplotlib.pyplot as plt\n",
    "import matplotlib\n",
    "matplotlib.style.use('ggplot')\n",
    "\n",
    "#buying       v-high, high, med, low\n",
    "#maint        v-high, high, med, low\n",
    "#doors        2, 3, 4, 5-more\n",
    "#persons      2, 4, more\n",
    "#lug_boot     small, med, big\n",
    "#safety       low, med, high\n",
    "#class        unacc, acc, good, vgood\n",
    "    \n",
    "s = raw_input('Use online csv file? y/n : ')\n",
    "\n",
    "if s.lower() == 'y': \n",
    "    df = pandas.read_csv(\"https://raw.githubusercontent.com/ChristopheHunt/MSDA\" + \n",
    "                         \"---Coursework/master/Data%20602/\" + \n",
    "                         \"Data%20602%20-%20Advanced%20Programming/\" + \n",
    "                         \"data/cars.data.csv\", \n",
    "                         header=None, index_col=False)\n",
    "elif s.lower() == 'n':\n",
    "    root = Tkinter.Tk()\n",
    "    filename = tkFileDialog.askopenfilename(parent=root) \n",
    "    df = pandas.read_csv(filename)\n",
    "    root.withdraw()\n",
    "    \n",
    "else: \n",
    "    print \"input was not in a y/n format\"\n",
    "\n",
    "df.columns = [ 'buying', 'maint', 'doors','persons','lug_boot', 'safety', 'class']\n",
    "df = df.apply(lambda df: df.astype('category')) \n",
    "\n",
    "safety_cat = ['low','med','high']\n",
    "maint_cat = ['low','med','high','vhigh']\n",
    "doors_cat = ['2','3','4','5more']\n",
    "\n",
    "def columncheck(column, listvalues):\n",
    "    check = list(set(pandas.unique(df[column].ravel())) - set(listvalues))\n",
    "    if check != []:\n",
    "       s = raw_input(\"%s column contains unexpected values:%s, this will be converted to NaN. Continue? y/n : \" \n",
    "                     % (column, check))\n",
    "       if s.lower() != 'y':\n",
    "          sys.exit(\"End\") \n",
    "\n",
    "columncheck('safety', safety_cat)\n",
    "columncheck('maint', maint_cat)\n",
    "columncheck('doors', doors_cat)\n",
    "\n",
    "def setcat(column, listvalues):\n",
    "    df[column].cat.set_categories(listvalues, inplace = True)\n",
    "    \n",
    "setcat('safety', safety_cat)\n",
    "setcat('maint', maint_cat)\n",
    "setcat('doors', doors_cat)"
   ]
  },
  {
   "cell_type": "markdown",
   "metadata": {},
   "source": [
    "# TODO make graphs subplot"
   ]
  },
  {
   "cell_type": "code",
   "execution_count": 61,
   "metadata": {
    "collapsed": false
   },
   "outputs": [
    {
     "data": {
      "image/png": "[encoded data removed]",
      "text/plain": [
       "<matplotlib.figure.Figure at 0xf5f1748>"
      ]
     },
     "metadata": {},
     "output_type": "display_data"
    }
   ],
   "source": [
    "def feature_bargraph(feature):\n",
    "    import collections\n",
    "    x = collections.Counter(feature)\n",
    "    l = range(len(x.keys()))\n",
    "    plt.bar(l, x.values(), align='center')\n",
    "    plt.xticks(l, x.keys())\n",
    "    \n",
    "feature_bargraph(df['buying'])"
   ]
  },
  {
   "cell_type": "code",
   "execution_count": 62,
   "metadata": {
    "collapsed": false
   },
   "outputs": [
    {
     "data": {
      "image/png": "[encoded data removed]",
      "text/plain": [
       "<matplotlib.figure.Figure at 0xfbdb5f8>"
      ]
     },
     "metadata": {},
     "output_type": "display_data"
    }
   ],
   "source": [
    "feature_bargraph(df['maint'])"
   ]
  },
  {
   "cell_type": "code",
   "execution_count": 63,
   "metadata": {
    "collapsed": false
   },
   "outputs": [
    {
     "data": {
      "image/png": "[encoded data removed]",
      "text/plain": [
       "<matplotlib.figure.Figure at 0xfdc4358>"
      ]
     },
     "metadata": {},
     "output_type": "display_data"
    }
   ],
   "source": [
    "feature_bargraph(df['safety'])"
   ]
  },
  {
   "cell_type": "code",
   "execution_count": 64,
   "metadata": {
    "collapsed": false
   },
   "outputs": [
    {
     "data": {
      "image/png": "[encoded data removed]",
      "text/plain": [
       "<matplotlib.figure.Figure at 0xfb5d1d0>"
      ]
     },
     "metadata": {},
     "output_type": "display_data"
    }
   ],
   "source": [
    "feature_bargraph(df['doors'])"
   ]
  },
  {
   "cell_type": "markdown",
   "metadata": {},
   "source": [
    "# Regression Line Plotting"
   ]
  },
  {
   "cell_type": "markdown",
   "metadata": {},
   "source": [
    "Plot your results from the linear regression in homework 5 and 7 (for any of the provided data sets).  The plot should include.  1) a scatter of the points in the .csv file 2) a line showing the regression line (either from the calculation in homework 5 or line-fitting from homework 7).  3) something on the plot that specifies the equation for the regression line.  "
   ]
  },
  {
   "cell_type": "code",
   "execution_count": 3,
   "metadata": {
    "collapsed": false
   },
   "outputs": [
    {
     "name": "stdout",
     "output_type": "stream",
     "text": [
      "Use online csv file? y/n : y\n"
     ]
    }
   ],
   "source": [
    "import sys\n",
    "import Tkinter\n",
    "import tkFileDialog\n",
    "import pandas\n",
    "import matplotlib.pyplot as plt\n",
    "import matplotlib\n",
    "matplotlib.style.use('ggplot')\n",
    "\n",
    "s = raw_input('Use online csv file? y/n : ')"
   ]
  },
  {
   "cell_type": "code",
   "execution_count": 4,
   "metadata": {
    "collapsed": true
   },
   "outputs": [],
   "source": [
    "if s.lower() == 'y':\n",
    "    df = pandas.read_csv(\"https://raw.githubusercontent.com/ChristopheHunt/MSDA---Coursework\" +\n",
    "                \"/master/Data%20602/Data%20602%20-%20Advanced%20Programming/\" +\n",
    "                \"data/brainandbody.csv\", index_col=False)\n",
    "\n",
    "elif s.lower() == 'n':\n",
    "    root = Tkinter.Tk()\n",
    "    filename = tkFileDialog.askopenfilename(parent=root)\n",
    "    df = pandas.read_csv(filename)\n",
    "    root.withdraw()\n",
    "\n",
    "else:\n",
    "    print \"input was not in y/n format\"\n",
    "    sys.exit(\"End\")\n"
   ]
  },
  {
   "cell_type": "code",
   "execution_count": 6,
   "metadata": {
    "collapsed": false
   },
   "outputs": [
    {
     "name": "stdout",
     "output_type": "stream",
     "text": [
      "Select X value from columns [animal, body, brain]: body\n",
      "Select Y value from columns [animal, body, brain]: brain\n",
      "The least squares regression is : y = 0.966x + 91.0\n"
     ]
    },
    {
     "data": {
      "image/png": "[encoded data removed]",
      "text/plain": [
       "<matplotlib.figure.Figure at 0x9cb8be0>"
      ]
     },
     "metadata": {},
     "output_type": "display_data"
    }
   ],
   "source": [
    "df.columns = ['animal', 'body', 'brain']\n",
    "\n",
    "def LinearRegression(dataframe):\n",
    "    df = dataframe\n",
    "    column_names = df.columns.values\n",
    "    column_name = ', '.join(column_names)\n",
    "\n",
    "    x_input = raw_input('Select X value from columns [%s]: ' % column_name)\n",
    "    if not x_input.lower() in column_names:\n",
    "        sys.exit(\"not a column value......end\")\n",
    "\n",
    "    y_input = raw_input('Select Y value from columns [%s]: ' % column_name)\n",
    "    if not y_input.lower() in column_names:\n",
    "        sys.exit(\"not a column value......end\")\n",
    "\n",
    "    x_value = x_input.lower()\n",
    "    y_value = y_input.lower()\n",
    "\n",
    "    mean_x = float(sum(df[x_value])/ len(df[x_value]))\n",
    "    mean_y = float(sum(df[y_value])/ len(df[y_value]))\n",
    "\n",
    "    df['X-mean_x'] = df[x_value] - mean_x\n",
    "    df['Y-mean_y'] = df[y_value] - mean_y\n",
    "    df['X-mean_x * Y-mean_y'] = df['X-mean_x'] * df['Y-mean_y']\n",
    "    df['X-mean_x^2'] = df['X-mean_x']  * df['X-mean_x']\n",
    "    slope = float(sum(df['X-mean_x * Y-mean_y'])/sum(df['X-mean_x^2']))\n",
    "    intercept = float((mean_y - slope*mean_x))\n",
    "\n",
    "    equation = (\"y = %sx + %s\" % (round(slope, 3), round(intercept,2)))\n",
    "    print \"The least squares regression is : \" + equation\n",
    "\n",
    "    ## Plotting the line\n",
    "    df['Linear Regression'] = ((slope*df[x_value])+ intercept)\n",
    "    ax = df.plot(y = 'Linear Regression', x = x_value, label = equation)\n",
    "    df.plot(kind = 'scatter',  y = y_value, x = x_value, ax = ax)\n",
    "    plt.show()\n",
    "\n",
    "\n",
    "LinearRegression(df)"
   ]
  },
  {
   "cell_type": "code",
   "execution_count": null,
   "metadata": {
    "collapsed": true
   },
   "outputs": [],
   "source": []
  }
 ],
 "metadata": {
  "kernelspec": {
   "display_name": "Python 2",
   "language": "python",
   "name": "python2"
  },
  "language_info": {
   "codemirror_mode": {
    "name": "ipython",
    "version": 2
   },
   "file_extension": ".py",
   "mimetype": "text/x-python",
   "name": "python",
   "nbconvert_exporter": "python",
   "pygments_lexer": "ipython2",
   "version": "2.7.11"
  }
 },
 "nbformat": 4,
 "nbformat_minor": 0
}
