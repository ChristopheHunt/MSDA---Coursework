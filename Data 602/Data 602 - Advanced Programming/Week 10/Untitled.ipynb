{
 "cells": [
  {
   "cell_type": "code",
   "execution_count": 1,
   "metadata": {
    "collapsed": false
   },
   "outputs": [
    {
     "name": "stdout",
     "output_type": "stream",
     "text": [
      "Use online csv file? y/n : y\n"
     ]
    }
   ],
   "source": [
    "import requests\n",
    "import csv\n",
    "import pandas \n",
    "import Tkinter\n",
    "import tkFileDialog\n",
    "import sys\n",
    "\n",
    "#buying       v-high, high, med, low\n",
    "#maint        v-high, high, med, low\n",
    "#doors        2, 3, 4, 5-more\n",
    "#persons      2, 4, more\n",
    "#lug_boot     small, med, big\n",
    "#safety       low, med, high\n",
    "#class        unacc, acc, good, vgood\n",
    "    \n",
    "s = raw_input('Use online csv file? y/n : ')\n",
    "\n",
    "if s.lower() == 'y': \n",
    "    df = pandas.read_csv(\"https://raw.githubusercontent.com/ChristopheHunt/MSDA\" + \n",
    "                         \"---Coursework/master/Data%20602/\" + \n",
    "                         \"Data%20602%20-%20Advanced%20Programming/\" + \n",
    "                         \"data/cars.data.csv\", \n",
    "                         header=None, index_col=False)\n",
    "elif s.lower() == 'n':\n",
    "    root = Tkinter.Tk()\n",
    "    filename = tkFileDialog.askopenfilename(parent=root) \n",
    "    df = pandas.read_csv(filename)\n",
    "    root.withdraw()\n",
    "    \n",
    "else: \n",
    "    print \"input was not in a y/n format\"\n",
    "\n",
    "df.columns = [ 'buying', 'maint', 'doors','persons','lug_boot', 'safety', 'class']\n",
    "df = df.apply(lambda df: df.astype('category')) \n",
    "\n",
    "safety_cat = ['low','med','high']\n",
    "maint_cat = ['low','med','high','vhigh']\n",
    "doors_cat = ['2','3','4','5more']"
   ]
  },
  {
   "cell_type": "code",
   "execution_count": 2,
   "metadata": {
    "collapsed": true
   },
   "outputs": [],
   "source": [
    "def columncheck(column, listvalues):\n",
    "    check = list(set(pandas.unique(df[column].ravel())) - set(listvalues))\n",
    "    if check != []:\n",
    "       s = raw_input(\"%s column contains unexpected values:%s, this will be converted to NaN. Continue? y/n : \" \n",
    "                     % (column, check))\n",
    "       if s.lower() != 'y':\n",
    "          sys.exit(\"End\") \n",
    "\n",
    "columncheck('safety', safety_cat)\n",
    "columncheck('maint', maint_cat)\n",
    "columncheck('doors', doors_cat)"
   ]
  },
  {
   "cell_type": "code",
   "execution_count": 3,
   "metadata": {
    "collapsed": true
   },
   "outputs": [],
   "source": [
    "def setcat(column, listvalues):\n",
    "    df[column].cat.set_categories(listvalues, inplace = True)\n",
    "    \n",
    "setcat('safety', safety_cat)\n",
    "setcat('maint', maint_cat)\n",
    "setcat('doors', doors_cat)"
   ]
  },
  {
   "cell_type": "code",
   "execution_count": 5,
   "metadata": {
    "collapsed": false
   },
   "outputs": [
    {
     "name": "stdout",
     "output_type": "stream",
     "text": [
      "     buying  maint  doors persons lug_boot safety  class\n",
      "0      high   high      2       4      med    low  unacc\n",
      "578   vhigh    low      2       4    small    med  unacc\n",
      "1240  vhigh    low      2    more      big    low  unacc\n",
      "572    high   high      2       4      big    low  unacc\n",
      "557   vhigh    low      2       4      big    low  unacc\n",
      "556    high   high      2       4      med   high    acc\n",
      "550    high    med      2       2      big    low  unacc\n",
      "1116    med   high      2       4      med    low  unacc\n",
      "542   vhigh   high      2       4    small    low  unacc\n",
      "540     low    low      2    more      big   high  vgood\n",
      "539     low   high      2    more      med   high    acc\n",
      "1253  vhigh   high      2       4      big    low  unacc\n",
      "522     med    low      2       2      med   high  unacc\n",
      "1259   high    low      2       2    small    low  unacc\n",
      "512     med   high      2       4      big    low  unacc\n",
      "503     low  vhigh      2       2      big    low  unacc\n",
      "502     med   high      2    more      big   high    acc\n",
      "1264  vhigh   high      2    more      med   high  unacc\n",
      "496     med    med      2       4      big   high  vgood\n",
      "493   vhigh   high      2       2      big   high  unacc\n",
      "491    high   high      2       2    small    med  unacc\n",
      "490   vhigh   high      2    more    small   high  unacc\n",
      "485     low    med      2       2      big   high  unacc\n",
      "1269  vhigh    low      2       2      med    low  unacc\n",
      "583     low   high      2    more      big    low  unacc\n",
      "1272  vhigh    low      2       4      med   high    acc\n",
      "585    high  vhigh      2       2      big   high  unacc\n",
      "594     low   high      2    more      big   high  vgood\n",
      "685   vhigh    low      2       4      big    med    acc\n",
      "680   vhigh   high      2       2    small    low  unacc\n",
      "...     ...    ...    ...     ...      ...    ...    ...\n",
      "660    high   high  5more       4      big    med    acc\n",
      "672   vhigh   high  5more       4    small    med  unacc\n",
      "683     med  vhigh  5more       4    small    low  unacc\n",
      "827    high    med  5more       2      med    low  unacc\n",
      "825   vhigh  vhigh  5more    more    small   high  unacc\n",
      "808   vhigh    low  5more    more    small   high    acc\n",
      "807     med  vhigh  5more    more    small    low  unacc\n",
      "806   vhigh    low  5more       2      big    med  unacc\n",
      "805     med  vhigh  5more       4    small   high    acc\n",
      "787     med   high  5more       4      med   high    acc\n",
      "783    high    med  5more       4    small   high    acc\n",
      "779     med    med  5more       4      big   high  vgood\n",
      "775   vhigh  vhigh  5more       2    small    low  unacc\n",
      "768   vhigh   high  5more       4      med   high  unacc\n",
      "765    high    med  5more       2      big    low  unacc\n",
      "751   vhigh    med  5more       2    small   high  unacc\n",
      "749   vhigh   high  5more       2      med   high  unacc\n",
      "745     low   high  5more    more      med   high  vgood\n",
      "744    high    med  5more    more      med    low  unacc\n",
      "743    high    low  5more    more      big    med    acc\n",
      "731     low   high  5more       4      med   high  vgood\n",
      "730   vhigh    med  5more       2      big    low  unacc\n",
      "729     med    low  5more    more      med   high  vgood\n",
      "722     low  vhigh  5more       2      med    med  unacc\n",
      "710     low   high  5more       4    small   high    acc\n",
      "697    high  vhigh  5more       4    small    low  unacc\n",
      "692     low   high  5more       4      med    med    acc\n",
      "684    high    low  5more       4      med   high    acc\n",
      "845   vhigh   high  5more       2      big    med  unacc\n",
      "1386    med    med  5more       2      med   high  unacc\n",
      "\n",
      "[1146 rows x 7 columns]\n",
      "Press Enter to continue...  \n"
     ]
    },
    {
     "data": {
      "text/plain": [
       "''"
      ]
     },
     "execution_count": 5,
     "metadata": {},
     "output_type": "execute_result"
    }
   ],
   "source": [
    "#Print to the console all rows that are high or vhigh in fields 'buying', 'maint', and 'safety', \n",
    "# sorted by 'doors' in ascending order.  Find these matches using regular expressions.\n",
    "mask = df[['buying', 'maint','safety']].apply(lambda column: column.str.contains('vhigh|high', regex=True)).any(axis=1)\n",
    "results = df[mask].sort_values(by = 'doors', ascending = [1])\n",
    "print results\n",
    "raw_input(\"Press Enter to continue...  \")"
   ]
  },
  {
   "cell_type": "markdown",
   "metadata": {},
   "source": [
    "Express the cars.data.csv data as a series of bar graphs.  The x-axis represents a feature and the y-axis is the frequency in the sample.  Do this with the 'buying', 'maint', 'safety', and 'doors' fields with one plot for each for a total of four.  Make each graph a subplot of a single output.  "
   ]
  },
  {
   "cell_type": "code",
   "execution_count": null,
   "metadata": {
    "collapsed": true
   },
   "outputs": [],
   "source": []
  }
 ],
 "metadata": {
  "kernelspec": {
   "display_name": "Python 2",
   "language": "python",
   "name": "python2"
  },
  "language_info": {
   "codemirror_mode": {
    "name": "ipython",
    "version": 2
   },
   "file_extension": ".py",
   "mimetype": "text/x-python",
   "name": "python",
   "nbconvert_exporter": "python",
   "pygments_lexer": "ipython2",
   "version": "2.7.11"
  }
 },
 "nbformat": 4,
 "nbformat_minor": 0
}
