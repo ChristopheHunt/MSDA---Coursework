{
 "cells": [
  {
   "cell_type": "code",
   "execution_count": 6,
   "metadata": {
    "collapsed": false
   },
   "outputs": [],
   "source": [
    "import numpy as np\n",
    "import matplotlib.pyplot as mpl\n",
    "import scipy.ndimage as ndimage\n",
    "import skimage.filters as skif\n",
    "# Generating data points with a non-uniform background\n",
    "x = np.random.uniform(low=0, high=100, size=20).astype(int)\n",
    "y = np.random.uniform(low=0, high=100, size=20).astype(int)\n",
    "# Creating image with non-uniform background\n",
    "func = lambda x, y: x**2 + y**2\n",
    "grid_x, grid_y = np.mgrid[-1:1:100j, -2:2:100j]\n",
    "bkg = func(grid_x, grid_y)\n",
    "bkg = bkg / np.max(bkg)\n",
    "# Creating points\n",
    "clean = np.zeros((100,100))\n",
    "clean[(x,y)] += 5\n",
    "clean = ndimage.gaussian_filter(clean, 3)\n",
    "clean = clean / np.max(clean)\n",
    "# Combining both the non-uniform background\n",
    "# and points\n",
    "fimg = bkg + clean\n",
    "fimg = fimg / np.max(fimg)\n",
    "# Defining minimum neighboring size of objects\n",
    "block_size = 3\n",
    "# Adaptive threshold function which returns image\n",
    "# map of structures that are different relative to\n",
    "# background\n",
    "adaptive_cut = skif.threshold_adaptive(fimg, block_size, offset=0)\n",
    "# Global threshold\n",
    "global_thresh = skif.threshold_otsu(fimg)\n",
    "global_cut = fimg > global_thresh\n",
    "# Creating figure to highlight difference between\n",
    "# adaptive and global threshold methods\n",
    "fig = mpl.figure(figsize=(8, 4))\n",
    "fig.subplots_adjust(hspace=0.05, wspace=0.05)\n",
    "ax1 = fig.add_subplot(131)\n",
    "ax1.imshow(fimg)\n",
    "ax1.xaxis.set_visible(False)\n",
    "ax1.yaxis.set_visible(False)\n",
    "ax2 = fig.add_subplot(132)\n",
    "ax2.imshow(global_cut)\n",
    "ax2.xaxis.set_visible(False)\n",
    "ax2.yaxis.set_visible(False)\n",
    "ax3 = fig.add_subplot(133)\n",
    "ax3.imshow(adaptive_cut)\n",
    "ax3.xaxis.set_visible(False)\n",
    "ax3.yaxis.set_visible(False)\n",
    "fig.savefig('scikit_image_f01.pdf', bbox_inches='tight')"
   ]
  },
  {
   "cell_type": "code",
   "execution_count": 8,
   "metadata": {
    "collapsed": false
   },
   "outputs": [
    {
     "ename": "AttributeError",
     "evalue": "'str' object has no attribute 'shape'",
     "output_type": "error",
     "traceback": [
      "\u001b[1;31m---------------------------------------------------------------------------\u001b[0m",
      "\u001b[1;31mAttributeError\u001b[0m                            Traceback (most recent call last)",
      "\u001b[1;32m<ipython-input-8-c22323c590c0>\u001b[0m in \u001b[0;36m<module>\u001b[1;34m()\u001b[0m\n\u001b[0;32m      7\u001b[0m \u001b[0mimage\u001b[0m \u001b[1;33m=\u001b[0m \u001b[1;34m'peppers.png'\u001b[0m\u001b[1;33m\u001b[0m\u001b[0m\n\u001b[0;32m      8\u001b[0m \u001b[1;33m\u001b[0m\u001b[0m\n\u001b[1;32m----> 9\u001b[1;33m \u001b[0mglobal_thresh\u001b[0m \u001b[1;33m=\u001b[0m \u001b[0mthreshold_otsu\u001b[0m\u001b[1;33m(\u001b[0m\u001b[0mimage\u001b[0m\u001b[1;33m)\u001b[0m\u001b[1;33m\u001b[0m\u001b[0m\n\u001b[0m\u001b[0;32m     10\u001b[0m \u001b[0mbinary_global\u001b[0m \u001b[1;33m=\u001b[0m \u001b[0mimage\u001b[0m \u001b[1;33m>\u001b[0m \u001b[0mglobal_thresh\u001b[0m\u001b[1;33m\u001b[0m\u001b[0m\n\u001b[0;32m     11\u001b[0m \u001b[1;33m\u001b[0m\u001b[0m\n",
      "\u001b[1;32mC:\\Anaconda\\lib\\site-packages\\skimage\\filters\\thresholding.pyc\u001b[0m in \u001b[0;36mthreshold_otsu\u001b[1;34m(image, nbins)\u001b[0m\n\u001b[0;32m    127\u001b[0m     \u001b[0mThe\u001b[0m \u001b[0minput\u001b[0m \u001b[0mimage\u001b[0m \u001b[0mmust\u001b[0m \u001b[0mbe\u001b[0m \u001b[0mgrayscale\u001b[0m\u001b[1;33m.\u001b[0m\u001b[1;33m\u001b[0m\u001b[0m\n\u001b[0;32m    128\u001b[0m     \"\"\"\n\u001b[1;32m--> 129\u001b[1;33m     \u001b[1;32mif\u001b[0m \u001b[0mimage\u001b[0m\u001b[1;33m.\u001b[0m\u001b[0mshape\u001b[0m\u001b[1;33m[\u001b[0m\u001b[1;33m-\u001b[0m\u001b[1;36m1\u001b[0m\u001b[1;33m]\u001b[0m \u001b[1;32min\u001b[0m \u001b[1;33m(\u001b[0m\u001b[1;36m3\u001b[0m\u001b[1;33m,\u001b[0m \u001b[1;36m4\u001b[0m\u001b[1;33m)\u001b[0m\u001b[1;33m:\u001b[0m\u001b[1;33m\u001b[0m\u001b[0m\n\u001b[0m\u001b[0;32m    130\u001b[0m         \u001b[0mmsg\u001b[0m \u001b[1;33m=\u001b[0m \u001b[1;34m\"threshold_otsu is expected to work correctly only for \"\u001b[0m\u001b[0;31m \u001b[0m\u001b[0;31m\\\u001b[0m\u001b[1;33m\u001b[0m\u001b[0m\n\u001b[0;32m    131\u001b[0m               \u001b[1;34m\"grayscale images; image shape {0} looks like an RGB image\"\u001b[0m\u001b[1;33m\u001b[0m\u001b[0m\n",
      "\u001b[1;31mAttributeError\u001b[0m: 'str' object has no attribute 'shape'"
     ]
    }
   ],
   "source": [
    "import matplotlib.pyplot as plt\n",
    "\n",
    "from skimage import data\n",
    "from skimage.filters import threshold_otsu, threshold_adaptive\n",
    "\n",
    "image = data.page()\n",
    "\n",
    "global_thresh = threshold_otsu(image)\n",
    "binary_global = image > global_thresh\n",
    "\n",
    "block_size = 40\n",
    "binary_adaptive = threshold_adaptive(image, block_size, offset=10)\n",
    "\n",
    "fig, axes = plt.subplots(nrows=3, figsize=(7, 8))\n",
    "ax0, ax1, ax2 = axes\n",
    "plt.gray()\n",
    "\n",
    "ax0.imshow(image)\n",
    "ax0.set_title('Image')\n",
    "\n",
    "ax1.imshow(binary_global)\n",
    "ax1.set_title('Global thresholding')\n",
    "\n",
    "ax2.imshow(binary_adaptive)\n",
    "ax2.set_title('Adaptive thresholding')\n",
    "\n",
    "for ax in axes:\n",
    "    ax.axis('off')\n",
    "\n",
    "plt.show()"
   ]
  },
  {
   "cell_type": "code",
   "execution_count": 4,
   "metadata": {
    "collapsed": false
   },
   "outputs": [
    {
     "ename": "AttributeError",
     "evalue": "'module' object has no attribute 'open'",
     "output_type": "error",
     "traceback": [
      "\u001b[1;31m---------------------------------------------------------------------------\u001b[0m",
      "\u001b[1;31mAttributeError\u001b[0m                            Traceback (most recent call last)",
      "\u001b[1;32m<ipython-input-4-1c0d5ab463cb>\u001b[0m in \u001b[0;36m<module>\u001b[1;34m()\u001b[0m\n\u001b[0;32m      1\u001b[0m \u001b[1;32mimport\u001b[0m \u001b[0mimage\u001b[0m\u001b[1;33m\u001b[0m\u001b[0m\n\u001b[1;32m----> 2\u001b[1;33m \u001b[0mimage\u001b[0m\u001b[1;33m.\u001b[0m\u001b[0mopen\u001b[0m\u001b[1;33m(\u001b[0m\u001b[1;34m\"peppers.png\"\u001b[0m\u001b[1;33m)\u001b[0m\u001b[1;33m\u001b[0m\u001b[0m\n\u001b[0m",
      "\u001b[1;31mAttributeError\u001b[0m: 'module' object has no attribute 'open'"
     ]
    }
   ],
   "source": [
    "import image \n",
    "image.open(\"peppers.png\")"
   ]
  },
  {
   "cell_type": "code",
   "execution_count": null,
   "metadata": {
    "collapsed": true
   },
   "outputs": [],
   "source": []
  }
 ],
 "metadata": {
  "kernelspec": {
   "display_name": "Python 2",
   "language": "python",
   "name": "python2"
  },
  "language_info": {
   "codemirror_mode": {
    "name": "ipython",
    "version": 2
   },
   "file_extension": ".py",
   "mimetype": "text/x-python",
   "name": "python",
   "nbconvert_exporter": "python",
   "pygments_lexer": "ipython2",
   "version": "2.7.11"
  }
 },
 "nbformat": 4,
 "nbformat_minor": 0
}
