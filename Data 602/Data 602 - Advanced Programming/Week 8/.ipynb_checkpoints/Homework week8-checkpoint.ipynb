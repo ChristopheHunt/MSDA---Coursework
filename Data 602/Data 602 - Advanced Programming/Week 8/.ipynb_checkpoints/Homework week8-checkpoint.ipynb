{
 "cells": [
  {
   "cell_type": "code",
   "execution_count": 1,
   "metadata": {
    "collapsed": false
   },
   "outputs": [],
   "source": [
    "import matplotlib\n",
    "import matplotlib.pyplot as plt\n",
    "from skimage.filters import threshold_otsu\n",
    "import Tkinter\n",
    "import tkFileDialog\n",
    "import scipy\n",
    "import numpy as np\n",
    "import Image\n",
    "import os\n",
    "import pylab\n",
    "import mahotas as mh\n",
    "\n",
    "def image_threshold(): \n",
    "    root = Tkinter.Tk()\n",
    "    filename = tkFileDialog.askopenfilename(parent=root) \n",
    "    image_name = os.path.basename(filename)\n",
    "    img = Image.open(filename).convert('L')\n",
    "    root.withdraw()\n",
    "\n",
    "    arr = np.array(img)\n",
    "    thresh = threshold_otsu(arr)\n",
    "    binary = arr > thresh\n",
    "\n",
    "    fig = plt.figure(figsize=(8, 2.5))\n",
    "    ax1 = plt.subplot(1, 3, 1, adjustable='box-forced')\n",
    "    ax2 = plt.subplot(1, 3, 2, sharex=ax1, sharey=ax1, adjustable='box-forced')\n",
    "\n",
    "    ax1.imshow(arr, cmap=plt.cm.gray)\n",
    "    ax1.set_title((\"Original \" + image_name))\n",
    "    ax1.axis('off')\n",
    "\n",
    "    ax2.imshow(binary, cmap=plt.cm.gray)\n",
    "    ax2.set_title((\"Thresholded \" + image_name))\n",
    "    ax2.axis('off')\n",
    "\n",
    "    matplotlib.pyplot.show()"
   ]
  },
  {
   "cell_type": "code",
   "execution_count": 2,
   "metadata": {
    "collapsed": false
   },
   "outputs": [],
   "source": [
    "image_threshold()"
   ]
  },
  {
   "cell_type": "code",
   "execution_count": 5,
   "metadata": {
    "collapsed": true
   },
   "outputs": [],
   "source": [
    "def count_objects():\n",
    "\n",
    "    root = Tkinter.Tk()\n",
    "    filename = tkFileDialog.askopenfilename(parent=root) \n",
    "    image_name = os.path.basename(filename)\n",
    "    img = scipy.misc.imread(filename, flatten = True)\n",
    "    root.withdraw()\n",
    "    imgf = scipy.ndimage.gaussian_filter(img, 4) \n",
    "    T = 100\n",
    "    labeled, nr_objects = scipy.ndimage.label(imgf > T) \n",
    "    matplotlib.pyplot.imshow(labeled) \n",
    "    matplotlib.pyplot.show()\n",
    "    print \"Number of objects is %d \" % nr_objects"
   ]
  },
  {
   "cell_type": "code",
   "execution_count": 6,
   "metadata": {
    "collapsed": false
   },
   "outputs": [
    {
     "name": "stdout",
     "output_type": "stream",
     "text": [
      "Number of objects is 10 \n"
     ]
    }
   ],
   "source": [
    "count_objects()"
   ]
  },
  {
   "cell_type": "code",
   "execution_count": 33,
   "metadata": {
    "collapsed": true
   },
   "outputs": [],
   "source": [
    "def show_corners(corners,image,title=None):\n",
    "    \"\"\"Display a list of corners overlapping an image\"\"\"\n",
    "    fig = plt.figure()\n",
    "    plt.imshow(image)\n",
    "    # Convert coordinates to x and y lists\n",
    "    y_corner,x_corner = zip(*corners)\n",
    "    plt.plot(x_corner,y_corner,'o') # Plot corners\n",
    "    if title:\n",
    "        plt.title(title)\n",
    "    plt.xlim(0,image.shape[1])\n",
    "    plt.ylim(image.shape[0],0) # Images use weird axes\n",
    "    fig.set_size_inches(np.array(fig.get_size_inches()) * 1.5)\n",
    "    plt.show()"
   ]
  },
  {
   "cell_type": "code",
   "execution_count": 56,
   "metadata": {
    "collapsed": true
   },
   "outputs": [],
   "source": [
    "def find_center(): \n",
    "    from skimage.feature import corner_harris,corner_peaks\n",
    "    \n",
    "    root = Tkinter.Tk()\n",
    "    filename = tkFileDialog.askopenfilename(parent=root) \n",
    "    image_name = os.path.basename(filename)\n",
    "    img = scipy.misc.imread(filename, flatten = True)\n",
    "    root.withdraw()\n",
    "    imgf = scipy.ndimage.filters.gaussian_filter(img, 34)\n",
    "    rmax = mh.regmax(imgf)\n",
    "    matplotlib.pyplot.imshow(mh.overlay(img,rmax))\n",
    "    matplotlib.pyplot.show()\n",
    "    centers, nr_objects = mh.label(rmax)\n",
    "    plt.imshow(centers, cmap='Greys', interpolation=\"nearest\")\n",
    "    matplotlib.pyplot.show()\n",
    " "
   ]
  },
  {
   "cell_type": "code",
   "execution_count": 57,
   "metadata": {
    "collapsed": false
   },
   "outputs": [],
   "source": [
    "find_center()"
   ]
  },
  {
   "cell_type": "code",
   "execution_count": null,
   "metadata": {
    "collapsed": true
   },
   "outputs": [],
   "source": []
  }
 ],
 "metadata": {
  "kernelspec": {
   "display_name": "Python 2",
   "language": "python",
   "name": "python2"
  },
  "language_info": {
   "codemirror_mode": {
    "name": "ipython",
    "version": 2
   },
   "file_extension": ".py",
   "mimetype": "text/x-python",
   "name": "python",
   "nbconvert_exporter": "python",
   "pygments_lexer": "ipython2",
   "version": "2.7.11"
  }
 },
 "nbformat": 4,
 "nbformat_minor": 0
}
