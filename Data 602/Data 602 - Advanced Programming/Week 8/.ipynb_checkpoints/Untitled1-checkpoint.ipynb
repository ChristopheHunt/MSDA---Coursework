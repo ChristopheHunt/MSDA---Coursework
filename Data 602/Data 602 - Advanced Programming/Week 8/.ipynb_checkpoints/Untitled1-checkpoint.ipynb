{
 "cells": [
  {
   "cell_type": "code",
   "execution_count": 26,
   "metadata": {
    "collapsed": false
   },
   "outputs": [],
   "source": [
    "import matplotlib\n",
    "import matplotlib.pyplot as plt\n",
    "from skimage.filters import threshold_otsu\n",
    "import numpy as np\n",
    "import Image\n",
    "\n",
    "img = Image.open('circles.png').convert('L')\n",
    "arr = np.array(img)\n",
    "\n",
    "thresh = threshold_otsu(arr)\n",
    "binary = arr > thresh"
   ]
  },
  {
   "cell_type": "code",
   "execution_count": 27,
   "metadata": {
    "collapsed": false
   },
   "outputs": [],
   "source": [
    "#fig, (ax1, ax2, ax3) = plt.subplots(1, 3, figsize=(8, 2.5))\n",
    "fig = plt.figure(figsize=(8, 2.5))\n",
    "ax1 = plt.subplot(1, 3, 1, adjustable='box-forced')\n",
    "ax2 = plt.subplot(1, 3, 2, sharex=ax1, sharey=ax1, adjustable='box-forced')\n",
    "\n",
    "ax1.imshow(arr, cmap=plt.cm.gray)\n",
    "ax1.set_title('Original Circles')\n",
    "ax1.axis('off')\n",
    "\n",
    "ax2.imshow(binary, cmap=plt.cm.gray)\n",
    "ax2.set_title('Thresholded Circles')\n",
    "ax2.axis('off')\n",
    "\n",
    "plt.show()"
   ]
  },
  {
   "cell_type": "code",
   "execution_count": 22,
   "metadata": {
    "collapsed": false
   },
   "outputs": [
    {
     "name": "stderr",
     "output_type": "stream",
     "text": [
      "C:\\Anaconda\\lib\\site-packages\\skimage\\filters\\thresholding.py:132: UserWarning: threshold_otsu is expected to work correctly only for grayscale images; image shape (512L, 585L, 3L) looks like an RGB image\n",
      "  warn(msg.format(image.shape))\n"
     ]
    }
   ],
   "source": [
    "img = Image.open('objects.png')\n",
    "arr = np.array(img)\n",
    "\n",
    "thresh = threshold_otsu(arr)\n",
    "binary = arr > thresh\n",
    "\n",
    "#fig, (ax1, ax2, ax3) = plt.subplots(1, 3, figsize=(8, 2.5))\n",
    "fig = plt.figure(figsize=(8, 2.5))\n",
    "ax1 = plt.subplot(1, 3, 1, adjustable='box-forced')\n",
    "ax2 = plt.subplot(1, 3, 2, sharex=ax1, sharey=ax1, adjustable='box-forced')\n",
    "\n",
    "ax1.imshow(arr, cmap=plt.cm.gray)\n",
    "ax1.set_title('Original Objects')\n",
    "ax1.axis('off')\n",
    "\n",
    "ax2.imshow(binary, cmap=plt.cm.gray)\n",
    "ax2.set_title('Thresholded Objects')\n",
    "ax2.axis('off')\n",
    "\n",
    "plt.show()"
   ]
  },
  {
   "cell_type": "code",
   "execution_count": 28,
   "metadata": {
    "collapsed": false
   },
   "outputs": [],
   "source": [
    "img = Image.open('peppers.png').convert('L')\n",
    "arr = np.array(img)\n",
    "\n",
    "thresh = threshold_otsu(arr)\n",
    "binary = arr > thresh\n",
    "\n",
    "#fig, (ax1, ax2, ax3) = plt.subplots(1, 3, figsize=(8, 2.5))\n",
    "fig = plt.figure(figsize=(8, 2.5))\n",
    "ax1 = plt.subplot(1, 3, 1, adjustable='box-forced')\n",
    "ax2 = plt.subplot(1, 3, 2, sharex=ax1, sharey=ax1, adjustable='box-forced')\n",
    "\n",
    "ax1.imshow(arr, cmap=plt.cm.gray)\n",
    "ax1.set_title('Original Objects')\n",
    "ax1.axis('off')\n",
    "\n",
    "ax2.imshow(binary, cmap=plt.cm.gray)\n",
    "ax2.set_title('Thresholded Objects')\n",
    "ax2.axis('off')\n",
    "\n",
    "plt.show()"
   ]
  },
  {
   "cell_type": "code",
   "execution_count": null,
   "metadata": {
    "collapsed": true
   },
   "outputs": [],
   "source": []
  }
 ],
 "metadata": {
  "kernelspec": {
   "display_name": "Python 2",
   "language": "python",
   "name": "python2"
  },
  "language_info": {
   "codemirror_mode": {
    "name": "ipython",
    "version": 2
   },
   "file_extension": ".py",
   "mimetype": "text/x-python",
   "name": "python",
   "nbconvert_exporter": "python",
   "pygments_lexer": "ipython2",
   "version": "2.7.11"
  }
 },
 "nbformat": 4,
 "nbformat_minor": 0
}
