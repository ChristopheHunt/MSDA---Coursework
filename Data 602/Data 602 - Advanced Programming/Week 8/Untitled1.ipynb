{
 "cells": [
  {
   "cell_type": "code",
   "execution_count": null,
   "metadata": {
    "collapsed": false
   },
   "outputs": [],
   "source": [
    "import matplotlib\n",
    "import matplotlib.pyplot as plt\n",
    "\n",
    "from skimage.filters import threshold_otsu\n",
    "import Tkinter\n",
    "import tkFileDialog\n",
    "\n",
    "import numpy as np\n",
    "import Image\n",
    "import os\n",
    "\n",
    "def image_threshold(): \n",
    "    root = Tkinter.Tk()\n",
    "    filename = tkFileDialog.askopenfilename(parent=root) \n",
    "    image_name = os.path.basename(filename)\n",
    "    img = Image.open(filename).convert('L')\n",
    "    root.withdraw()\n",
    "\n",
    "    arr = np.array(img)\n",
    "    thresh = threshold_otsu(arr)\n",
    "    binary = arr > thresh\n",
    "\n",
    "    #fig, (ax1, ax2, ax3) = plt.subplots(1, 3, figsize=(8, 2.5))\n",
    "    fig = plt.figure(figsize=(8, 2.5))\n",
    "    ax1 = plt.subplot(1, 3, 1, adjustable='box-forced')\n",
    "    ax2 = plt.subplot(1, 3, 2, sharex=ax1, sharey=ax1, adjustable='box-forced')\n",
    "\n",
    "    ax1.imshow(arr, cmap=plt.cm.gray)\n",
    "    ax1.set_title((\"Original \" + image_name))\n",
    "    ax1.axis('off')\n",
    "\n",
    "    ax2.imshow(binary, cmap=plt.cm.gray)\n",
    "    ax2.set_title((\"Thresholded \" + image_name))\n",
    "    ax2.axis('off')\n",
    "\n",
    "    plt.show()"
   ]
  },
  {
   "cell_type": "code",
   "execution_count": null,
   "metadata": {
    "collapsed": false
   },
   "outputs": [],
   "source": [
    "image_threshold()"
   ]
  },
  {
   "cell_type": "code",
   "execution_count": 3,
   "metadata": {
    "collapsed": false
   },
   "outputs": [],
   "source": []
  },
  {
   "cell_type": "code",
   "execution_count": 4,
   "metadata": {
    "collapsed": false
   },
   "outputs": [],
   "source": [
    "img = Image.open('objects.png').convert('L')\n",
    "arr = np.array(img)\n",
    "\n",
    "thresh = threshold_otsu(arr)\n",
    "binary = arr > thresh\n",
    "\n",
    "#fig, (ax1, ax2, ax3) = plt.subplots(1, 3, figsize=(8, 2.5))\n",
    "fig = plt.figure(figsize=(8, 2.5))\n",
    "ax1 = plt.subplot(1, 3, 1, adjustable='box-forced')\n",
    "ax2 = plt.subplot(1, 3, 2, sharex=ax1, sharey=ax1, adjustable='box-forced')\n",
    "\n",
    "ax1.imshow(arr, cmap=plt.cm.gray)\n",
    "ax1.set_title('Original Objects')\n",
    "ax1.axis('off')\n",
    "\n",
    "ax2.imshow(binary, cmap=plt.cm.gray)\n",
    "ax2.set_title('Thresholded Objects')\n",
    "ax2.axis('off')\n",
    "\n",
    "plt.show()"
   ]
  },
  {
   "cell_type": "code",
   "execution_count": 5,
   "metadata": {
    "collapsed": false
   },
   "outputs": [],
   "source": [
    "img = Image.open('peppers.png').convert('L')\n",
    "arr = np.array(img)\n",
    "\n",
    "thresh = threshold_otsu(arr)\n",
    "binary = arr > thresh\n",
    "\n",
    "#fig, (ax1, ax2, ax3) = plt.subplots(1, 3, figsize=(8, 2.5))\n",
    "fig = plt.figure(figsize=(8, 2.5))\n",
    "ax1 = plt.subplot(1, 3, 1, adjustable='box-forced')\n",
    "ax2 = plt.subplot(1, 3, 2, sharex=ax1, sharey=ax1, adjustable='box-forced')\n",
    "\n",
    "ax1.imshow(arr, cmap=plt.cm.gray)\n",
    "ax1.set_title('Original Objects')\n",
    "ax1.axis('off')\n",
    "\n",
    "ax2.imshow(binary, cmap=plt.cm.gray)\n",
    "ax2.set_title('Thresholded Objects')\n",
    "ax2.axis('off')\n",
    "\n",
    "plt.show()"
   ]
  },
  {
   "cell_type": "code",
   "execution_count": null,
   "metadata": {
    "collapsed": true
   },
   "outputs": [],
   "source": []
  }
 ],
 "metadata": {
  "kernelspec": {
   "display_name": "Python 2",
   "language": "python",
   "name": "python2"
  },
  "language_info": {
   "codemirror_mode": {
    "name": "ipython",
    "version": 2
   },
   "file_extension": ".py",
   "mimetype": "text/x-python",
   "name": "python",
   "nbconvert_exporter": "python",
   "pygments_lexer": "ipython2",
   "version": "2.7.11"
  }
 },
 "nbformat": 4,
 "nbformat_minor": 0
}
