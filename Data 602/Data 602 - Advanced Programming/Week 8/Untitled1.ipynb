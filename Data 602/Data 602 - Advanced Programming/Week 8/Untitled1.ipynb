{
 "cells": [
  {
   "cell_type": "code",
   "execution_count": 67,
   "metadata": {
    "collapsed": false
   },
   "outputs": [],
   "source": [
    "import matplotlib\n",
    "import matplotlib.pyplot as plt\n",
    "\n",
    "from skimage.filters import threshold_otsu\n",
    "import Tkinter\n",
    "import tkFileDialog\n",
    "\n",
    "import scipy\n",
    "from scipy import ndimage\n",
    "\n",
    "import numpy as np\n",
    "import Image\n",
    "import os\n",
    "\n",
    "def image_threshold(): \n",
    "    root = Tkinter.Tk()\n",
    "    filename = tkFileDialog.askopenfilename(parent=root) \n",
    "    image_name = os.path.basename(filename)\n",
    "    img = Image.open(filename).convert('L')\n",
    "    root.withdraw()\n",
    "\n",
    "    arr = np.array(img)\n",
    "    thresh = threshold_otsu(arr)\n",
    "    binary = arr > thresh\n",
    "\n",
    "    #fig, (ax1, ax2, ax3) = plt.subplots(1, 3, figsize=(8, 2.5))\n",
    "    fig = plt.figure(figsize=(8, 2.5))\n",
    "    ax1 = plt.subplot(1, 3, 1, adjustable='box-forced')\n",
    "    ax2 = plt.subplot(1, 3, 2, sharex=ax1, sharey=ax1, adjustable='box-forced')\n",
    "\n",
    "    ax1.imshow(arr, cmap=plt.cm.gray)\n",
    "    ax1.set_title((\"Original \" + image_name))\n",
    "    ax1.axis('off')\n",
    "\n",
    "    ax2.imshow(binary, cmap=plt.cm.gray)\n",
    "    ax2.set_title((\"Thresholded \" + image_name))\n",
    "    ax2.axis('off')\n",
    "\n",
    "    plt.show()"
   ]
  },
  {
   "cell_type": "code",
   "execution_count": 68,
   "metadata": {
    "collapsed": false
   },
   "outputs": [],
   "source": [
    "image_threshold()"
   ]
  },
  {
   "cell_type": "code",
   "execution_count": 85,
   "metadata": {
    "collapsed": true
   },
   "outputs": [],
   "source": [
    "def count_objects():\n",
    "\n",
    "    root = Tkinter.Tk()\n",
    "    filename = tkFileDialog.askopenfilename(parent=root) \n",
    "    image_name = os.path.basename(filename)\n",
    "    img = scipy.misc.imread(filename)\n",
    "    root.withdraw()\n",
    "    #http://stackoverflow.com/questions/5298884/\n",
    "    #finding-number-of-colored-shapes-from-picture-using-python\n",
    "    imgf = ndimage.gaussian_filter(img, 5) \n",
    "    T = 100 #dont understand what this is doing\n",
    "    labeled, nr_objects = ndimage.label(imgf > T) #dont understand what this is doing\n",
    "    \n",
    "    print \"Number of objects is %d \" % nr_objects\n",
    "    raw_input(\"Press enter to continue....\")\n",
    "    plt.imshow(labeled) #what is this doing?\n",
    "    plt.show()"
   ]
  },
  {
   "cell_type": "code",
   "execution_count": 86,
   "metadata": {
    "collapsed": false
   },
   "outputs": [
    {
     "name": "stdout",
     "output_type": "stream",
     "text": [
      "Number of objects is 5 \n",
      "Press enter to continue....\n"
     ]
    }
   ],
   "source": [
    "count_objects()"
   ]
  },
  {
   "cell_type": "code",
   "execution_count": 97,
   "metadata": {
    "collapsed": true
   },
   "outputs": [],
   "source": [
    "def find_center(): \n",
    "    import mahotas as mh\n",
    "    root = Tkinter.Tk()\n",
    "    filename = tkFileDialog.askopenfilename(parent=root) \n",
    "    image_name = os.path.basename(filename)\n",
    "    img = scipy.misc.imread(filename)\n",
    "    root.withdraw()\n",
    "    #http://pythonvision.org/basic-tutorial/\n",
    "    imgf = ndimage.gaussian_filter(img, 10)\n",
    "    rmax = mh.regmax(imgf)\n",
    "    #plt.imshow(mh.overlay(imgf,rmax))\n",
    "    plt.show()\n",
    "    seeds,nr_objects = mh.label(rmax)\n",
    "    print nr_objects \n",
    " "
   ]
  },
  {
   "cell_type": "code",
   "execution_count": 98,
   "metadata": {
    "collapsed": false
   },
   "outputs": [
    {
     "name": "stdout",
     "output_type": "stream",
     "text": [
      "601\n"
     ]
    }
   ],
   "source": [
    "find_center()\n"
   ]
  },
  {
   "cell_type": "code",
   "execution_count": null,
   "metadata": {
    "collapsed": true
   },
   "outputs": [],
   "source": [
    "    \n",
    "    ax = df.plot(y = 'Linear Regression', x = x_value, label = equation)\n",
    "    df.plot(kind = 'scatter',  y = y_value, x = x_value, ax = ax)\n",
    "    plt.show()"
   ]
  },
  {
   "cell_type": "code",
   "execution_count": null,
   "metadata": {
    "collapsed": true
   },
   "outputs": [],
   "source": []
  }
 ],
 "metadata": {
  "kernelspec": {
   "display_name": "Python 2",
   "language": "python",
   "name": "python2"
  },
  "language_info": {
   "codemirror_mode": {
    "name": "ipython",
    "version": 2
   },
   "file_extension": ".py",
   "mimetype": "text/x-python",
   "name": "python",
   "nbconvert_exporter": "python",
   "pygments_lexer": "ipython2",
   "version": "2.7.11"
  }
 },
 "nbformat": 4,
 "nbformat_minor": 0
}
