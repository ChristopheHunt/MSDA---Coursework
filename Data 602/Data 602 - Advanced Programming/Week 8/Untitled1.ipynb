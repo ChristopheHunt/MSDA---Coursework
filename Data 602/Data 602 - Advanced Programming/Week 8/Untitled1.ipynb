{
 "cells": [
  {
   "cell_type": "code",
   "execution_count": 1,
   "metadata": {
    "collapsed": false
   },
   "outputs": [],
   "source": [
    "import matplotlib\n",
    "import matplotlib.pyplot as plt\n",
    "from skimage.filters import threshold_otsu\n",
    "import Tkinter\n",
    "import tkFileDialog\n",
    "import scipy\n",
    "import numpy as np\n",
    "import Image\n",
    "import os\n",
    "import pylab\n",
    "import mahotas as mh\n",
    "\n",
    "def image_threshold(): \n",
    "    root = Tkinter.Tk()\n",
    "    filename = tkFileDialog.askopenfilename(parent=root) \n",
    "    image_name = os.path.basename(filename)\n",
    "    img = Image.open(filename).convert('L')\n",
    "    root.withdraw()\n",
    "\n",
    "    arr = np.array(img)\n",
    "    thresh = threshold_otsu(arr)\n",
    "    binary = arr > thresh\n",
    "\n",
    "    fig = plt.figure(figsize=(8, 2.5))\n",
    "    ax1 = plt.subplot(1, 3, 1, adjustable='box-forced')\n",
    "    ax2 = plt.subplot(1, 3, 2, sharex=ax1, sharey=ax1, adjustable='box-forced')\n",
    "\n",
    "    ax1.imshow(arr, cmap=plt.cm.gray)\n",
    "    ax1.set_title((\"Original \" + image_name))\n",
    "    ax1.axis('off')\n",
    "\n",
    "    ax2.imshow(binary, cmap=plt.cm.gray)\n",
    "    ax2.set_title((\"Thresholded \" + image_name))\n",
    "    ax2.axis('off')\n",
    "\n",
    "    matplotlib.pyplot.show()"
   ]
  },
  {
   "cell_type": "code",
   "execution_count": 2,
   "metadata": {
    "collapsed": false
   },
   "outputs": [],
   "source": [
    "image_threshold()"
   ]
  },
  {
   "cell_type": "code",
   "execution_count": 3,
   "metadata": {
    "collapsed": true
   },
   "outputs": [],
   "source": [
    "def count_objects():\n",
    "\n",
    "    root = Tkinter.Tk()\n",
    "    filename = tkFileDialog.askopenfilename(parent=root) \n",
    "    image_name = os.path.basename(filename)\n",
    "    img = scipy.misc.imread(filename, flatten = True)\n",
    "    root.withdraw()\n",
    "    imgf = scipy.ndimage.gaussian_filter(img, 4) \n",
    "    T = 100\n",
    "    labeled, nr_objects = scipy.ndimage.label(imgf > T) \n",
    "\n",
    "    print \"Number of objects is %d \" % nr_objects\n",
    "    raw_input(\"Press enter to continue....\")\n",
    "    matplotlib.pyplot.imshow(labeled) \n",
    "    matplotlib.pyplot.show()"
   ]
  },
  {
   "cell_type": "code",
   "execution_count": 4,
   "metadata": {
    "collapsed": false
   },
   "outputs": [
    {
     "name": "stdout",
     "output_type": "stream",
     "text": [
      "Number of objects is 8 \n",
      "Press enter to continue....\n"
     ]
    }
   ],
   "source": [
    "count_objects()"
   ]
  },
  {
   "cell_type": "code",
   "execution_count": 26,
   "metadata": {
    "collapsed": true
   },
   "outputs": [],
   "source": [
    "def find_center(): \n",
    "    \n",
    "    root = Tkinter.Tk()\n",
    "    filename = tkFileDialog.askopenfilename(parent=root) \n",
    "    image_name = os.path.basename(filename)\n",
    "    img = scipy.misc.imread(filename, flatten = True)\n",
    "    root.withdraw()\n",
    "    #imgf = scipy.ndimage.filters.gaussian_filter(img, 16, order = 3)\n",
    "    rmax = mh.regmax(img)\n",
    "    matplotlib.pyplot.imshow(mh.overlay(img,rmax))\n",
    "    matplotlib.pyplot.show()\n",
    "    centers, nr_objects = mh.label(rmax)\n",
    "    \n",
    "    print nr_objects \n",
    " "
   ]
  },
  {
   "cell_type": "code",
   "execution_count": 27,
   "metadata": {
    "collapsed": false
   },
   "outputs": [
    {
     "name": "stdout",
     "output_type": "stream",
     "text": [
      "1646\n"
     ]
    }
   ],
   "source": [
    "find_center()"
   ]
  },
  {
   "cell_type": "code",
   "execution_count": 9,
   "metadata": {
    "collapsed": false
   },
   "outputs": [
    {
     "ename": "IndentationError",
     "evalue": "unexpected indent (<ipython-input-9-11939651eb74>, line 2)",
     "output_type": "error",
     "traceback": [
      "\u001b[1;36m  File \u001b[1;32m\"<ipython-input-9-11939651eb74>\"\u001b[1;36m, line \u001b[1;32m2\u001b[0m\n\u001b[1;33m    root = Tkinter.Tk()\u001b[0m\n\u001b[1;37m    ^\u001b[0m\n\u001b[1;31mIndentationError\u001b[0m\u001b[1;31m:\u001b[0m unexpected indent\n"
     ]
    }
   ],
   "source": [
    "import mahotas as mh\n",
    "    root = Tkinter.Tk()\n",
    "    filename = tkFileDialog.askopenfilename(parent=root) \n",
    "    image_name = os.path.basename(filename)\n",
    "    img = scipy.misc.imread(filename)\n",
    "    root.withdraw()\n",
    "    imgf = scipy.ndimage.gaussian_filter(img, 4)\n",
    "    rmax = mh.regmax(imgf)\n",
    "    matplotlib.pyplot.imshow(mh.overlay(imgf,rmax))\n",
    "    matplotlib.pyplot.show()\n",
    "    centers,nr_objects = mh.label(rmax)\n",
    "    \n",
    "    print nr_objects "
   ]
  },
  {
   "cell_type": "code",
   "execution_count": null,
   "metadata": {
    "collapsed": true
   },
   "outputs": [],
   "source": []
  },
  {
   "cell_type": "code",
   "execution_count": null,
   "metadata": {
    "collapsed": true
   },
   "outputs": [],
   "source": []
  }
 ],
 "metadata": {
  "kernelspec": {
   "display_name": "Python 2",
   "language": "python",
   "name": "python2"
  },
  "language_info": {
   "codemirror_mode": {
    "name": "ipython",
    "version": 2
   },
   "file_extension": ".py",
   "mimetype": "text/x-python",
   "name": "python",
   "nbconvert_exporter": "python",
   "pygments_lexer": "ipython2",
   "version": "2.7.11"
  }
 },
 "nbformat": 4,
 "nbformat_minor": 0
}
