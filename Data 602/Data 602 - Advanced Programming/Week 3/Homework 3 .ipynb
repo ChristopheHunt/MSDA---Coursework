{
 "cells": [
  {
   "cell_type": "code",
   "execution_count": 36,
   "metadata": {
    "collapsed": false
   },
   "outputs": [
    {
     "name": "stdout",
     "output_type": "stream",
     "text": [
      "        maint  doors persons lug_boot safety  class\n",
      "buying                                             \n",
      "high     high      2       4      med    low  unacc\n",
      "high     high      4    more    small   high    acc\n",
      "high     high      4    more      big    low  unacc\n",
      "high      low      2    more      big   high    acc\n",
      "vhigh     low      3       2      med    med  unacc\n",
      "low      high      2       2    small    low  unacc\n",
      "med       med      4    more      med   high  vgood\n",
      "low       low      3       2      big    med  unacc\n",
      "vhigh     low      2       2    small    low  unacc\n",
      "vhigh    high      4       4      med    low  unacc\n",
      "low       low      2       2      med    med  unacc\n",
      "vhigh     low      4    more    small   high    acc\n",
      "high      low      2       4      big    med    acc\n",
      "low     vhigh      3    more      big    low  unacc\n",
      "high      low  5more       2      big    med  unacc\n",
      "vhigh    high      2    more      med   high  unacc\n",
      "med       med      2       2    small    low  unacc\n",
      "high      low  5more       4      med   high    acc\n",
      "low       low      3    more      med   high  vgood\n",
      "low       low      2       2      big    med  unacc\n",
      "med      high      4       2      big   high  unacc\n",
      "low       low      2       2    small   high  unacc\n",
      "vhigh    high  5more       4      med    med  unacc\n",
      "med     vhigh      2       2      big    low  unacc\n",
      "low     vhigh      4       4      big    low  unacc\n",
      "vhigh     low      3    more      big    low  unacc\n",
      "med     vhigh      3       4    small    low  unacc\n",
      "high     high      3       4      med    med  unacc\n",
      "low      high  5more       2      big    low  unacc\n",
      "med      high  5more       2      med    med  unacc\n",
      "...       ...    ...     ...      ...    ...    ...\n",
      "vhigh     med  5more       2      med   high  unacc\n",
      "high     high  5more       4      med    med    acc\n",
      "med     vhigh      2    more    small    med  unacc\n",
      "med       med      4       2      big    med  unacc\n",
      "high     high      4    more      big   high    acc\n",
      "med       med      4       4      med   high  vgood\n",
      "med     vhigh      4       4      big    med    acc\n",
      "med      high      4    more    small   high    acc\n",
      "high      med      4       4    small   high    acc\n",
      "high    vhigh      3       4      big    med  unacc\n",
      "med     vhigh      2       4      big    med    acc\n",
      "vhigh   vhigh  5more    more    small   high  unacc\n",
      "low       low  5more       4      med   high  vgood\n",
      "low     vhigh      4       2    small    low  unacc\n",
      "med      high      2       2      big   high  unacc\n",
      "vhigh     med  5more       4      big    med    acc\n",
      "med     vhigh      2    more      med   high    acc\n",
      "med       low  5more       4      big   high  vgood\n",
      "low     vhigh  5more       4      big    low  unacc\n",
      "high      low      2       2      med   high  unacc\n",
      "vhigh   vhigh      3       4      med    low  unacc\n",
      "vhigh    high      2       4    small    med  unacc\n",
      "low     vhigh      3       2    small    low  unacc\n",
      "med     vhigh  5more    more    small    med  unacc\n",
      "high      low      4       2    small    med  unacc\n",
      "med      high      3       4    small    low  unacc\n",
      "low       med  5more       2      big    low  unacc\n",
      "vhigh    high      2    more      big    low  unacc\n",
      "med       med  5more       2      med   high  unacc\n",
      "low       low      2       4      big    med   good\n",
      "\n",
      "[1388 rows x 6 columns]\n"
     ]
    }
   ],
   "source": [
    "import requests\n",
    "import csv\n",
    "import pandas as pd\n",
    "\n",
    "   #buying       v-high, high, med, low\n",
    "   #maint        v-high, high, med, low\n",
    "   #doors        2, 3, 4, 5-more\n",
    "   #persons      2, 4, more\n",
    "   #lug_boot     small, med, big\n",
    "   #safety       low, med, high\n",
    "   #class        unacc, acc, good, vgood\n",
    "    \n",
    "#Print to the console the top 10 rows of the data sorted by 'safety' in descending order\n",
    "#Print to the console the bottom 15 rows of the data sorted by 'maint' in ascending order\n",
    "#Print to the console all rows that are high or vhigh in fields 'buying', 'maint', and 'safety', \n",
    "# sorted by 'doors' in ascending order.  Find these matches using regular expressions.\n",
    "#Save to a file all rows (in any order) that are: 'buying': vhigh, 'maint': med, 'doors': 4, and \n",
    "#'persons': 4 or more.  The file path can be a hard-coded location (name it output.txt) or use a dialog box.  \n",
    "\n",
    "df = pd.DataFrame.from_csv(\"%s%s%s\" % (\"https://raw.githubusercontent.com/ChristopheHunt/MSDA\",\n",
    "                 \"---Coursework/master/Data%20602/Data%20602%20-\",\n",
    "                             \"%20Advanced%20Programming/data/cars.data.csv\"), header=None)\n",
    "df.columns = ['maint', 'doors','persons','lug_boot', 'safety', 'class']\n",
    "df.index.name = 'buying'\n",
    "print df "
   ]
  },
  {
   "cell_type": "code",
   "execution_count": null,
   "metadata": {
    "collapsed": true
   },
   "outputs": [],
   "source": []
  }
 ],
 "metadata": {
  "kernelspec": {
   "display_name": "Python 2",
   "language": "python",
   "name": "python2"
  },
  "language_info": {
   "codemirror_mode": {
    "name": "ipython",
    "version": 2
   },
   "file_extension": ".py",
   "mimetype": "text/x-python",
   "name": "python",
   "nbconvert_exporter": "python",
   "pygments_lexer": "ipython2",
   "version": "2.7.11"
  }
 },
 "nbformat": 4,
 "nbformat_minor": 0
}
