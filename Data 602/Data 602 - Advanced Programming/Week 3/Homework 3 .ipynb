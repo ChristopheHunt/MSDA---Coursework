{
 "cells": [
  {
   "cell_type": "code",
   "execution_count": 34,
   "metadata": {
    "collapsed": false
   },
   "outputs": [],
   "source": [
    "import requests\n",
    "import csv\n",
    "import pandas as pd\n",
    "\n",
    "   #buying       v-high, high, med, low\n",
    "   #maint        v-high, high, med, low\n",
    "   #doors        2, 3, 4, 5-more\n",
    "   #persons      2, 4, more\n",
    "   #lug_boot     small, med, big\n",
    "   #safety       low, med, high\n",
    "   #class        unacc, acc, good, vgood\n",
    "    \n",
    "#Print to the console the top 10 rows of the data sorted by 'safety' in descending order\n",
    "#Print to the console the bottom 15 rows of the data sorted by 'maint' in ascending order\n",
    "#Print to the console all rows that are high or vhigh in fields 'buying', 'maint', and 'safety', \n",
    "# sorted by 'doors' in ascending order.  Find these matches using regular expressions.\n",
    "#Save to a file all rows (in any order) that are: 'buying': vhigh, 'maint': med, 'doors': 4, and \n",
    "#'persons': 4 or more.  The file path can be a hard-coded location (name it output.txt) or use a dialog box.  \n",
    "\n",
    "df = pd.DataFrame.from_csv(\"%s%s%s\" % (\"https://raw.githubusercontent.com/ChristopheHunt/MSDA\",\n",
    "                 \"---Coursework/master/Data%20602/Data%20602%20-\",\n",
    "                             \"%20Advanced%20Programming/data/cars.data.csv\"), header=None)\n",
    "df.columns = ['maint', 'doors','persons','lug_boot', 'safety', 'class']\n",
    "df.index.name = 'buying'\n"
   ]
  }
 ],
 "metadata": {
  "kernelspec": {
   "display_name": "Python 2",
   "language": "python",
   "name": "python2"
  },
  "language_info": {
   "codemirror_mode": {
    "name": "ipython",
    "version": 2
   },
   "file_extension": ".py",
   "mimetype": "text/x-python",
   "name": "python",
   "nbconvert_exporter": "python",
   "pygments_lexer": "ipython2",
   "version": "2.7.11"
  }
 },
 "nbformat": 4,
 "nbformat_minor": 0
}
