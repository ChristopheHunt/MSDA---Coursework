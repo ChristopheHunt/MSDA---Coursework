{
 "cells": [
  {
   "cell_type": "code",
   "execution_count": null,
   "metadata": {
    "collapsed": false
   },
   "outputs": [],
   "source": [
    "import requests\n",
    "import csv\n",
    "import pandas \n",
    "import Tkinter\n",
    "import tkFileDialog\n",
    "import sys\n",
    "\n",
    "   #buying       v-high, high, med, low\n",
    "   #maint        v-high, high, med, low\n",
    "   #doors        2, 3, 4, 5-more\n",
    "   #persons      2, 4, more\n",
    "   #lug_boot     small, med, big\n",
    "   #safety       low, med, high\n",
    "   #class        unacc, acc, good, vgood\n",
    "    \n",
    "s = raw_input('Use online csv file? y/n : ')\n",
    "if s.lower() == 'y': \n",
    "    df = pandas.read_csv(\"%s%s%s%s%s\" % (\"https://raw.githubusercontent.com/\",\n",
    "                                         \"ChristopheHunt/MSDA\",\n",
    "                                         \"---Coursework/master/\",\n",
    "                                         \"Data%20602/Data%20602%20-%20Advanced%20Programming/\", \n",
    "                                         \"data/cars.data.csv\"), \n",
    "                         header=None, index_col=False)\n",
    "elif s.lower() == 'n':\n",
    "    root = Tkinter.Tk()\n",
    "    filename = tkFileDialog.askopenfilename(parent=root) \n",
    "    df = pandas.read_csv(filename)\n",
    "    root.withdraw()\n",
    "    \n",
    "else: \n",
    "    print \"input was not in a y/n format\"\n",
    "\n",
    "df.columns = [ 'buying', 'maint', 'doors','persons','lug_boot', 'safety', 'class']\n",
    "df = df.apply(lambda df: df.astype('category')) \n",
    "\n",
    "safety_cat = ['low','med','high']\n",
    "maint_cat = ['low','med','high','vhigh']\n",
    "doors_cat = ['2','3','4','5more']\n",
    "\n",
    "def columncheck(column, listvalues):\n",
    "    check = list(set(pandas.unique(df[column].ravel())) - set(listvalues))\n",
    "    if check != []:\n",
    "       s = raw_input(\"%s column contains unexpected values:%s, this will be converted to NaN. Continue? y/n : \" \n",
    "                     % (column, check))\n",
    "       if s.lower() != 'y':\n",
    "          sys.exit(\"End\") \n",
    "\n",
    "columncheck('safety', safety_cat)\n",
    "columncheck('maint', maint_cat)\n",
    "columncheck('doors', doors_cat)"
   ]
  },
  {
   "cell_type": "code",
   "execution_count": null,
   "metadata": {
    "collapsed": false
   },
   "outputs": [],
   "source": [
    "def setcat(column, listvalues):\n",
    "    df[column].cat.set_categories(listvalues, inplace = True)\n",
    "    \n",
    "setcat('safety', safety_cat)\n",
    "setcat('maint', maint_cat)\n",
    "setcat('doors', doors_cat)"
   ]
  },
  {
   "cell_type": "code",
   "execution_count": null,
   "metadata": {
    "collapsed": false
   },
   "outputs": [],
   "source": [
    "#Print to the console the top 10 rows of the data sorted by 'safety' in descending order\n",
    "results = df.sort_values(by = 'safety', ascending=[1])\n",
    "print results.head(10)\n",
    "raw_input(\"Press Enter to continue...  \")"
   ]
  },
  {
   "cell_type": "code",
   "execution_count": null,
   "metadata": {
    "collapsed": false
   },
   "outputs": [],
   "source": [
    "#Print to the console the bottom 15 rows of the data sorted by 'maint' in ascending order\n",
    "results = df.sort_values(by = 'maint', ascending = [0])\n",
    "print results.tail(15)\n",
    "raw_input(\"Press Enter to continue...  \")"
   ]
  },
  {
   "cell_type": "code",
   "execution_count": null,
   "metadata": {
    "collapsed": false
   },
   "outputs": [],
   "source": [
    "#Print to the console all rows that are high or vhigh in fields 'buying', 'maint', and 'safety', \n",
    "# sorted by 'doors' in ascending order.  Find these matches using regular expressions.\n",
    "mask = df[['buying', 'maint','safety']].apply(lambda column: column.str.contains('vhigh|high', regex=True)).any(axis=1)\n",
    "results = df[mask].sort_values(by = 'doors', ascending = [1])\n",
    "print results\n",
    "raw_input(\"Press Enter to continue...  \")"
   ]
  },
  {
   "cell_type": "code",
   "execution_count": null,
   "metadata": {
    "collapsed": false
   },
   "outputs": [],
   "source": [
    "#Save to a file all rows (in any order) that are: 'buying': vhigh, 'maint': med, 'doors': 4, and \n",
    "#'persons': 4 or more.  The file path can be a hard-coded location (name it output.txt) or use a dialog box.  \n",
    "results = df.query(\"buying == 'vhigh' and maint == 'med' and doors == '4'\")\n",
    "results = results.query(\"persons == '4' or persons == 'more'\")\n",
    "savefile = tkFileDialog.asksaveasfile(mode='w', defaultextension=\".csv\")\n",
    "results.to_csv(savefile, index = False)\n",
    "savefile.close()"
   ]
  }
 ],
 "metadata": {
  "kernelspec": {
   "display_name": "Python 2",
   "language": "python",
   "name": "python2"
  },
  "language_info": {
   "codemirror_mode": {
    "name": "ipython",
    "version": 2
   },
   "file_extension": ".py",
   "mimetype": "text/x-python",
   "name": "python",
   "nbconvert_exporter": "python",
   "pygments_lexer": "ipython2",
   "version": "2.7.11"
  }
 },
 "nbformat": 4,
 "nbformat_minor": 0
}
