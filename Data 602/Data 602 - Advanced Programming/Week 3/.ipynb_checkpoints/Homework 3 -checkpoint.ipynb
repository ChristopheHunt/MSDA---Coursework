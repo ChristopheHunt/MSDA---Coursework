{
 "cells": [
  {
   "cell_type": "code",
   "execution_count": 1,
   "metadata": {
    "collapsed": false
   },
   "outputs": [
    {
     "name": "stdout",
     "output_type": "stream",
     "text": [
      "Use online csv file? y/n : n\n"
     ]
    }
   ],
   "source": [
    "import requests\n",
    "import csv\n",
    "import pandas \n",
    "import Tkinter\n",
    "import tkFileDialog\n",
    "import sys\n",
    "\n",
    "#buying       v-high, high, med, low\n",
    "#maint        v-high, high, med, low\n",
    "#doors        2, 3, 4, 5-more\n",
    "#persons      2, 4, more\n",
    "#lug_boot     small, med, big\n",
    "#safety       low, med, high\n",
    "#class        unacc, acc, good, vgood\n",
    "    \n",
    "s = raw_input('Use online csv file? y/n : ')\n",
    "\n",
    "if s.lower() == 'y': \n",
    "    df = pandas.read_csv(\"https://raw.githubusercontent.com/ChristopheHunt/MSDA\" + \n",
    "                         \"---Coursework/master/Data%20602/\" + \n",
    "                         \"Data%20602%20-%20Advanced%20Programming/\" + \n",
    "                         \"data/cars.data.csv\", \n",
    "                         header=None, index_col=False)\n",
    "elif s.lower() == 'n':\n",
    "    root = Tkinter.Tk()\n",
    "    filename = tkFileDialog.askopenfilename(parent=root) \n",
    "    df = pandas.read_csv(filename)\n",
    "    root.withdraw()\n",
    "    \n",
    "else: \n",
    "    print \"input was not in a y/n format\"\n",
    "\n",
    "df.columns = [ 'buying', 'maint', 'doors','persons','lug_boot', 'safety', 'class']\n",
    "df = df.apply(lambda df: df.astype('category')) \n",
    "\n",
    "safety_cat = ['low','med','high']\n",
    "maint_cat = ['low','med','high','vhigh']\n",
    "doors_cat = ['2','3','4','5more']"
   ]
  },
  {
   "cell_type": "code",
   "execution_count": 2,
   "metadata": {
    "collapsed": false
   },
   "outputs": [
    {
     "name": "stdout",
     "output_type": "stream",
     "text": [
      "safety column contains unexpected values:['vhigh'], this will be converted to NaN. Continue? y/n : y\n",
      "maint column contains unexpected values:['vlow'], this will be converted to NaN. Continue? y/n : y\n",
      "doors column contains unexpected values:['1'], this will be converted to NaN. Continue? y/n : Y\n"
     ]
    }
   ],
   "source": [
    "def columncheck(column, listvalues):\n",
    "    check = list(set(pandas.unique(df[column].ravel())) - set(listvalues))\n",
    "    if check != []:\n",
    "       s = raw_input(\"%s column contains unexpected values:%s, this will be converted to NaN. Continue? y/n : \" \n",
    "                     % (column, check))\n",
    "       if s.lower() != 'y':\n",
    "          sys.exit(\"End\") \n",
    "\n",
    "columncheck('safety', safety_cat)\n",
    "columncheck('maint', maint_cat)\n",
    "columncheck('doors', doors_cat)"
   ]
  },
  {
   "cell_type": "code",
   "execution_count": 3,
   "metadata": {
    "collapsed": false
   },
   "outputs": [],
   "source": [
    "def setcat(column, listvalues):\n",
    "    df[column].cat.set_categories(listvalues, inplace = True)\n",
    "    \n",
    "setcat('safety', safety_cat)\n",
    "setcat('maint', maint_cat)\n",
    "setcat('doors', doors_cat)"
   ]
  },
  {
   "cell_type": "code",
   "execution_count": 4,
   "metadata": {
    "collapsed": false
   },
   "outputs": [
    {
     "name": "stdout",
     "output_type": "stream",
     "text": [
      "     buying  maint  doors persons lug_boot safety  class\n",
      "1387   vlow    NaN    NaN       1     vbig    NaN    NaN\n",
      "722     med  vhigh      3       2      med    low  unacc\n",
      "724     med    med      4       2    small    low  unacc\n",
      "727     med  vhigh      3    more      big    low  unacc\n",
      "729   vhigh    med  5more       2      big    low  unacc\n",
      "732    high    med      3       2      big    low  unacc\n",
      "735     med  vhigh      4       2      med    low  unacc\n",
      "738     med   high      3       2      big    low  unacc\n",
      "741   vhigh    low      4       4    small    low  unacc\n",
      "720     low  vhigh      4       2    small    low  unacc\n"
     ]
    }
   ],
   "source": [
    "#Print to the console the top 10 rows of the data sorted by 'safety' in descending order\n",
    "results = df.sort_values(by = 'safety', ascending=[1])\n",
    "print results.head(10)"
   ]
  },
  {
   "cell_type": "code",
   "execution_count": 5,
   "metadata": {
    "collapsed": false
   },
   "outputs": [
    {
     "name": "stdout",
     "output_type": "stream",
     "text": [
      "Press Enter to continue...  \n"
     ]
    },
    {
     "data": {
      "text/plain": [
       "''"
      ]
     },
     "execution_count": 5,
     "metadata": {},
     "output_type": "execute_result"
    }
   ],
   "source": [
    "raw_input(\"Press Enter to continue...  \")"
   ]
  },
  {
   "cell_type": "code",
   "execution_count": 6,
   "metadata": {
    "collapsed": false
   },
   "outputs": [
    {
     "name": "stdout",
     "output_type": "stream",
     "text": [
      "     buying maint  doors persons lug_boot safety  class\n",
      "333   vhigh   low      2    more      med   high    acc\n",
      "935   vhigh   low      3       4      med    med  unacc\n",
      "335    high   low      4    more      med    med    acc\n",
      "934     low   low      4       2      med   high  unacc\n",
      "930     low   low  5more    more    small    low  unacc\n",
      "925    high   low      4       4      med   high    acc\n",
      "922   vhigh   low  5more       2      big    low  unacc\n",
      "344     low   low      4       4      big   high  vgood\n",
      "915     low   low  5more       4      big    low  unacc\n",
      "347    high   low      4    more      big   high    acc\n",
      "910   vhigh   low      4    more      med    low  unacc\n",
      "350    high   low      2    more      med   high    acc\n",
      "353   vhigh   low      3       4      med   high    acc\n",
      "906    high   low      4    more      med   high    acc\n",
      "1387   vlow   NaN    NaN       1     vbig    NaN    NaN\n"
     ]
    }
   ],
   "source": [
    "#Print to the console the bottom 15 rows of the data sorted by 'maint' in ascending order\n",
    "results = df.sort_values(by = 'maint', ascending = [0])\n",
    "print results.tail(15)"
   ]
  },
  {
   "cell_type": "code",
   "execution_count": 8,
   "metadata": {
    "collapsed": false
   },
   "outputs": [
    {
     "name": "stdout",
     "output_type": "stream",
     "text": [
      "Press Enter to continue...  \n"
     ]
    },
    {
     "data": {
      "text/plain": [
       "''"
      ]
     },
     "execution_count": 8,
     "metadata": {},
     "output_type": "execute_result"
    }
   ],
   "source": [
    "raw_input(\"Press Enter to continue...  \")"
   ]
  },
  {
   "cell_type": "code",
   "execution_count": 9,
   "metadata": {
    "collapsed": false
   },
   "outputs": [
    {
     "name": "stdout",
     "output_type": "stream",
     "text": [
      "     buying  maint  doors persons lug_boot safety  class\n",
      "812     low   high      2       4      med   high    acc\n",
      "244     low   high      2       4    small   high    acc\n",
      "243     med    med      2       2      med   high  unacc\n",
      "392   vhigh   high      2    more    small    med  unacc\n",
      "239   vhigh    low      2       2      big   high  unacc\n",
      "632   vhigh   high      2       2    small   high  unacc\n",
      "924    high  vhigh      2    more    small    low  unacc\n",
      "1015    med   high      2       2      big    low  unacc\n",
      "635   vhigh    low      2    more      med   high    acc\n",
      "462     med  vhigh      2    more      med   high    acc\n",
      "1111  vhigh    med      2    more      big    low  unacc\n",
      "1214   high    low      2    more    small    low  unacc\n",
      "916    high    med      2    more    small    med  unacc\n",
      "227   vhigh   high      2       4      med   high  unacc\n",
      "1220    low   high      2       2      med   high  unacc\n",
      "1115    med   high      2       4      med    low  unacc\n",
      "642   vhigh    low      2    more      big    low  unacc\n",
      "246    high    med      2    more      med    low  unacc\n",
      "248     med   high      2    more      med    med  unacc\n",
      "263    high    low      2       2      big   high  unacc\n",
      "1009    low  vhigh      2       4      med    low  unacc\n",
      "614     low  vhigh      2       4    small    low  unacc\n",
      "259   vhigh   high      2       2    small   high  unacc\n",
      "615     low  vhigh      2       2      med    med  unacc\n",
      "944   vhigh  vhigh      2       2      big    med  unacc\n",
      "936   vhigh   high      2    more      big    low  unacc\n",
      "1199    low   high      2       4      big   high  vgood\n",
      "387   vhigh   high      2       2      med    med  unacc\n",
      "1201    low  vhigh      2       4      med   high    acc\n",
      "388   vhigh   high      2       4    small    low  unacc\n",
      "...     ...    ...    ...     ...      ...    ...    ...\n",
      "1018    med  vhigh  5more       2      med    low  unacc\n",
      "514    high  vhigh  5more       2      med   high  unacc\n",
      "515     low   high  5more       4      med   high  vgood\n",
      "1014   high    med  5more    more    small    med  unacc\n",
      "1013    low   high  5more       4      med    low  unacc\n",
      "510   vhigh    med  5more       4    small   high    acc\n",
      "480    high   high  5more    more      med   high    acc\n",
      "479    high    med  5more       4    small    low  unacc\n",
      "478     low   high  5more       2      big    med  unacc\n",
      "448     med   high  5more       2      big    med  unacc\n",
      "450   vhigh  vhigh  5more    more    small    med  unacc\n",
      "1074   high  vhigh  5more       2    small   high  unacc\n",
      "1073   high   high  5more    more    small    med  unacc\n",
      "453    high  vhigh  5more    more      big    med  unacc\n",
      "456    high    low  5more       4      med    med    acc\n",
      "1070  vhigh   high  5more       4      big    med  unacc\n",
      "1069    low    low  5more       4    small   high   good\n",
      "1068    med   high  5more    more      big   high    acc\n",
      "1066    med    med  5more       4    small   high    acc\n",
      "464     low  vhigh  5more       4    small   high    acc\n",
      "465     med   high  5more    more    small   high    acc\n",
      "1062    low   high  5more       2      med    med  unacc\n",
      "1061   high    med  5more       4      big    med    acc\n",
      "1052    med    low  5more    more      big   high  vgood\n",
      "1051   high   high  5more    more    small    med  unacc\n",
      "1050   high    med  5more    more    small   high    acc\n",
      "1048    med  vhigh  5more    more      med   high    acc\n",
      "477   vhigh  vhigh  5more    more    small    low  unacc\n",
      "437   vhigh   high  5more       2    small    low  unacc\n",
      "1385    med    med  5more       2      med   high  unacc\n",
      "\n",
      "[1145 rows x 7 columns]\n"
     ]
    }
   ],
   "source": [
    "#Print to the console all rows that are high or vhigh in fields 'buying', 'maint', and 'safety', \n",
    "# sorted by 'doors' in ascending order.  Find these matches using regular expressions.\n",
    "mask = df[['buying', 'maint','safety']].apply(lambda column: column.str.contains('vhigh|high', regex=True)).any(axis=1)\n",
    "results = df[mask].sort_values(by = 'doors', ascending = [1])\n",
    "print results"
   ]
  },
  {
   "cell_type": "code",
   "execution_count": 10,
   "metadata": {
    "collapsed": false
   },
   "outputs": [
    {
     "name": "stdout",
     "output_type": "stream",
     "text": [
      "Press Enter to continue...  \n"
     ]
    },
    {
     "data": {
      "text/plain": [
       "''"
      ]
     },
     "execution_count": 10,
     "metadata": {},
     "output_type": "execute_result"
    }
   ],
   "source": [
    "raw_input(\"Press Enter to continue...  \")"
   ]
  },
  {
   "cell_type": "code",
   "execution_count": null,
   "metadata": {
    "collapsed": false
   },
   "outputs": [],
   "source": [
    "#Save to a file all rows (in any order) that are: 'buying': vhigh, 'maint': med, 'doors': 4, and \n",
    "#'persons': 4 or more.  The file path can be a hard-coded location (name it output.txt) or use a dialog box.  \n",
    "results = df.query(\"buying == 'vhigh' and maint == 'med' and doors == '4' and (persons == '4' or persons == 'more')\")\n",
    "savefile = tkFileDialog.asksaveasfile(mode='w', defaultextension=\".csv\")\n",
    "results.to_csv(savefile, index = False)\n",
    "savefile.close()"
   ]
  }
 ],
 "metadata": {
  "kernelspec": {
   "display_name": "Python 2",
   "language": "python",
   "name": "python2"
  },
  "language_info": {
   "codemirror_mode": {
    "name": "ipython",
    "version": 2
   },
   "file_extension": ".py",
   "mimetype": "text/x-python",
   "name": "python",
   "nbconvert_exporter": "python",
   "pygments_lexer": "ipython2",
   "version": "2.7.11"
  }
 },
 "nbformat": 4,
 "nbformat_minor": 0
}
