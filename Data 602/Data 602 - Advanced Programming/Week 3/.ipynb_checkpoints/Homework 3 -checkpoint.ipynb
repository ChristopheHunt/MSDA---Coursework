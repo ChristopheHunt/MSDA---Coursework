{
 "cells": [
  {
   "cell_type": "code",
   "execution_count": 19,
   "metadata": {
    "collapsed": false
   },
   "outputs": [
    {
     "name": "stdout",
     "output_type": "stream",
     "text": [
      "           1      2     3      4     5      6\n",
      "0                                            \n",
      "high    high      2     4    med   low  unacc\n",
      "high    high      4  more  small  high    acc\n",
      "high    high      4  more    big   low  unacc\n",
      "high     low      2  more    big  high    acc\n",
      "vhigh    low      3     2    med   med  unacc\n",
      "low     high      2     2  small   low  unacc\n",
      "med      med      4  more    med  high  vgood\n",
      "low      low      3     2    big   med  unacc\n",
      "vhigh    low      2     2  small   low  unacc\n",
      "vhigh   high      4     4    med   low  unacc\n",
      "low      low      2     2    med   med  unacc\n",
      "vhigh    low      4  more  small  high    acc\n",
      "high     low      2     4    big   med    acc\n",
      "low    vhigh      3  more    big   low  unacc\n",
      "high     low  5more     2    big   med  unacc\n",
      "vhigh   high      2  more    med  high  unacc\n",
      "med      med      2     2  small   low  unacc\n",
      "high     low  5more     4    med  high    acc\n",
      "low      low      3  more    med  high  vgood\n",
      "low      low      2     2    big   med  unacc\n",
      "med     high      4     2    big  high  unacc\n",
      "low      low      2     2  small  high  unacc\n",
      "vhigh   high  5more     4    med   med  unacc\n",
      "med    vhigh      2     2    big   low  unacc\n",
      "low    vhigh      4     4    big   low  unacc\n",
      "vhigh    low      3  more    big   low  unacc\n",
      "med    vhigh      3     4  small   low  unacc\n",
      "high    high      3     4    med   med  unacc\n",
      "low     high  5more     2    big   low  unacc\n",
      "med     high  5more     2    med   med  unacc\n",
      "...      ...    ...   ...    ...   ...    ...\n",
      "vhigh    med  5more     2    med  high  unacc\n",
      "high    high  5more     4    med   med    acc\n",
      "med    vhigh      2  more  small   med  unacc\n",
      "med      med      4     2    big   med  unacc\n",
      "high    high      4  more    big  high    acc\n",
      "med      med      4     4    med  high  vgood\n",
      "med    vhigh      4     4    big   med    acc\n",
      "med     high      4  more  small  high    acc\n",
      "high     med      4     4  small  high    acc\n",
      "high   vhigh      3     4    big   med  unacc\n",
      "med    vhigh      2     4    big   med    acc\n",
      "vhigh  vhigh  5more  more  small  high  unacc\n",
      "low      low  5more     4    med  high  vgood\n",
      "low    vhigh      4     2  small   low  unacc\n",
      "med     high      2     2    big  high  unacc\n",
      "vhigh    med  5more     4    big   med    acc\n",
      "med    vhigh      2  more    med  high    acc\n",
      "med      low  5more     4    big  high  vgood\n",
      "low    vhigh  5more     4    big   low  unacc\n",
      "high     low      2     2    med  high  unacc\n",
      "vhigh  vhigh      3     4    med   low  unacc\n",
      "vhigh   high      2     4  small   med  unacc\n",
      "low    vhigh      3     2  small   low  unacc\n",
      "med    vhigh  5more  more  small   med  unacc\n",
      "high     low      4     2  small   med  unacc\n",
      "med     high      3     4  small   low  unacc\n",
      "low      med  5more     2    big   low  unacc\n",
      "vhigh   high      2  more    big   low  unacc\n",
      "med      med  5more     2    med  high  unacc\n",
      "low      low      2     4    big   med   good\n",
      "\n",
      "[1388 rows x 6 columns]\n"
     ]
    }
   ],
   "source": [
    "import requests\n",
    "import csv\n",
    "import pandas as pd\n",
    "\n",
    "r = pd.DataFrame.from_csv(\"%s%s%s\" % (\"https://raw.githubusercontent.com/ChristopheHunt/MSDA\",\n",
    "                 \"---Coursework/master/Data%20602/Data%20602%20-\",\n",
    "                             \"%20Advanced%20Programming/data/cars.data.csv\"), header=None)\n",
    "print r"
   ]
  },
  {
   "cell_type": "code",
   "execution_count": null,
   "metadata": {
    "collapsed": false
   },
   "outputs": [],
   "source": [
    "data = r.text\n",
    "df = pd.DataFrame.from_csv(r)\n",
    "r = csv.reader(data.splitlines(), delimiter='\\t')\n",
    "\n",
    "print df"
   ]
  },
  {
   "cell_type": "code",
   "execution_count": null,
   "metadata": {
    "collapsed": true
   },
   "outputs": [],
   "source": []
  }
 ],
 "metadata": {
  "kernelspec": {
   "display_name": "Python 2",
   "language": "python",
   "name": "python2"
  },
  "language_info": {
   "codemirror_mode": {
    "name": "ipython",
    "version": 2
   },
   "file_extension": ".py",
   "mimetype": "text/x-python",
   "name": "python",
   "nbconvert_exporter": "python",
   "pygments_lexer": "ipython2",
   "version": "2.7.11"
  }
 },
 "nbformat": 4,
 "nbformat_minor": 0
}
