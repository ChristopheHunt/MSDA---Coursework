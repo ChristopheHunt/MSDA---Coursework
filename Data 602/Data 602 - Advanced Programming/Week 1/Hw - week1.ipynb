{
 "cells": [
  {
   "cell_type": "code",
   "execution_count": 3,
   "metadata": {},
   "outputs": [],
   "source": [
    "#1. fill in this function\n",
    "#   it takes a list for input and return a sorted version\n",
    "#   do this with a loop, don't use the built in list functions\n",
    "def sortwithloops(input):\n",
    "    L = input[:]\n",
    "    ordered = False \n",
    "    while not ordered: \n",
    "        ordered = True\n",
    "        for i in range(len(L)-1):\n",
    "                if L[i] > L[i + 1]:\n",
    "                   L[i] , L[i + 1] = L[i + 1] , L[i]\n",
    "                   ordered = False\n",
    "    return L #return a value\n",
    "\n",
    "#2. fill in this function\n",
    "#   it takes a list for input and return a sorted version\n",
    "#   do this with the built in list functions, don't us a loop\n",
    "def sortwithoutloops(input): \n",
    "    input.sort()\n",
    "    return input #return a value\n",
    "\n",
    "#3. fill in this function\n",
    "#   it takes a list for input and a value to search for\n",
    "#\tit returns true if the value is in the list, otherwise false\n",
    "#   do this with a loop, don't use the built in list functions\n",
    "def searchwithloops(input, value):\n",
    "    L = input[:]\n",
    "    x = value\n",
    "    for i in L:\n",
    "         if i == x: \n",
    "            in_list = True \n",
    "            break\n",
    "         else: \n",
    "            in_list = False\n",
    "    return in_list #return a value\n",
    "\n",
    "#4. fill in this function\n",
    "#   it takes a list for input and a value to search for\n",
    "#\tit returns true if the value is in the list, otherwise false\n",
    "#   do this with the built in list functions, don't use a loop\n",
    "def searchwithoutloops(input, value):\n",
    "    L = input[:]\n",
    "    if value in L:\n",
    "        in_list = True\n",
    "    else: \n",
    "        in_list = False\n",
    "    return in_list #return a value\t\n",
    "\n",
    "if __name__ == \"__main__\":\t\n",
    "    L = [5,3,6,3,13,5,6]\t\n",
    "    \n",
    "    print sortwithloops(L) # [3, 3, 5, 5, 6, 6, 13]  \n",
    "    print sortwithoutloops(L) # [3, 3, 5, 5, 6, 6, 13] \n",
    "    print searchwithloops(L, 5) #true  \n",
    "    print searchwithloops(L, 11) #false\n",
    "    print searchwithoutloops(L, 5) #true\n",
    "    print searchwithoutloops(L, 11) #false"
   ]
  },
  {
   "cell_type": "heading",
   "metadata": {},
   "level": 1,
   "source": [
    ""
   ]
  },
  {
   "cell_type": "code",
   "execution_count": null,
   "metadata": {},
   "outputs": [],
   "source": [
    "test"
   ]
  },
  {
   "cell_type": "code",
   "execution_count": null,
   "metadata": {},
   "outputs": [],
   "source": [
    ""
   ]
  }
 ],
 "metadata": {
  "kernelspec": {
   "display_name": "Python 2",
   "language": "python",
   "name": "python2"
  },
  "language_info": {
   "codemirror_mode": {
    "name": "ipython",
    "version": 2.0
   },
   "file_extension": ".py",
   "mimetype": "text/x-python",
   "name": "python",
   "nbconvert_exporter": "python",
   "pygments_lexer": "ipython2",
   "version": "2.7.11"
  }
 },
 "nbformat": 4,
 "nbformat_minor": 0
}