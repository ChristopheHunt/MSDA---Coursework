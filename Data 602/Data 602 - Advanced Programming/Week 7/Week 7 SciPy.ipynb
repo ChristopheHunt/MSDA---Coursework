{
 "cells": [
  {
   "cell_type": "code",
   "execution_count": 4,
   "metadata": {
    "collapsed": false
   },
   "outputs": [],
   "source": [
    "import numpy as np\n",
    "import pandas as pd\n",
    "from scipy.optimize import curve_fit\n",
    "\n",
    "def func(x, a, b):\n",
    "    return a * x + b\n",
    "\n",
    "### Data set up from Chapter 3 SciPy text \n",
    "\n",
    "# Generating clean data\n",
    "x = np.linspace(0, 10, 200)\n",
    "y = func(x, 1, 5)\n",
    "# Adding noise to the data\n",
    "yn = y + 0.2 * np.random.normal(size=len(x))\n",
    "\n",
    "### end of Chapter 3 data set up \n",
    "\n",
    "X = list(x)\n",
    "Y = list(yn)\n",
    "\n",
    "df = pd.DataFrame(X) \n",
    "df['Y'] = pd.Series(Y, index=df.index)\n",
    "df.columns = ['X', 'Y']\n"
   ]
  },
  {
   "cell_type": "code",
   "execution_count": 5,
   "metadata": {
    "collapsed": false
   },
   "outputs": [
    {
     "data": {
      "text/plain": [
       "(1.0080818813762928, 4.971826420297833)"
      ]
     },
     "execution_count": 5,
     "metadata": {},
     "output_type": "execute_result"
    }
   ],
   "source": [
    "def LinearRegression(dataframe):\n",
    "    \n",
    "    df = dataframe\n",
    "    column_names = df.columns.values\n",
    "    column_name = ', '.join(column_names)\n",
    "\n",
    "    x_value = 'X'\n",
    "    y_value = 'Y'\n",
    "\n",
    "    mean_x = float(sum(df[x_value])/ len(df[x_value]))\n",
    "    mean_y = float(sum(df[y_value])/ len(df[y_value]))\n",
    "\n",
    "    df['X-mean_x'] = df[x_value] - mean_x\n",
    "    df['Y-mean_y'] = df[y_value] - mean_y\n",
    "    df['X-mean_x * Y-mean_y'] = df['X-mean_x'] * df['Y-mean_y']\n",
    "    df['X-mean_x^2'] = df['X-mean_x']  * df['X-mean_x']\n",
    "    slope = float(sum(df['X-mean_x * Y-mean_y'])/sum(df['X-mean_x^2']))\n",
    "    intercept = float((mean_y - slope*mean_x))\n",
    "\n",
    "    return (slope, intercept)\n",
    "\n",
    "    ## Plotting the line\n",
    "    #df['Linear Regression'] = ((slope*df[x_value])+ intercept)\n",
    "    #ax = df.plot(y = 'Linear Regression', x = x_value, label = equation)\n",
    "    #df.plot(kind = 'scatter',  y = y_value, x = x_value, ax = ax)\n",
    "    #plt.show()\n",
    "\n",
    "\n",
    "LinearRegression(df)"
   ]
  },
  {
   "cell_type": "code",
   "execution_count": 6,
   "metadata": {
    "collapsed": false
   },
   "outputs": [
    {
     "data": {
      "text/plain": [
       "array([ 1.00808188,  4.97182642])"
      ]
     },
     "execution_count": 6,
     "metadata": {},
     "output_type": "execute_result"
    }
   ],
   "source": [
    "def regression_numpy():\n",
    "    \n",
    "    fit, pcov = curve_fit(func, df['X'], df['Y'])\n",
    "    return(fit)\n",
    "\n",
    "regression_numpy()\n"
   ]
  },
  {
   "cell_type": "code",
   "execution_count": 7,
   "metadata": {
    "collapsed": false
   },
   "outputs": [
    {
     "name": "stdout",
     "output_type": "stream",
     "text": [
      "My least squares time is : 1.22048906 for 1000 loops\n",
      "Numpy curve_fit time is : 0.00001773 for 1000 loops\n"
     ]
    }
   ],
   "source": [
    "import timeit\n",
    "    \n",
    "number = 1000\n",
    "\n",
    "setup = (\"from __main__ import LinearRegression, func, df, regression_numpy\")\n",
    "\n",
    "regression = timeit.timeit(\"LinearRegression(df)\", setup=setup, number = number)\n",
    "numpy_regression = timeit.timeit(\"regression_numpy\", setup=setup, number = number)\n",
    "     \n",
    "print \"My least squares time is : \" + format(regression,'.8f') + \" for \" + str(number) + \" loops\"\n",
    "print \"Numpy curve_fit time is : \" + format(numpy_regression, '.8f') + \" for \" + str(number) + \" loops\""
   ]
  }
 ],
 "metadata": {
  "anaconda-cloud": {},
  "kernelspec": {
   "display_name": "Python [default]",
   "language": "python",
   "name": "python3"
  },
  "language_info": {
   "codemirror_mode": {
    "name": "ipython",
    "version": 3
   },
   "file_extension": ".py",
   "mimetype": "text/x-python",
   "name": "python",
   "nbconvert_exporter": "python",
   "pygments_lexer": "ipython3",
   "version": "3.5.2"
  }
 },
 "nbformat": 4,
 "nbformat_minor": 0
}
