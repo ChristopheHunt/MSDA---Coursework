{
 "cells": [
  {
   "cell_type": "code",
   "execution_count": 3,
   "metadata": {
    "collapsed": false
   },
   "outputs": [
    {
     "name": "stdout",
     "output_type": "stream",
     "text": [
      "0000154 Mel Gibson\n",
      "0317112 Mel Gibson\n",
      "3323885 Adam Taylor\n",
      "2153167 Mel Gibson\n",
      "6709224 Mel Gibson\n",
      "2800055 Mel Gibson\n",
      "0316945 Donal Gibson\n",
      "0317195 Terel Gibson\n",
      "2106809 Raquel Gibson\n",
      "0316878 Cal Gibson\n",
      "7133936 Jamel Gibson\n",
      "7699405 Jamel Gibson\n",
      "3912400 Jamel Gibson\n",
      "0316950 E.L. Gibson\n",
      "4047961 Noel Gibson\n",
      "8026448 Hazel Gibson\n",
      "0316984 Hal Gibson\n",
      "2798174 Daniel Gibson\n",
      "0316915 Daniel Gibson\n",
      "7454542 L. Gibson\n"
     ]
    }
   ],
   "source": [
    "from imdb import IMDb\n",
    "ia = IMDb()\n",
    "\n",
    "for person in ia.search_person('Mel Gibson'):\n",
    "        print person.personID, person['name']"
   ]
  },
  {
   "cell_type": "code",
   "execution_count": null,
   "metadata": {
    "collapsed": true
   },
   "outputs": [],
   "source": []
  }
 ],
 "metadata": {
  "kernelspec": {
   "display_name": "Python 2",
   "language": "python",
   "name": "python2"
  },
  "language_info": {
   "codemirror_mode": {
    "name": "ipython",
    "version": 2
   },
   "file_extension": ".py",
   "mimetype": "text/x-python",
   "name": "python",
   "nbconvert_exporter": "python",
   "pygments_lexer": "ipython2",
   "version": "2.7.11"
  }
 },
 "nbformat": 4,
 "nbformat_minor": 0
}
