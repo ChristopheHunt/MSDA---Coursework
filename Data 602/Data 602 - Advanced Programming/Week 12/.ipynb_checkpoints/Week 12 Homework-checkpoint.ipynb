{
 "cells": [
  {
   "cell_type": "code",
   "execution_count": 1,
   "metadata": {
    "collapsed": false
   },
   "outputs": [],
   "source": [
    "import numpy as np\n",
    "import pandas \n",
    "\n",
    "df = pandas.read_csv(\"https://raw.githubusercontent.com/ChristopheHunt/MSDA\"+ \n",
    "                     \"---Coursework/master/Data%20602/Data%20602%20-%20\" + \n",
    "                     \"Advanced%20Programming/Week%2011/apple.2011.csv\")\n",
    "\n",
    "df.columns = [ 'Date', 'Last', 'Change']\n",
    "df['Change'] = pandas.to_numeric(df['Change'], errors='coerce')"
   ]
  },
  {
   "cell_type": "code",
   "execution_count": 2,
   "metadata": {
    "collapsed": false
   },
   "outputs": [],
   "source": [
    "def VaR(n, days):\n",
    "    import pandas\n",
    "    list_values = []\n",
    "    mu, sigma = df['Change'].mean(), df['Change'].std()\n",
    "    for j in range(1,n):\n",
    "        random_numbers = np.random.normal(mu, sigma, days)\n",
    "        last_price = df['Last'].tail(1)\n",
    "        last_price = last_price.iloc[0]\n",
    "        for i in random_numbers:\n",
    "            last_price =  (i * last_price) + last_price \n",
    "        list_values.append(last_price)\n",
    "        dataframe = pandas.DataFrame(list_values)\n",
    "        dataframe.columns = ['values']\n",
    "    return(df)"
   ]
  },
  {
   "cell_type": "code",
   "execution_count": 3,
   "metadata": {
    "collapsed": false
   },
   "outputs": [],
   "source": [
    "days = 20 \n",
    "n = 1000\n",
    "VaR_df = VaR(n, days)\n",
    "lowest = VaR_df.quantile(q = .01).iloc[0]"
   ]
  },
  {
   "cell_type": "code",
   "execution_count": 4,
   "metadata": {
    "collapsed": false
   },
   "outputs": [
    {
     "name": "stdout",
     "output_type": "stream",
     "text": [
      "The Monte Carlo solution without parallel processing is : 2.25956135 for 5 loops\n"
     ]
    }
   ],
   "source": [
    "import timeit\n",
    "number = 5\n",
    "setup = (\"from __main__ import VaR, df, n, days\")\n",
    "results = timeit.timeit(\"VaR_df = VaR(n, days); lowest = VaR_df.quantile(q = .01).iloc[0]\", setup=setup, number = number)\n",
    "print \"The Monte Carlo solution without parallel processing is : \" + format(results,'.8f') + \" for \" + str(number) + \" loops\""
   ]
  },
  {
   "cell_type": "markdown",
   "metadata": {
    "collapsed": true
   },
   "source": [
    "# Parallel Processing\n",
    "\n",
    "The following processes the list in each environment"
   ]
  },
  {
   "cell_type": "code",
   "execution_count": 6,
   "metadata": {
    "collapsed": false
   },
   "outputs": [
    {
     "name": "stdout",
     "output_type": "stream",
     "text": [
      "<LoadBalancedView None>\n"
     ]
    }
   ],
   "source": [
    "#ipcluster start -n 4\n",
    "import ipyparallel as ipp \n",
    "c = ipp.Client()\n",
    "view = c.load_balanced_view()"
   ]
  },
  {
   "cell_type": "code",
   "execution_count": null,
   "metadata": {
    "collapsed": false
   },
   "outputs": [],
   "source": [
    "%%px\n",
    "import numpy as np\n",
    "import pandas \n",
    "\n",
    "df = pandas.read_csv(\"https://raw.githubusercontent.com/ChristopheHunt/MSDA\"+ \n",
    "                     \"---Coursework/master/Data%20602/Data%20602%20-%20\" + \n",
    "                     \"Advanced%20Programming/Week%2011/apple.2011.csv\")\n",
    "\n",
    "df.columns = [ 'Date', 'Last', 'Change']\n",
    "df['Change'] = pandas.to_numeric(df['Change'], errors='coerce')\n",
    "\n",
    "def VaR(n, days):\n",
    "    import pandas\n",
    "    list_values = []\n",
    "    mu, sigma = df['Change'].mean(), df['Change'].std()\n",
    "    for j in range(1,n):\n",
    "        random_numbers = np.random.normal(mu, sigma, days)\n",
    "        last_price = df['Last'].tail(1)\n",
    "        last_price = last_price.iloc[0]\n",
    "        for i in random_numbers:\n",
    "            last_price =  (i * last_price) + last_price \n",
    "        list_values.append(last_price)\n",
    "        dataframe = pandas.DataFrame(list_values)\n",
    "        dataframe.columns = ['values']\n",
    "    return(df)\n",
    "\n",
    "days = 20 \n",
    "n = 1000\n",
    "\n",
    "import timeit\n",
    "number = 5\n",
    "\n",
    "setup = (\"from __main__ import VaR, df, n, days\")\n",
    "results = timeit.timeit(\"VaR_df = VaR(n, days); lowest = VaR_df.quantile(q = .01).iloc[0]\", setup=setup, number = number)\n",
    "print \"The Monte Carlo solution with parallel processing is : \" + format(results,'.8f') + \" for \" + str(number) + \" loops\""
   ]
  },
  {
   "cell_type": "markdown",
   "metadata": {},
   "source": [
    "# Parallel Processing \n",
    "\n",
    "This following code is my attempt at processing the variance in the environments in sections. This is partioning the work into 4 sections and combine the results. "
   ]
  },
  {
   "cell_type": "code",
   "execution_count": null,
   "metadata": {
    "collapsed": false
   },
   "outputs": [],
   "source": [
    "%%px\n",
    "import numpy as np\n",
    "import pandas \n",
    "\n",
    "import ipyparallel as ipp \n",
    "c = ipp.Client()\n",
    "v = c[:]\n",
    "\n",
    "df = pandas.read_csv(\"https://raw.githubusercontent.com/ChristopheHunt/MSDA\"+ \n",
    "                     \"---Coursework/master/Data%20602/Data%20602%20-%20\" + \n",
    "                     \"Advanced%20Programming/Week%2011/apple.2011.csv\")\n",
    "\n",
    "df.columns = [ 'Date', 'Last', 'Change']\n",
    "df['Change'] = pandas.to_numeric(df['Change'], errors='coerce')\n",
    "\n",
    "def VaR(n, days):\n",
    "    import pandas\n",
    "    list_values = []\n",
    "    mu, sigma = df['Change'].mean(), df['Change'].std()\n",
    "    for j in range(1,n):\n",
    "        random_numbers = np.random.normal(mu, sigma, days)\n",
    "        last_price = df['Last'].tail(1)\n",
    "        last_price = last_price.iloc[0]\n",
    "        for i in random_numbers:\n",
    "            last_price =  (i * last_price) + last_price \n",
    "        list_values.append(last_price)\n",
    "    list_values\n",
    "    return(list_values)\n",
    "\n",
    "days = 20 \n",
    "n = 20\n",
    "\n",
    "y = VaR(n,days)\n",
    "complete_list = v.map('y')\n",
    "complete_list"
   ]
  },
  {
   "cell_type": "code",
   "execution_count": null,
   "metadata": {
    "collapsed": true
   },
   "outputs": [],
   "source": []
  }
 ],
 "metadata": {
  "kernelspec": {
   "display_name": "Python 2",
   "language": "python",
   "name": "python2"
  },
  "language_info": {
   "codemirror_mode": {
    "name": "ipython",
    "version": 2
   },
   "file_extension": ".py",
   "mimetype": "text/x-python",
   "name": "python",
   "nbconvert_exporter": "python",
   "pygments_lexer": "ipython2",
   "version": "2.7.11"
  }
 },
 "nbformat": 4,
 "nbformat_minor": 0
}
