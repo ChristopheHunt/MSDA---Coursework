{
 "cells": [
  {
   "cell_type": "code",
   "execution_count": 1,
   "metadata": {
    "collapsed": true
   },
   "outputs": [],
   "source": [
    "import numpy as np\n",
    "import timeit "
   ]
  },
  {
   "cell_type": "code",
   "execution_count": 37,
   "metadata": {
    "collapsed": false
   },
   "outputs": [
    {
     "name": "stdout",
     "output_type": "stream",
     "text": [
      "[3, 3, 5, 5, 6, 6, 13]\n",
      "[3, 3, 5, 5, 6, 6, 13]\n",
      "[ 3  3  5  5  6  6 13]\n",
      "True\n",
      "False\n",
      "True\n",
      "False\n",
      "True\n",
      "False\n",
      "0.430781389304\n",
      "0.0988478066245\n",
      "0.391211102335\n",
      "0.0437308167991\n",
      "0.0781585246773\n",
      "0.0363180943859\n",
      "0.0511337420462\n",
      "0.372249853859\n",
      "0.415500142992\n"
     ]
    }
   ],
   "source": [
    "def sortwithloops(input):\n",
    "    L = input[:]\n",
    "    ordered = False \n",
    "    while not ordered: \n",
    "        ordered = True\n",
    "        for i in range(len(L)-1):\n",
    "                if L[i] > L[i + 1]:\n",
    "                   L[i] , L[i + 1] = L[i + 1] , L[i]\n",
    "                   ordered = False\n",
    "    return L \n",
    "\n",
    "\n",
    "def sortwithoutloops(input): \n",
    "    return sorted(input)\n",
    "\n",
    "\n",
    "def sortwithoutloops_numpysort(input):\n",
    "    return np.sort(input)\n",
    "  \n",
    "\n",
    "def searchwithloops(input, value):\n",
    "    L = input[:]\n",
    "    x = value\n",
    "    for i in L:\n",
    "         if i == x: \n",
    "            in_list = True \n",
    "            break\n",
    "         else: \n",
    "            in_list = False\n",
    "    return in_list #return a value\n",
    "\n",
    "\n",
    "def searchwithoutloops(input, value):\n",
    "    L = input[:]\n",
    "    if value in L:\n",
    "        return True\n",
    "    else: \n",
    "        return False\n",
    "\n",
    "\n",
    "def searchwithnumpy(input, value):\n",
    "    x = np.where(np.asarray(input) == value)[0]\n",
    "    if (x.size):\n",
    "        return True\n",
    "    else: \n",
    "        return False\n",
    "   \n",
    "\n",
    " \n",
    "if __name__ == \"__main__\":\t\n",
    "    L = [5,3,6,3,13,5,6]\t\n",
    "    \n",
    "    print sortwithloops(L) # [3, 3, 5, 5, 6, 6, 13]  \n",
    "    print sortwithoutloops(L) # [3, 3, 5, 5, 6, 6, 13] \n",
    "    print sortwithoutloops_numpysort(L)\n",
    "    \n",
    "    print searchwithloops(L, 5) #true  \n",
    "    print searchwithloops(L, 11) #false\n",
    "    print searchwithoutloops(L, 5) #true\n",
    "    print searchwithoutloops(L, 11) #false\n",
    "    \n",
    "    print searchwithnumpy(L, 5)\n",
    "    print searchwithnumpy(L, 11)\n",
    "    \n",
    "    import timeit\n",
    "    \n",
    "    print(timeit.timeit(\"sortwithloops(L)\", setup=\"from __main__ import L, sortwithloops\", number = 100000))\n",
    "    print(timeit.timeit(\"sortwithoutloops(L)\", setup=\"from __main__ import L, sortwithoutloops\", number = 100000))\n",
    "    print(timeit.timeit(\"sortwithoutloops_numpysort(L)\", setup=\"from __main__ import L, sortwithoutloops_numpysort\", number = 100000))\n",
    "    \n",
    "\n",
    "    print(timeit.timeit(\"searchwithloops(L, 5)\", setup=\"from __main__ import L, searchwithloops\", number = 100000))\n",
    "    print(timeit.timeit(\"searchwithloops(L, 11)\", setup=\"from __main__ import L, searchwithloops\", number = 100000))\n",
    "    print(timeit.timeit(\"searchwithoutloops(L, 5)\", setup=\"from __main__ import L, searchwithoutloops\", number = 100000))\n",
    "    print(timeit.timeit(\"searchwithoutloops(L, 11)\", setup=\"from __main__ import L, searchwithoutloops\", number = 100000))\n",
    "    \n",
    "    print(timeit.timeit(\"searchwithnumpy(L, 5)\", setup=\"from __main__ import L, searchwithnumpy\", number = 100000))\n",
    "    print(timeit.timeit(\"searchwithnumpy(L, 11)\", setup=\"from __main__ import L, searchwithnumpy\", number = 100000))\n",
    "   \n",
    "    "
   ]
  },
  {
   "cell_type": "code",
   "execution_count": null,
   "metadata": {
    "collapsed": true
   },
   "outputs": [],
   "source": []
  }
 ],
 "metadata": {
  "kernelspec": {
   "display_name": "Python 2",
   "language": "python",
   "name": "python2"
  },
  "language_info": {
   "codemirror_mode": {
    "name": "ipython",
    "version": 2
   },
   "file_extension": ".py",
   "mimetype": "text/x-python",
   "name": "python",
   "nbconvert_exporter": "python",
   "pygments_lexer": "ipython2",
   "version": "2.7.11"
  }
 },
 "nbformat": 4,
 "nbformat_minor": 0
}
