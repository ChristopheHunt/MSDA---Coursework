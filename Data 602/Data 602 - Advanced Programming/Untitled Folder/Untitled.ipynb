{
 "cells": [
  {
   "cell_type": "code",
   "execution_count": 6,
   "metadata": {
    "collapsed": true
   },
   "outputs": [],
   "source": [
    "import numpy as np\n",
    "import timeit"
   ]
  },
  {
   "cell_type": "code",
   "execution_count": 23,
   "metadata": {
    "collapsed": false
   },
   "outputs": [
    {
     "name": "stdout",
     "output_type": "stream",
     "text": [
      "[3, 3, 5, 5, 6, 6, 13]\n",
      "[3, 3, 5, 5, 6, 6, 13]\n",
      "[ 3  3  5  5  6  6 13]\n",
      "True\n",
      "False\n",
      "True\n",
      "False\n",
      "<function timetest at 0x000000000437A4A8>\n"
     ]
    }
   ],
   "source": [
    "def sortwithloops(input):\n",
    "    L = input[:]\n",
    "    ordered = False \n",
    "    while not ordered: \n",
    "        ordered = True\n",
    "        for i in range(len(L)-1):\n",
    "                if L[i] > L[i + 1]:\n",
    "                   L[i] , L[i + 1] = L[i + 1] , L[i]\n",
    "                   ordered = False\n",
    "    return L #return a value\n",
    "\n",
    "\n",
    "def sortwithoutloops(input): \n",
    "    input.sort()\n",
    "    return input #return a value\n",
    "\n",
    "def sortwithoutloops_numpysort(input):\n",
    "    input = np.sort(input)\n",
    "    return input\n",
    "\n",
    "def searchwithloops(input, value):\n",
    "    L = input[:]\n",
    "    x = value\n",
    "    for i in L:\n",
    "         if i == x: \n",
    "            in_list = True \n",
    "            break\n",
    "         else: \n",
    "            in_list = False\n",
    "    return in_list #return a value\n",
    "\n",
    "\n",
    "def searchwithoutloops(input, value):\n",
    "    L = input[:]\n",
    "    if value in L:\n",
    "        in_list = True\n",
    "    else: \n",
    "        in_list = False\n",
    "    return in_list #return a value\t\n",
    "\n",
    "def timetest():\n",
    "    time_sortwithloops = timeit.timeit(stmt = \"sortwithoutloops_numpysort(L)\", setup = SETUP, number=10000)\n",
    "    print(\"time of sortwithloops function: \", tim_sortwithloops)\n",
    " \n",
    "if __name__ == \"__main__\":\t\n",
    "    L = [5,3,6,3,13,5,6]\t\n",
    "    \n",
    "    print sortwithloops(L) # [3, 3, 5, 5, 6, 6, 13]  \n",
    "    print sortwithoutloops(L) # [3, 3, 5, 5, 6, 6, 13] \n",
    "    print sortwithoutloops_numpysort(L)\n",
    "    \n",
    "    print searchwithloops(L, 5) #true  \n",
    "    print searchwithloops(L, 11) #false\n",
    "    print searchwithoutloops(L, 5) #true\n",
    "    print searchwithoutloops(L, 11) #false\n",
    "    \n",
    "    print timetest"
   ]
  },
  {
   "cell_type": "code",
   "execution_count": null,
   "metadata": {
    "collapsed": true
   },
   "outputs": [],
   "source": []
  }
 ],
 "metadata": {
  "kernelspec": {
   "display_name": "Python 2",
   "language": "python",
   "name": "python2"
  },
  "language_info": {
   "codemirror_mode": {
    "name": "ipython",
    "version": 2
   },
   "file_extension": ".py",
   "mimetype": "text/x-python",
   "name": "python",
   "nbconvert_exporter": "python",
   "pygments_lexer": "ipython2",
   "version": "2.7.11"
  }
 },
 "nbformat": 4,
 "nbformat_minor": 0
}
