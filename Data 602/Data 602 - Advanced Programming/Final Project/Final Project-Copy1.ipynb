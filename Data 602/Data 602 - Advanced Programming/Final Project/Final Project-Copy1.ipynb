{
 "cells": [
  {
   "cell_type": "markdown",
   "metadata": {},
   "source": [
    "# Analyzing Iowa Liquor Sales\n",
    "\n",
    "## Data Set \n",
    "\n",
    "The state of Iowa's Alcoholic Beverages Division [dataset](https://data.iowa.gov/Economy/Iowa-Liquor-Sales/m3tr-qhgy  ) consists of spirit purchase information from January 1, 2012 to current. \n",
    "\n",
    "> The Division can provide this level of information because Iowa is one of 17 states that directly controls the sale and distribution of alcoholic beverages https://abd.iowa.gov/division. \n",
    "\n",
    "It should be noted that the data set is limited to Iowa Class “E” liquor license which is for:  \n",
    "\n",
    "> Grocery stores, liquor stores, convenience stores, etc. Allows commercial establishments to sell liquor for off-premises consumption in original unopened containers. No sales by the drink.\n",
    "\n",
    "Also, while this data set is not direct consumer sales, we can use this information as a proxy indicator of sales because most stores should be only buying spirits that sell well in their stores.  "
   ]
  },
  {
   "cell_type": "markdown",
   "metadata": {},
   "source": [
    "### Adding the Data Set to MongoDB"
   ]
  },
  {
   "cell_type": "markdown",
   "metadata": {
    "collapsed": false
   },
   "source": [
    "I am assuming you have already installed MongoDB but if you haven't you will need to navigate to [MongoDB](https://www.mongodb.org/)  and download the latest version. After installation of MongoDB you will need to follow the next steps and open a connection.\n",
    "\n",
    "After installation.\n",
    "\n",
    "Open a command prompt window in the `bin` folder from your `MongoDB` installation and type `mongod`.\n",
    "\n",
    "![](https://raw.githubusercontent.com/ChristopheHunt/MSDA---Coursework/master/Data%20607/Homework/Project%204/mongod.JPG)\n",
    "\n",
    "Then in a new command prompt window in the same `bin` folder type `mongo` and continue to create our new collection.\n",
    "\n",
    "![](https://raw.githubusercontent.com/ChristopheHunt/MSDA---Coursework/master/Data%20607/Homework/Project%204/mongo.JPG)"
   ]
  },
  {
   "cell_type": "code",
   "execution_count": 1,
   "metadata": {
    "collapsed": false
   },
   "outputs": [
    {
     "data": {
      "text/plain": [
       "<pymongo.results.DeleteResult at 0x142ff96c678>"
      ]
     },
     "execution_count": 1,
     "metadata": {},
     "output_type": "execute_result"
    }
   ],
   "source": [
    "from pymongo import MongoClient\n",
    "\n",
    "client = MongoClient()\n",
    "db = client.test\n",
    "liquor = db.iowaliquor\n",
    "liquor.delete_many({})"
   ]
  },
  {
   "cell_type": "code",
   "execution_count": 2,
   "metadata": {
    "collapsed": false
   },
   "outputs": [],
   "source": [
    "import numpy as np\n",
    "import pandas as pd\n",
    "import datetime\n",
    "import urllib\n",
    "import matplotlib\n",
    "#import plotly\n",
    "#plotly.offline.init_notebook_mode() "
   ]
  },
  {
   "cell_type": "code",
   "execution_count": 3,
   "metadata": {
    "collapsed": false
   },
   "outputs": [
    {
     "data": {
      "text/plain": [
       "<pymongo.results.InsertManyResult at 0x14281d5f5a0>"
      ]
     },
     "execution_count": 3,
     "metadata": {},
     "output_type": "execute_result"
    }
   ],
   "source": [
    "from sodapy import Socrata\n",
    "client = Socrata(\"data.iowa.gov\", \"ibhJMpvP9MQ1Rl0Ox5wlSMpgn\")\n",
    "results = client.get(\"spsw-4jax\", limit = 100000)\n",
    "added_results = liquor.insert_many(results)\n",
    "added_results"
   ]
  },
  {
   "cell_type": "code",
   "execution_count": 4,
   "metadata": {
    "collapsed": false
   },
   "outputs": [],
   "source": [
    "list = []\n",
    "for liquors in liquor.find():\n",
    "    list.append(liquors)"
   ]
  },
  {
   "cell_type": "code",
   "execution_count": 5,
   "metadata": {
    "collapsed": false,
    "scrolled": true
   },
   "outputs": [],
   "source": [
    "df = pd.DataFrame(list)\n",
    "df.columns = ['_id', 'address', 'bottle_volume_ml', 'category', 'category_name',\n",
    "       'city', 'county', 'county_number', 'date', 'im_desc',\n",
    "       'invoice_line_no', 'itemno', 'name', 'pack', 'sale_bottles',\n",
    "       'sale_dollars', 'sale_gallons', 'sale_liters', 'state_bottle_cost',\n",
    "       'state_bottle_retail', 'store', 'store_location',\n",
    "       'store_location_address', 'store_location_city',\n",
    "       'store_location_zip', 'vendor_name', 'vendor_no', 'zipcode']\n",
    "\n",
    "df['state_bottle_cost'] = df['state_bottle_cost'].astype('float64')\n",
    "df['bottle_volume_ml'] = df['bottle_volume_ml'].astype('float64')\n",
    "df['sale_dollars'] = df['sale_dollars'].astype('float64')\n",
    "df['sale_gallons'] = df['sale_gallons'].astype('float64')"
   ]
  },
  {
   "cell_type": "code",
   "execution_count": 6,
   "metadata": {
    "collapsed": false
   },
   "outputs": [
    {
     "data": {
      "text/html": [
       "<div>\n",
       "<table border=\"1\" class=\"dataframe\">\n",
       "  <thead>\n",
       "    <tr style=\"text-align: right;\">\n",
       "      <th></th>\n",
       "      <th>Total Bottle Volume (in ml)</th>\n",
       "    </tr>\n",
       "    <tr>\n",
       "      <th>category_name</th>\n",
       "      <th></th>\n",
       "    </tr>\n",
       "  </thead>\n",
       "  <tbody>\n",
       "    <tr>\n",
       "      <th>VODKA 80 PROOF</th>\n",
       "      <td>14583950.0</td>\n",
       "    </tr>\n",
       "    <tr>\n",
       "      <th>CANADIAN WHISKIES</th>\n",
       "      <td>9340975.0</td>\n",
       "    </tr>\n",
       "    <tr>\n",
       "      <th>SPICED RUM</th>\n",
       "      <td>5295000.0</td>\n",
       "    </tr>\n",
       "    <tr>\n",
       "      <th>STRAIGHT BOURBON WHISKIES</th>\n",
       "      <td>5000025.0</td>\n",
       "    </tr>\n",
       "    <tr>\n",
       "      <th>AMERICAN COCKTAILS</th>\n",
       "      <td>4727225.0</td>\n",
       "    </tr>\n",
       "    <tr>\n",
       "      <th>BLENDED WHISKIES</th>\n",
       "      <td>4587325.0</td>\n",
       "    </tr>\n",
       "    <tr>\n",
       "      <th>WHISKEY LIQUEUR</th>\n",
       "      <td>4504875.0</td>\n",
       "    </tr>\n",
       "    <tr>\n",
       "      <th>VODKA FLAVORED</th>\n",
       "      <td>4125300.0</td>\n",
       "    </tr>\n",
       "    <tr>\n",
       "      <th>PUERTO RICO &amp; VIRGIN ISLANDS RUM</th>\n",
       "      <td>4020575.0</td>\n",
       "    </tr>\n",
       "    <tr>\n",
       "      <th>IMPORTED VODKA</th>\n",
       "      <td>3635250.0</td>\n",
       "    </tr>\n",
       "  </tbody>\n",
       "</table>\n",
       "</div>"
      ],
      "text/plain": [
       "                                  Total Bottle Volume (in ml)\n",
       "category_name                                                \n",
       "VODKA 80 PROOF                                     14583950.0\n",
       "CANADIAN WHISKIES                                   9340975.0\n",
       "SPICED RUM                                          5295000.0\n",
       "STRAIGHT BOURBON WHISKIES                           5000025.0\n",
       "AMERICAN COCKTAILS                                  4727225.0\n",
       "BLENDED WHISKIES                                    4587325.0\n",
       "WHISKEY LIQUEUR                                     4504875.0\n",
       "VODKA FLAVORED                                      4125300.0\n",
       "PUERTO RICO & VIRGIN ISLANDS RUM                    4020575.0\n",
       "IMPORTED VODKA                                      3635250.0"
      ]
     },
     "execution_count": 6,
     "metadata": {},
     "output_type": "execute_result"
    }
   ],
   "source": [
    "column_subset = df[['category_name', 'county', 'bottle_volume_ml']]\n",
    "grouped = column_subset.groupby('category_name')\n",
    "grouped = pd.DataFrame(grouped.sum())\n",
    "results = grouped.sort_values(by = 'bottle_volume_ml', ascending = False)\n",
    "results.columns = ['Total Bottle Volume (in ml)']\n",
    "results.head(10)"
   ]
  },
  {
   "cell_type": "markdown",
   "metadata": {},
   "source": [
    "### Interestingly, we see that Vodka 80 proof and Canadian Whiskies sell at large volumes. I am curious how this translates to the cost of this liquor. I would assume that these are the cheaper liquors which are being sold at high volumes based on personal experience in stores. I typically see the cheaper liquors being sold in large bottles versus the more expensive liquors being sold at smaller volumes  "
   ]
  },
  {
   "cell_type": "code",
   "execution_count": 7,
   "metadata": {
    "collapsed": false
   },
   "outputs": [
    {
     "data": {
      "text/html": [
       "<div>\n",
       "<table border=\"1\" class=\"dataframe\">\n",
       "  <thead>\n",
       "    <tr style=\"text-align: right;\">\n",
       "      <th></th>\n",
       "      <th>Sale per gallon sold</th>\n",
       "    </tr>\n",
       "    <tr>\n",
       "      <th>category_name</th>\n",
       "      <th></th>\n",
       "    </tr>\n",
       "  </thead>\n",
       "  <tbody>\n",
       "    <tr>\n",
       "      <th>TRIPLE SEC</th>\n",
       "      <td>17.471847</td>\n",
       "    </tr>\n",
       "    <tr>\n",
       "      <th>AMERICAN AMARETTO</th>\n",
       "      <td>26.366995</td>\n",
       "    </tr>\n",
       "    <tr>\n",
       "      <th>AMERICAN COCKTAILS</th>\n",
       "      <td>27.089029</td>\n",
       "    </tr>\n",
       "    <tr>\n",
       "      <th>SPEARMINT SCHNAPPS</th>\n",
       "      <td>28.191818</td>\n",
       "    </tr>\n",
       "    <tr>\n",
       "      <th>TROPICAL FRUIT SCHNAPPS</th>\n",
       "      <td>30.422460</td>\n",
       "    </tr>\n",
       "    <tr>\n",
       "      <th>VODKA 80 PROOF</th>\n",
       "      <td>33.518350</td>\n",
       "    </tr>\n",
       "    <tr>\n",
       "      <th>WHITE CREME DE MENTHE</th>\n",
       "      <td>33.614457</td>\n",
       "    </tr>\n",
       "    <tr>\n",
       "      <th>CREME DE ALMOND</th>\n",
       "      <td>34.007791</td>\n",
       "    </tr>\n",
       "    <tr>\n",
       "      <th>ANISETTE</th>\n",
       "      <td>34.244030</td>\n",
       "    </tr>\n",
       "    <tr>\n",
       "      <th>ROOT BEER SCHNAPPS</th>\n",
       "      <td>34.553012</td>\n",
       "    </tr>\n",
       "  </tbody>\n",
       "</table>\n",
       "</div>"
      ],
      "text/plain": [
       "                         Sale per gallon sold\n",
       "category_name                                \n",
       "TRIPLE SEC                          17.471847\n",
       "AMERICAN AMARETTO                   26.366995\n",
       "AMERICAN COCKTAILS                  27.089029\n",
       "SPEARMINT SCHNAPPS                  28.191818\n",
       "TROPICAL FRUIT SCHNAPPS             30.422460\n",
       "VODKA 80 PROOF                      33.518350\n",
       "WHITE CREME DE MENTHE               33.614457\n",
       "CREME DE ALMOND                     34.007791\n",
       "ANISETTE                            34.244030\n",
       "ROOT BEER SCHNAPPS                  34.553012"
      ]
     },
     "execution_count": 7,
     "metadata": {},
     "output_type": "execute_result"
    }
   ],
   "source": [
    "column_subset = df[['category_name', 'sale_dollars', 'sale_gallons']]\n",
    "grouped = column_subset.groupby('category_name')\n",
    "grouped = pd.DataFrame(grouped.sum())\n",
    "results = pd.DataFrame(grouped.sort_values(by = 'sale_dollars', ascending = False))\n",
    "results = pd.DataFrame(results['sale_dollars'] / results['sale_gallons'])\n",
    "results.columns = ['Sale per gallon sold']\n",
    "results = results.sort_values(by = 'Sale per gallon sold', ascending = True)\n",
    "results.head(10)"
   ]
  },
  {
   "cell_type": "markdown",
   "metadata": {},
   "source": [
    "### It appears that our top volume sales are not necessarily the cheapest available liquors. While the top liquors by volume are Vodka 80 proof and Canadian Whiskies, we see more mixer type liquors being sold at lower prices per gallon. However, since we do see that Vodka 80 Proof is the most sold liquor by volume and is in the top 10 of cheapest liquors sold in Iowa. Let's explore the sales of Vodka 80 Proof more to see if there are any interesting patterns. "
   ]
  },
  {
   "cell_type": "code",
   "execution_count": 8,
   "metadata": {
    "collapsed": true
   },
   "outputs": [],
   "source": [
    "%matplotlib inline\n",
    "import matplotlib.pyplot as plt\n",
    "matplotlib.style.use('ggplot')\n",
    "import matplotlib.mlab as mlab\n",
    "import numpy as np\n",
    "import plotly.plotly as py\n",
    "\n",
    "import plotly.plotly as py\n",
    "py.sign_in('chris.edouard.hunt', '4ie1rbxbyt')"
   ]
  },
  {
   "cell_type": "code",
   "execution_count": 9,
   "metadata": {
    "collapsed": false
   },
   "outputs": [],
   "source": [
    "client = MongoClient()\n",
    "db = client.test\n",
    "liquor = db.iowaliquor\n",
    "liquor.delete_many({})\n",
    "\n",
    "from sodapy import Socrata\n",
    "\n",
    "client = Socrata(\"data.iowa.gov\", \"ibhJMpvP9MQ1Rl0Ox5wlSMpgn\")\n",
    "results = client.get(\"spsw-4jax\", where=\"category='1031080'\", limit = 100000)\n",
    "added_results = liquor.insert_many(results)"
   ]
  },
  {
   "cell_type": "markdown",
   "metadata": {},
   "source": [
    "We us \"where=\"category='1031080'\"\" because 1031080 is the Category ID for Vodka 80 Proof"
   ]
  },
  {
   "cell_type": "code",
   "execution_count": 10,
   "metadata": {
    "collapsed": false
   },
   "outputs": [],
   "source": [
    "list = []\n",
    "for liquors in liquor.find():\n",
    "    list.append(liquors)"
   ]
  },
  {
   "cell_type": "code",
   "execution_count": 11,
   "metadata": {
    "collapsed": true
   },
   "outputs": [],
   "source": [
    "df = pd.DataFrame(list)\n",
    "df.columns = ['_id', 'address', 'bottle_volume_ml', 'category', 'category_name',\n",
    "       'city', 'county', 'county_number', 'date', 'im_desc',\n",
    "       'invoice_line_no', 'itemno', 'name', 'pack', 'sale_bottles',\n",
    "       'sale_dollars', 'sale_gallons', 'sale_liters', 'state_bottle_cost',\n",
    "       'state_bottle_retail', 'store', 'store_location',\n",
    "       'store_location_address', 'store_location_city',\n",
    "       'store_location_zip', 'vendor_name', 'vendor_no', 'zipcode']\n",
    "\n",
    "df['state_bottle_cost'] = df['state_bottle_cost'].astype('float64')\n",
    "df['bottle_volume_ml'] = df['bottle_volume_ml'].astype('float64')\n",
    "df['sale_dollars'] = df['sale_dollars'].astype('float64')\n",
    "df['sale_gallons'] = df['sale_gallons'].astype('float64')\n",
    "df['date'] = pd.to_datetime(df['date'])"
   ]
  },
  {
   "cell_type": "code",
   "execution_count": 12,
   "metadata": {
    "collapsed": false
   },
   "outputs": [
    {
     "data": {
      "text/html": [
       "<div>\n",
       "<table border=\"1\" class=\"dataframe\">\n",
       "  <thead>\n",
       "    <tr style=\"text-align: right;\">\n",
       "      <th></th>\n",
       "      <th>0</th>\n",
       "    </tr>\n",
       "  </thead>\n",
       "  <tbody>\n",
       "    <tr>\n",
       "      <th>0</th>\n",
       "      <td>Polk</td>\n",
       "    </tr>\n",
       "    <tr>\n",
       "      <th>1</th>\n",
       "      <td>Linn</td>\n",
       "    </tr>\n",
       "    <tr>\n",
       "      <th>2</th>\n",
       "      <td>Scott</td>\n",
       "    </tr>\n",
       "    <tr>\n",
       "      <th>3</th>\n",
       "      <td>Dubuque</td>\n",
       "    </tr>\n",
       "    <tr>\n",
       "      <th>4</th>\n",
       "      <td>Black Hawk</td>\n",
       "    </tr>\n",
       "  </tbody>\n",
       "</table>\n",
       "</div>"
      ],
      "text/plain": [
       "            0\n",
       "0        Polk\n",
       "1        Linn\n",
       "2       Scott\n",
       "3     Dubuque\n",
       "4  Black Hawk"
      ]
     },
     "execution_count": 12,
     "metadata": {},
     "output_type": "execute_result"
    }
   ],
   "source": [
    "top_n_countries = 5\n",
    "top_counties = df[['county', 'sale_gallons']]\n",
    "top_counties = top_counties.groupby([\"county\"]).sum().sort_values(by = 'sale_gallons', ascending = False).head(top_n_countries).index.values.tolist()\n",
    "pd.DataFrame(top_counties)"
   ]
  },
  {
   "cell_type": "markdown",
   "metadata": {},
   "source": [
    "We will look at the top 5 counties and the volume of VODKA 80 PROOF sales over the time period of the data set. Polk County is a the top of our list but that should not be suprising as that is the largest county by population in Iowa. "
   ]
  },
  {
   "cell_type": "code",
   "execution_count": 13,
   "metadata": {
    "collapsed": false
   },
   "outputs": [
    {
     "data": {
      "text/html": [
       "<div>\n",
       "<table border=\"1\" class=\"dataframe\">\n",
       "  <thead>\n",
       "    <tr style=\"text-align: right;\">\n",
       "      <th></th>\n",
       "      <th></th>\n",
       "      <th>sale_gallons</th>\n",
       "    </tr>\n",
       "    <tr>\n",
       "      <th>county</th>\n",
       "      <th>date</th>\n",
       "      <th></th>\n",
       "    </tr>\n",
       "  </thead>\n",
       "  <tbody>\n",
       "    <tr>\n",
       "      <th rowspan=\"30\" valign=\"top\">Black Hawk</th>\n",
       "      <th>2012-01-31</th>\n",
       "      <td>2578.556986</td>\n",
       "    </tr>\n",
       "    <tr>\n",
       "      <th>2012-02-29</th>\n",
       "      <td>301.836383</td>\n",
       "    </tr>\n",
       "    <tr>\n",
       "      <th>2012-03-31</th>\n",
       "      <td>279.203442</td>\n",
       "    </tr>\n",
       "    <tr>\n",
       "      <th>2012-04-30</th>\n",
       "      <td>363.546974</td>\n",
       "    </tr>\n",
       "    <tr>\n",
       "      <th>2012-05-31</th>\n",
       "      <td>351.982843</td>\n",
       "    </tr>\n",
       "    <tr>\n",
       "      <th>2012-06-30</th>\n",
       "      <td>423.903684</td>\n",
       "    </tr>\n",
       "    <tr>\n",
       "      <th>2012-07-31</th>\n",
       "      <td>393.484272</td>\n",
       "    </tr>\n",
       "    <tr>\n",
       "      <th>2012-08-31</th>\n",
       "      <td>368.361510</td>\n",
       "    </tr>\n",
       "    <tr>\n",
       "      <th>2012-09-30</th>\n",
       "      <td>216.376724</td>\n",
       "    </tr>\n",
       "    <tr>\n",
       "      <th>2012-10-31</th>\n",
       "      <td>417.616389</td>\n",
       "    </tr>\n",
       "    <tr>\n",
       "      <th>2012-11-30</th>\n",
       "      <td>313.625061</td>\n",
       "    </tr>\n",
       "    <tr>\n",
       "      <th>2012-12-31</th>\n",
       "      <td>386.516734</td>\n",
       "    </tr>\n",
       "    <tr>\n",
       "      <th>2013-01-31</th>\n",
       "      <td>255.011886</td>\n",
       "    </tr>\n",
       "    <tr>\n",
       "      <th>2013-02-28</th>\n",
       "      <td>234.406466</td>\n",
       "    </tr>\n",
       "    <tr>\n",
       "      <th>2013-03-31</th>\n",
       "      <td>262.705897</td>\n",
       "    </tr>\n",
       "    <tr>\n",
       "      <th>2013-04-30</th>\n",
       "      <td>383.683489</td>\n",
       "    </tr>\n",
       "    <tr>\n",
       "      <th>2013-05-31</th>\n",
       "      <td>260.533082</td>\n",
       "    </tr>\n",
       "    <tr>\n",
       "      <th>2013-06-30</th>\n",
       "      <td>347.683442</td>\n",
       "    </tr>\n",
       "    <tr>\n",
       "      <th>2013-07-31</th>\n",
       "      <td>383.181562</td>\n",
       "    </tr>\n",
       "    <tr>\n",
       "      <th>2013-08-31</th>\n",
       "      <td>348.191974</td>\n",
       "    </tr>\n",
       "    <tr>\n",
       "      <th>2013-09-30</th>\n",
       "      <td>399.064907</td>\n",
       "    </tr>\n",
       "    <tr>\n",
       "      <th>2013-10-31</th>\n",
       "      <td>324.370259</td>\n",
       "    </tr>\n",
       "    <tr>\n",
       "      <th>2013-11-30</th>\n",
       "      <td>269.026214</td>\n",
       "    </tr>\n",
       "    <tr>\n",
       "      <th>2013-12-31</th>\n",
       "      <td>393.622962</td>\n",
       "    </tr>\n",
       "    <tr>\n",
       "      <th>2014-01-31</th>\n",
       "      <td>294.261249</td>\n",
       "    </tr>\n",
       "    <tr>\n",
       "      <th>2014-02-28</th>\n",
       "      <td>267.698749</td>\n",
       "    </tr>\n",
       "    <tr>\n",
       "      <th>2014-03-31</th>\n",
       "      <td>261.008592</td>\n",
       "    </tr>\n",
       "    <tr>\n",
       "      <th>2014-04-30</th>\n",
       "      <td>321.695517</td>\n",
       "    </tr>\n",
       "    <tr>\n",
       "      <th>2014-05-31</th>\n",
       "      <td>298.336103</td>\n",
       "    </tr>\n",
       "    <tr>\n",
       "      <th>2014-06-30</th>\n",
       "      <td>389.178268</td>\n",
       "    </tr>\n",
       "    <tr>\n",
       "      <th>...</th>\n",
       "      <th>...</th>\n",
       "      <td>...</td>\n",
       "    </tr>\n",
       "    <tr>\n",
       "      <th rowspan=\"30\" valign=\"top\">Scott</th>\n",
       "      <th>2013-09-30</th>\n",
       "      <td>484.346249</td>\n",
       "    </tr>\n",
       "    <tr>\n",
       "      <th>2013-10-31</th>\n",
       "      <td>869.469476</td>\n",
       "    </tr>\n",
       "    <tr>\n",
       "      <th>2013-11-30</th>\n",
       "      <td>396.852466</td>\n",
       "    </tr>\n",
       "    <tr>\n",
       "      <th>2013-12-31</th>\n",
       "      <td>600.661204</td>\n",
       "    </tr>\n",
       "    <tr>\n",
       "      <th>2014-01-31</th>\n",
       "      <td>488.493751</td>\n",
       "    </tr>\n",
       "    <tr>\n",
       "      <th>2014-02-28</th>\n",
       "      <td>612.958413</td>\n",
       "    </tr>\n",
       "    <tr>\n",
       "      <th>2014-03-31</th>\n",
       "      <td>571.034308</td>\n",
       "    </tr>\n",
       "    <tr>\n",
       "      <th>2014-04-30</th>\n",
       "      <td>693.121422</td>\n",
       "    </tr>\n",
       "    <tr>\n",
       "      <th>2014-05-31</th>\n",
       "      <td>458.582870</td>\n",
       "    </tr>\n",
       "    <tr>\n",
       "      <th>2014-06-30</th>\n",
       "      <td>563.043104</td>\n",
       "    </tr>\n",
       "    <tr>\n",
       "      <th>2014-07-31</th>\n",
       "      <td>732.780252</td>\n",
       "    </tr>\n",
       "    <tr>\n",
       "      <th>2014-08-31</th>\n",
       "      <td>500.374889</td>\n",
       "    </tr>\n",
       "    <tr>\n",
       "      <th>2014-09-30</th>\n",
       "      <td>573.814719</td>\n",
       "    </tr>\n",
       "    <tr>\n",
       "      <th>2014-10-31</th>\n",
       "      <td>922.554850</td>\n",
       "    </tr>\n",
       "    <tr>\n",
       "      <th>2014-11-30</th>\n",
       "      <td>416.533284</td>\n",
       "    </tr>\n",
       "    <tr>\n",
       "      <th>2014-12-31</th>\n",
       "      <td>644.302427</td>\n",
       "    </tr>\n",
       "    <tr>\n",
       "      <th>2015-01-31</th>\n",
       "      <td>408.218468</td>\n",
       "    </tr>\n",
       "    <tr>\n",
       "      <th>2015-02-28</th>\n",
       "      <td>445.182743</td>\n",
       "    </tr>\n",
       "    <tr>\n",
       "      <th>2015-03-31</th>\n",
       "      <td>505.981940</td>\n",
       "    </tr>\n",
       "    <tr>\n",
       "      <th>2015-04-30</th>\n",
       "      <td>557.687015</td>\n",
       "    </tr>\n",
       "    <tr>\n",
       "      <th>2015-05-31</th>\n",
       "      <td>484.399084</td>\n",
       "    </tr>\n",
       "    <tr>\n",
       "      <th>2015-06-30</th>\n",
       "      <td>607.991979</td>\n",
       "    </tr>\n",
       "    <tr>\n",
       "      <th>2015-07-31</th>\n",
       "      <td>519.500945</td>\n",
       "    </tr>\n",
       "    <tr>\n",
       "      <th>2015-08-31</th>\n",
       "      <td>540.707357</td>\n",
       "    </tr>\n",
       "    <tr>\n",
       "      <th>2015-09-30</th>\n",
       "      <td>657.002499</td>\n",
       "    </tr>\n",
       "    <tr>\n",
       "      <th>2015-10-31</th>\n",
       "      <td>501.028715</td>\n",
       "    </tr>\n",
       "    <tr>\n",
       "      <th>2015-11-30</th>\n",
       "      <td>502.752437</td>\n",
       "    </tr>\n",
       "    <tr>\n",
       "      <th>2015-12-31</th>\n",
       "      <td>753.055457</td>\n",
       "    </tr>\n",
       "    <tr>\n",
       "      <th>2016-01-31</th>\n",
       "      <td>431.287293</td>\n",
       "    </tr>\n",
       "    <tr>\n",
       "      <th>2016-02-29</th>\n",
       "      <td>379.714304</td>\n",
       "    </tr>\n",
       "  </tbody>\n",
       "</table>\n",
       "<p>253 rows × 1 columns</p>\n",
       "</div>"
      ],
      "text/plain": [
       "                       sale_gallons\n",
       "county     date                    \n",
       "Black Hawk 2012-01-31   2578.556986\n",
       "           2012-02-29    301.836383\n",
       "           2012-03-31    279.203442\n",
       "           2012-04-30    363.546974\n",
       "           2012-05-31    351.982843\n",
       "           2012-06-30    423.903684\n",
       "           2012-07-31    393.484272\n",
       "           2012-08-31    368.361510\n",
       "           2012-09-30    216.376724\n",
       "           2012-10-31    417.616389\n",
       "           2012-11-30    313.625061\n",
       "           2012-12-31    386.516734\n",
       "           2013-01-31    255.011886\n",
       "           2013-02-28    234.406466\n",
       "           2013-03-31    262.705897\n",
       "           2013-04-30    383.683489\n",
       "           2013-05-31    260.533082\n",
       "           2013-06-30    347.683442\n",
       "           2013-07-31    383.181562\n",
       "           2013-08-31    348.191974\n",
       "           2013-09-30    399.064907\n",
       "           2013-10-31    324.370259\n",
       "           2013-11-30    269.026214\n",
       "           2013-12-31    393.622962\n",
       "           2014-01-31    294.261249\n",
       "           2014-02-28    267.698749\n",
       "           2014-03-31    261.008592\n",
       "           2014-04-30    321.695517\n",
       "           2014-05-31    298.336103\n",
       "           2014-06-30    389.178268\n",
       "...                             ...\n",
       "Scott      2013-09-30    484.346249\n",
       "           2013-10-31    869.469476\n",
       "           2013-11-30    396.852466\n",
       "           2013-12-31    600.661204\n",
       "           2014-01-31    488.493751\n",
       "           2014-02-28    612.958413\n",
       "           2014-03-31    571.034308\n",
       "           2014-04-30    693.121422\n",
       "           2014-05-31    458.582870\n",
       "           2014-06-30    563.043104\n",
       "           2014-07-31    732.780252\n",
       "           2014-08-31    500.374889\n",
       "           2014-09-30    573.814719\n",
       "           2014-10-31    922.554850\n",
       "           2014-11-30    416.533284\n",
       "           2014-12-31    644.302427\n",
       "           2015-01-31    408.218468\n",
       "           2015-02-28    445.182743\n",
       "           2015-03-31    505.981940\n",
       "           2015-04-30    557.687015\n",
       "           2015-05-31    484.399084\n",
       "           2015-06-30    607.991979\n",
       "           2015-07-31    519.500945\n",
       "           2015-08-31    540.707357\n",
       "           2015-09-30    657.002499\n",
       "           2015-10-31    501.028715\n",
       "           2015-11-30    502.752437\n",
       "           2015-12-31    753.055457\n",
       "           2016-01-31    431.287293\n",
       "           2016-02-29    379.714304\n",
       "\n",
       "[253 rows x 1 columns]"
      ]
     },
     "execution_count": 13,
     "metadata": {},
     "output_type": "execute_result"
    }
   ],
   "source": [
    "vodka_column_subset = df[['sale_gallons', 'county', 'date']]\n",
    "vodka_column_subset = vodka_column_subset[vodka_column_subset['county'].isin(top_counties)]\n",
    "vodka_column_subset['date'] =  pd.to_datetime(vodka_column_subset['date'], format = \"%m/%d/%Y\")\n",
    "vodka_column_subset = vodka_column_subset.set_index('date')\n",
    "grouped = vodka_column_subset.groupby([\"county\", pd.TimeGrouper('M')]).sum()\n",
    "grouped"
   ]
  },
  {
   "cell_type": "code",
   "execution_count": 14,
   "metadata": {
    "collapsed": false
   },
   "outputs": [
    {
     "data": {
      "text/plain": [
       "<matplotlib.figure.Figure at 0x142bacd5438>"
      ]
     },
     "metadata": {},
     "output_type": "display_data"
    },
    {
     "data": {
      "image/png": "[encoded data removed]",
      "text/plain": [
       "<matplotlib.figure.Figure at 0x142bacd1080>"
      ]
     },
     "metadata": {},
     "output_type": "display_data"
    }
   ],
   "source": [
    "plotting = grouped.unstack().fillna(0).transpose().unstack(level=0)\n",
    "plotting.columns = plotting.columns.droplevel(1)\n",
    "\n",
    "fig = plt.figure()\n",
    "ax = plotting.unstack().fillna(0).transpose().unstack(level=0).plot()\n",
    "\n",
    "#legend help from http://stackoverflow.com/questions/4700614/how-to-put-the-legend-out-of-the-plot\n",
    "box = ax.get_position()\n",
    "ax.set_position([box.x0, box.y0, box.width * 2, box.height])\n",
    "ax.set_xlim(pd.Timestamp('2012-04-30'), pd.Timestamp('2016-04-01'))\n",
    "ax.set_ylim(0,2500)\n",
    "ax.legend(loc='center left', bbox_to_anchor=(1, 0.5))\n",
    "plt.xticks(rotation='vertical')\n",
    "plt.xlabel(\"date\")\n",
    "plt.ylabel(\"Gallons sold\")\n",
    "\n",
    "plt.show()"
   ]
  },
  {
   "cell_type": "code",
   "execution_count": 50,
   "metadata": {
    "collapsed": false
   },
   "outputs": [
    {
     "ename": "OSError",
     "evalue": "cannot locate \\cb_2015_us_county_20m.shp",
     "output_type": "error",
     "traceback": [
      "\u001b[1;31m---------------------------------------------------------------------------\u001b[0m",
      "\u001b[1;31mOSError\u001b[0m                                   Traceback (most recent call last)",
      "\u001b[1;32m<ipython-input-50-1772362daa0f>\u001b[0m in \u001b[0;36m<module>\u001b[1;34m()\u001b[0m\n\u001b[0;32m      9\u001b[0m             urcrnrlon=180. ,urcrnrlat=80.)\n\u001b[0;32m     10\u001b[0m \u001b[1;33m\u001b[0m\u001b[0m\n\u001b[1;32m---> 11\u001b[1;33m \u001b[0ms\u001b[0m \u001b[1;33m=\u001b[0m \u001b[0mm\u001b[0m\u001b[1;33m.\u001b[0m\u001b[0mreadshapefile\u001b[0m\u001b[1;33m(\u001b[0m \u001b[1;34m\"\\\\cb_2015_us_county_20m\"\u001b[0m\u001b[1;33m,\u001b[0m \u001b[1;34m'cb_2015_us_county_20m'\u001b[0m\u001b[1;33m)\u001b[0m\u001b[1;33m\u001b[0m\u001b[0m\n\u001b[0m\u001b[0;32m     12\u001b[0m \u001b[1;33m\u001b[0m\u001b[0m\n\u001b[0;32m     13\u001b[0m \u001b[0mplt\u001b[0m\u001b[1;33m.\u001b[0m\u001b[0mshow\u001b[0m\u001b[1;33m(\u001b[0m\u001b[1;33m)\u001b[0m\u001b[1;33m\u001b[0m\u001b[0m\n",
      "\u001b[1;32mC:\\Users\\Christophe\\Anaconda3\\lib\\site-packages\\mpl_toolkits\\basemap\\__init__.py\u001b[0m in \u001b[0;36mreadshapefile\u001b[1;34m(self, shapefile, name, drawbounds, zorder, linewidth, color, antialiased, ax, default_encoding)\u001b[0m\n\u001b[0;32m   2132\u001b[0m         \u001b[0mshp\u001b[0m\u001b[1;33m.\u001b[0m\u001b[0mdefault_encoding\u001b[0m \u001b[1;33m=\u001b[0m \u001b[0mdefault_encoding\u001b[0m\u001b[1;33m\u001b[0m\u001b[0m\n\u001b[0;32m   2133\u001b[0m         \u001b[1;32mif\u001b[0m \u001b[1;32mnot\u001b[0m \u001b[0mos\u001b[0m\u001b[1;33m.\u001b[0m\u001b[0mpath\u001b[0m\u001b[1;33m.\u001b[0m\u001b[0mexists\u001b[0m\u001b[1;33m(\u001b[0m\u001b[1;34m'%s.shp'\u001b[0m\u001b[1;33m%\u001b[0m\u001b[0mshapefile\u001b[0m\u001b[1;33m)\u001b[0m\u001b[1;33m:\u001b[0m\u001b[1;33m\u001b[0m\u001b[0m\n\u001b[1;32m-> 2134\u001b[1;33m             \u001b[1;32mraise\u001b[0m \u001b[0mIOError\u001b[0m\u001b[1;33m(\u001b[0m\u001b[1;34m'cannot locate %s.shp'\u001b[0m\u001b[1;33m%\u001b[0m\u001b[0mshapefile\u001b[0m\u001b[1;33m)\u001b[0m\u001b[1;33m\u001b[0m\u001b[0m\n\u001b[0m\u001b[0;32m   2135\u001b[0m         \u001b[1;32mif\u001b[0m \u001b[1;32mnot\u001b[0m \u001b[0mos\u001b[0m\u001b[1;33m.\u001b[0m\u001b[0mpath\u001b[0m\u001b[1;33m.\u001b[0m\u001b[0mexists\u001b[0m\u001b[1;33m(\u001b[0m\u001b[1;34m'%s.shx'\u001b[0m\u001b[1;33m%\u001b[0m\u001b[0mshapefile\u001b[0m\u001b[1;33m)\u001b[0m\u001b[1;33m:\u001b[0m\u001b[1;33m\u001b[0m\u001b[0m\n\u001b[0;32m   2136\u001b[0m             \u001b[1;32mraise\u001b[0m \u001b[0mIOError\u001b[0m\u001b[1;33m(\u001b[0m\u001b[1;34m'cannot locate %s.shx'\u001b[0m\u001b[1;33m%\u001b[0m\u001b[0mshapefile\u001b[0m\u001b[1;33m)\u001b[0m\u001b[1;33m\u001b[0m\u001b[0m\n",
      "\u001b[1;31mOSError\u001b[0m: cannot locate \\cb_2015_us_county_20m.shp"
     ]
    }
   ],
   "source": [
    "import matplotlib.pyplot as plt\n",
    "from mpl_toolkits.basemap import Basemap\n",
    "import os\n",
    "\n",
    "\n",
    "# the map, a Miller Cylindrical projection\n",
    "m = Basemap(projection='mill',\n",
    "            llcrnrlon=-180. ,llcrnrlat=-60,\n",
    "            urcrnrlon=180. ,urcrnrlat=80.)\n",
    "\n",
    "s = m.readshapefile( \"\\\\cb_2015_us_county_20m\", 'cb_2015_us_county_20m')\n",
    "\n",
    "plt.show()"
   ]
  },
  {
   "cell_type": "code",
   "execution_count": 56,
   "metadata": {
    "collapsed": false
   },
   "outputs": [],
   "source": [
    "import fiona"
   ]
  },
  {
   "cell_type": "code",
   "execution_count": 45,
   "metadata": {
    "collapsed": false
   },
   "outputs": [
    {
     "data": {
      "text/plain": [
       "'C:\\\\Users\\\\Christophe\\\\Documents\\\\GitHub\\\\MSDA - Coursework\\\\Data 602\\\\Data 602 - Advanced Programming\\\\Final Project'"
      ]
     },
     "execution_count": 45,
     "metadata": {},
     "output_type": "execute_result"
    }
   ],
   "source": []
  },
  {
   "cell_type": "code",
   "execution_count": 9,
   "metadata": {
    "collapsed": false
   },
   "outputs": [
    {
     "data": {
      "text/plain": [
       "<pymongo.results.InsertManyResult at 0x27d0d8828>"
      ]
     },
     "execution_count": 9,
     "metadata": {},
     "output_type": "execute_result"
    }
   ],
   "source": [
    "for sale in liquor.find({\"city\" : \"IOWA CITY\"}):\n",
    " print(sale)"
   ]
  }
 ],
 "metadata": {
  "kernelspec": {
   "display_name": "Python 3",
   "language": "python",
   "name": "python3"
  },
  "language_info": {
   "codemirror_mode": {
    "name": "ipython",
    "version": 3
   },
   "file_extension": ".py",
   "mimetype": "text/x-python",
   "name": "python",
   "nbconvert_exporter": "python",
   "pygments_lexer": "ipython3",
   "version": "3.5.1"
  }
 },
 "nbformat": 4,
 "nbformat_minor": 0
}
