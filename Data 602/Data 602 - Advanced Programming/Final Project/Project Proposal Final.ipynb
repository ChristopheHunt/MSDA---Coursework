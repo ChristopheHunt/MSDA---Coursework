{
 "cells": [
  {
   "cell_type": "markdown",
   "metadata": {},
   "source": [
    "# Iowa Liquor Sales "
   ]
  },
  {
   "cell_type": "markdown",
   "metadata": {},
   "source": [
    "## Project Summary "
   ]
  },
  {
   "cell_type": "markdown",
   "metadata": {},
   "source": [
    "In this project, I will be analyzing a moderately large data set (~790mb)  provided by Iowa's [Alcoholic Beverages Division](https://abd.iowa.gov/division) on spirit purchases from January 1, 2012 to current. The data set has time stamped store level information which will allow for both a geo-spatial analysis of purchases by region and a time series analysis of purchases. \n",
    "\n",
    "In order to perform this analysis, I will need to utilize several different technologies. I will be using a NoSQL solution of MongoDB to store the raw data. Then I will use Numpy and Pandas to transform the raw data into a useful format, including any other relevant python module. Finally, I will use Plotly and any other python visualization techniques to illustrate the insights discovered in the analysis section. \n",
    "\n",
    "Ultimately, my main goal for this project is to gain a deeper level of understanding in using python to analyize geographic information and time series data. My secondary goals will be to learn to process information efficiently with python as this data set is relatively large and to discover one meaningful insight about the data. I hope that through this project, I will eventually be able to translate the work to a real world appliaction as geographic information of purchases has obvious commerical value. "
   ]
  },
  {
   "cell_type": "markdown",
   "metadata": {},
   "source": [
    "## Data Set \n",
    "\n",
    "The state of Iowa's Alcoholic Beverages Division [dataset](https://data.iowa.gov/Economy/Iowa-Liquor-Sales/m3tr-qhgy  ) consists of spirit purchase information from January 1, 2012 to current. \n",
    "\n",
    "> The Division can provide this level of information because Iowa is one of 17 states that directly controls the sale and distribution of alcoholic beverages https://abd.iowa.gov/division. \n",
    "\n",
    "It should be noted that the data set is limited to Iowa Class “E” liquor license which is for:  \n",
    "\n",
    "> Grocery stores, liquor stores, convenience stores, etc. Allows commercial establishments to sell liquor for off-premises consumption in original unopened containers. No sales by the drink.\n",
    "\n",
    "Also, while this data set is not direct consumer sales, we can use this information as a proxy indicator of sales because most stores should be only buying spirits that sell well in their stores.  \n",
    "\n",
    "The structure of each line is as follows:\n",
    "\n",
    ">   \n",
    "JSON format    \n",
    "{  \n",
    "\"DATE\": [ \"02/26/2015\" ],  \n",
    "\"CONVENIENCE.STORE\": [ \"\" ],  \n",
    "\"STORE\": [ 2515 ],  \n",
    "\"NAME\": [ \"Hy-Vee Food Store #1 / Mason City\" ],  \n",
    "\"ADDRESS\": [ \"2400 4TH ST SW\" ],  \n",
    "\"CITY\": [ \"MASON CITY\" ],  \n",
    "\"ZIPCODE\": [ \"50401\" ],  \n",
    "\"STORE.LOCATION\": [ \"2400 4TH ST SW\\nMASON CITY 50401\\n(43.148463097000047, -93.236272961999987)\" ],  \n",
    "\"COUNTY.NUMBER\": [ 17 ],  \n",
    "\"COUNTY\": [ \"Cerro Gordo\" ],  \n",
    "\"CATEGORY\": [ 1022100 ],  \n",
    "\"CATEGORY.NAME\": [ \"TEQUILA\" ],  \n",
    "\"VENDOR.NO\": [ 434 ],  \n",
    "\"VENDOR\": [ \"Luxco-St Louis\" ],  \n",
    "\"ITEM\": [ 87937 ],  \n",
    "\"DESCRIPTION\": [ \"Juarez Tequila Silver\" ],  \n",
    "\"PACK\": [ 12 ],  \n",
    "\"LITER.SIZE\": [ 1000 ],  \n",
    "\"STATE.BTL.COST\": [ \"6.92\"],  \n",
    "\"BTL.PRICE\": [\"10.38\" ],  \n",
    "\"BOTTLE.QTY\": [ 48 ],  \n",
    "\"TOTAL\": [ \"498.24\" ]   \n",
    "}"
   ]
  },
  {
   "cell_type": "markdown",
   "metadata": {},
   "source": [
    "## Approach "
   ]
  },
  {
   "cell_type": "markdown",
   "metadata": {},
   "source": [
    "### Data Management \n",
    "\n",
    "The program will be automated to pull the data from https://data.iowa.gov. \n",
    "\n",
    "Then the program will write the information to a MongoDB collection, this step will require some interaction with the user in opening a MongoDB connection and having MongoDB installed."
   ]
  },
  {
   "cell_type": "code",
   "execution_count": 16,
   "metadata": {
    "collapsed": false
   },
   "outputs": [
    {
     "data": {
      "text/html": [
       "\n",
       "        <iframe\n",
       "            width=\"900\"\n",
       "            height=\"250\"\n",
       "            src=\"https://en.wikipedia.org/wiki/MongoDB\"\n",
       "            frameborder=\"0\"\n",
       "            allowfullscreen\n",
       "        ></iframe>\n",
       "        "
      ],
      "text/plain": [
       "<IPython.lib.display.IFrame at 0x3d5f5f8>"
      ]
     },
     "execution_count": 16,
     "metadata": {},
     "output_type": "execute_result"
    }
   ],
   "source": [
    "from IPython.display import IFrame\n",
    "IFrame('https://en.wikipedia.org/wiki/MongoDB', width=900, height=250)"
   ]
  },
  {
   "cell_type": "markdown",
   "metadata": {},
   "source": [
    "### Analysis \n",
    "\n",
    "Then an analysis will be made on the data using mainly numpy and pandas but possible some other useful python modules. I will develop some interactions with the user at this stage, such as the ability to set filters and possible certain columns to analyze. However, there will be some validations at this stage to ensure the user does not attempt to perform an inappropriate operation. "
   ]
  },
  {
   "cell_type": "code",
   "execution_count": 17,
   "metadata": {
    "collapsed": false
   },
   "outputs": [
    {
     "data": {
      "text/html": [
       "\n",
       "        <iframe\n",
       "            width=\"900\"\n",
       "            height=\"250\"\n",
       "            src=\"https://en.wikipedia.org/wiki/NumPy\"\n",
       "            frameborder=\"0\"\n",
       "            allowfullscreen\n",
       "        ></iframe>\n",
       "        "
      ],
      "text/plain": [
       "<IPython.lib.display.IFrame at 0x3d5f4e0>"
      ]
     },
     "execution_count": 17,
     "metadata": {},
     "output_type": "execute_result"
    }
   ],
   "source": [
    "IFrame('https://en.wikipedia.org/wiki/NumPy', width=900, height=250)"
   ]
  },
  {
   "cell_type": "code",
   "execution_count": 18,
   "metadata": {
    "collapsed": false
   },
   "outputs": [
    {
     "data": {
      "text/html": [
       "\n",
       "        <iframe\n",
       "            width=\"900\"\n",
       "            height=\"250\"\n",
       "            src=\"https://en.wikipedia.org/wiki/Pandas_(software)\"\n",
       "            frameborder=\"0\"\n",
       "            allowfullscreen\n",
       "        ></iframe>\n",
       "        "
      ],
      "text/plain": [
       "<IPython.lib.display.IFrame at 0x3d5ff60>"
      ]
     },
     "execution_count": 18,
     "metadata": {},
     "output_type": "execute_result"
    }
   ],
   "source": [
    "IFrame('https://en.wikipedia.org/wiki/Pandas_(software)', width=900, height=250)"
   ]
  },
  {
   "cell_type": "markdown",
   "metadata": {},
   "source": [
    "### Visualization\n",
    "Finally, the graphical representation will be done through Plotly for the time series analysis and geo-spatial. Due to the data being at the state level I do have some concerns that Plotly isn't designed for state level analysis so I may need to use another type of module. "
   ]
  },
  {
   "cell_type": "code",
   "execution_count": 19,
   "metadata": {
    "collapsed": false
   },
   "outputs": [
    {
     "data": {
      "text/html": [
       "\n",
       "        <iframe\n",
       "            width=\"900\"\n",
       "            height=\"550\"\n",
       "            src=\"https://plot.ly/python/\"\n",
       "            frameborder=\"0\"\n",
       "            allowfullscreen\n",
       "        ></iframe>\n",
       "        "
      ],
      "text/plain": [
       "<IPython.lib.display.IFrame at 0x3d5f208>"
      ]
     },
     "execution_count": 19,
     "metadata": {},
     "output_type": "execute_result"
    }
   ],
   "source": [
    "IFrame('https://plot.ly/python/', width=900, height=550) "
   ]
  },
  {
   "cell_type": "markdown",
   "metadata": {},
   "source": [
    "## Goals \n",
    "\n",
    "I want to dive deep into geo-spatial analysis using python and different visualization techniques. Some of the most significant and lasting visualizations I have encountered were GIS related and it was due to seeing the information spatial represented. \n",
    "\n",
    "I want to fully understand setting up and solving a time series analysis. Data that is time stamped is very interesting and commonly analyzed because it is useful to be able to understand changes over time. I also hope to become more versatile in understanding date time data types in python and how to analyze such types. \n",
    "\n",
    "Finally, after this entire process I hope that I will be able to find one meaningful insight. This large data set  should have some interesting information, such as the timing of liquor sales related to holiday or general Iowa shopping trends. "
   ]
  },
  {
   "cell_type": "code",
   "execution_count": null,
   "metadata": {
    "collapsed": true
   },
   "outputs": [],
   "source": []
  }
 ],
 "metadata": {
  "kernelspec": {
   "display_name": "Python 2",
   "language": "python",
   "name": "python2"
  },
  "language_info": {
   "codemirror_mode": {
    "name": "ipython",
    "version": 2
   },
   "file_extension": ".py",
   "mimetype": "text/x-python",
   "name": "python",
   "nbconvert_exporter": "python",
   "pygments_lexer": "ipython2",
   "version": "2.7.11"
  }
 },
 "nbformat": 4,
 "nbformat_minor": 0
}
