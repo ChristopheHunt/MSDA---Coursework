{
 "cells": [
  {
   "cell_type": "markdown",
   "metadata": {},
   "source": [
    "# Iowa Liquor Sales "
   ]
  },
  {
   "cell_type": "markdown",
   "metadata": {},
   "source": [
    "## Project Summary "
   ]
  },
  {
   "cell_type": "markdown",
   "metadata": {},
   "source": [
    "In this project, I will be analyzing a moderately large data set (~790mb)  provided by Iowa's [Alcoholic Beverages Division](https://abd.iowa.gov/division) on spirit purchases from January 1, 2012 to current. The data set has time stamped store level information which will allow for both a geo-spatial analysis of purchases by region and a time series analysis of purchases. \n",
    "\n",
    "In order to perform this analysis, I will need to utilize several different technologies. I will be using a NoSQL solution of MongoDB to store the raw data. Then I will use Numpy and Pandas to transform the raw data into a useful format, including any other relevant python module. Finally, I will use Plotly and any other python visualization techniques to illustrate the insights discovered in the analysis section. \n",
    "\n",
    "Ultimately, my main goal for this project is to gain a deeper level of understanding in using python to analyize geographic information and time series data. My secondary goals will be to learn to process information efficiently with python as this data set is relatively large and to discover one meaningful insight about the data. I hope that through this project, I will eventually be able to translate the work to a real world appliaction as geographic information of purchases has obvious commerical value. "
   ]
  },
  {
   "cell_type": "markdown",
   "metadata": {},
   "source": [
    "## Data Set \n",
    "\n",
    "The state of Iowa's Alcoholic Beverages Division [dataset](https://data.iowa.gov/Economy/Iowa-Liquor-Sales/m3tr-qhgy  ) consists of spirit purchase information from January 1, 2012 to current. \n",
    "\n",
    "> The Division can provide this level of information because Iowa is one of 17 states that directly controls the sale and distribution of alcoholic beverages https://abd.iowa.gov/division. \n",
    "\n",
    "It should be noted that the data set is limited to Iowa Class “E” liquor license which is for:  \n",
    "\n",
    "> Grocery stores, liquor stores, convenience stores, etc. Allows commercial establishments to sell liquor for off-premises consumption in original unopened containers. No sales by the drink.\n",
    "\n",
    "Also, while this data set is not direct consumer sales, we can use this information as a proxy indicator of sales because most stores should be only buying spirits that sell well in their stores.  \n"
   ]
  },
  {
   "cell_type": "markdown",
   "metadata": {},
   "source": [
    "### Data structure"
   ]
  },
  {
   "cell_type": "code",
   "execution_count": 1,
   "metadata": {
    "collapsed": false
   },
   "outputs": [
    {
     "data": {
      "text/html": [
       "<div>\n",
       "<table border=\"1\" class=\"dataframe\">\n",
       "  <thead>\n",
       "    <tr style=\"text-align: right;\">\n",
       "      <th></th>\n",
       "      <th>Field</th>\n",
       "      <th>Short description</th>\n",
       "      <th>Detailed Description</th>\n",
       "    </tr>\n",
       "  </thead>\n",
       "  <tbody>\n",
       "    <tr>\n",
       "      <th>0</th>\n",
       "      <td>invoice_line_no text</td>\n",
       "      <td>invoice (ID)</td>\n",
       "      <td>Concatenated invoice and line number associated with the liquor order. This provides a unique identifier for the individual liquor products included in the store order</td>\n",
       "    </tr>\n",
       "    <tr>\n",
       "      <th>1</th>\n",
       "      <td>date</td>\n",
       "      <td>date time</td>\n",
       "      <td>Date of order</td>\n",
       "    </tr>\n",
       "    <tr>\n",
       "      <th>2</th>\n",
       "      <td>store text</td>\n",
       "      <td>Store(ID)</td>\n",
       "      <td>Unique number assigned to the store who ordered the liquor.</td>\n",
       "    </tr>\n",
       "    <tr>\n",
       "      <th>3</th>\n",
       "      <td>name text</td>\n",
       "      <td>Store (name)</td>\n",
       "      <td>Name of store who ordered the liquor.</td>\n",
       "    </tr>\n",
       "    <tr>\n",
       "      <th>4</th>\n",
       "      <td>address text</td>\n",
       "      <td>Address</td>\n",
       "      <td>Address of store who ordered the liquor.</td>\n",
       "    </tr>\n",
       "    <tr>\n",
       "      <th>5</th>\n",
       "      <td>city text</td>\n",
       "      <td>City</td>\n",
       "      <td>City where the store who ordered the liquor is located</td>\n",
       "    </tr>\n",
       "    <tr>\n",
       "      <th>6</th>\n",
       "      <td>zipcode text</td>\n",
       "      <td>Zip Code</td>\n",
       "      <td>Zip code where the store who ordered the liquor is located</td>\n",
       "    </tr>\n",
       "    <tr>\n",
       "      <th>7</th>\n",
       "      <td>store_location_address text</td>\n",
       "      <td>Store Location (address)</td>\n",
       "      <td>Store Location (address)</td>\n",
       "    </tr>\n",
       "    <tr>\n",
       "      <th>8</th>\n",
       "      <td>county_number text</td>\n",
       "      <td>County Number</td>\n",
       "      <td>Iowa county number for the county where store who ordered the liquor is located</td>\n",
       "    </tr>\n",
       "    <tr>\n",
       "      <th>9</th>\n",
       "      <td>store_location_city text</td>\n",
       "      <td>Store Location (city)</td>\n",
       "      <td>Store Location (city)</td>\n",
       "    </tr>\n",
       "    <tr>\n",
       "      <th>10</th>\n",
       "      <td>store_location_zip text</td>\n",
       "      <td>Store Location (zip)</td>\n",
       "      <td>Store Location (zip)</td>\n",
       "    </tr>\n",
       "    <tr>\n",
       "      <th>11</th>\n",
       "      <td>county text</td>\n",
       "      <td>County</td>\n",
       "      <td>County where the store who ordered the liquor is located</td>\n",
       "    </tr>\n",
       "    <tr>\n",
       "      <th>12</th>\n",
       "      <td>category text</td>\n",
       "      <td>Category</td>\n",
       "      <td>Category code associated with the liquor ordered</td>\n",
       "    </tr>\n",
       "    <tr>\n",
       "      <th>13</th>\n",
       "      <td>store_location point</td>\n",
       "      <td>Store Location</td>\n",
       "      <td>Location of store who ordered the liquor. The Address, City, State and Zip Code are geocoded to provide geographic coordinates. Accuracy of geocoding is dependent on how well the address is interpreted and the completeness of the reference data used.</td>\n",
       "    </tr>\n",
       "    <tr>\n",
       "      <th>14</th>\n",
       "      <td>store_location_state text</td>\n",
       "      <td>Store Location (state)</td>\n",
       "      <td>Store Location (state)</td>\n",
       "    </tr>\n",
       "    <tr>\n",
       "      <th>15</th>\n",
       "      <td>category_name text</td>\n",
       "      <td>Category Name</td>\n",
       "      <td>Category of the liquor ordered.</td>\n",
       "    </tr>\n",
       "    <tr>\n",
       "      <th>16</th>\n",
       "      <td>vendor_no text</td>\n",
       "      <td>Vendor Number</td>\n",
       "      <td>The vendor number of the company for the brand of liquor ordered</td>\n",
       "    </tr>\n",
       "    <tr>\n",
       "      <th>17</th>\n",
       "      <td>vendor_name text</td>\n",
       "      <td>Vendor Name</td>\n",
       "      <td>The vendor name of the company for the brand of liquor ordered</td>\n",
       "    </tr>\n",
       "    <tr>\n",
       "      <th>18</th>\n",
       "      <td>itemno text</td>\n",
       "      <td>Item Number</td>\n",
       "      <td>Item number for the individual liquor product ordered.</td>\n",
       "    </tr>\n",
       "    <tr>\n",
       "      <th>19</th>\n",
       "      <td>im_desc text</td>\n",
       "      <td>Item Description</td>\n",
       "      <td>Description of the individual liquor product ordered.</td>\n",
       "    </tr>\n",
       "    <tr>\n",
       "      <th>20</th>\n",
       "      <td>pack number</td>\n",
       "      <td>Pack</td>\n",
       "      <td>The number of bottles in a case for the liquor ordered</td>\n",
       "    </tr>\n",
       "    <tr>\n",
       "      <th>21</th>\n",
       "      <td>bottle_volume_ml number</td>\n",
       "      <td>Bottle Volume (ml)</td>\n",
       "      <td>Volume of each liquor bottle ordered in milliliters.</td>\n",
       "    </tr>\n",
       "    <tr>\n",
       "      <th>22</th>\n",
       "      <td>state_bottle_cost money</td>\n",
       "      <td>State Bottle Cost</td>\n",
       "      <td>The amount that Alcoholic Beverages Division paid for each bottle of liquor ordered</td>\n",
       "    </tr>\n",
       "    <tr>\n",
       "      <th>23</th>\n",
       "      <td>state_bottle_retail money</td>\n",
       "      <td>State Bottle Retail</td>\n",
       "      <td>The amount the store paid for each bottle of liquor ordered</td>\n",
       "    </tr>\n",
       "    <tr>\n",
       "      <th>24</th>\n",
       "      <td>sale_bottles number</td>\n",
       "      <td>Bottles Sold</td>\n",
       "      <td>The number of bottles of liquor ordered by the store</td>\n",
       "    </tr>\n",
       "    <tr>\n",
       "      <th>25</th>\n",
       "      <td>sale_dollars money</td>\n",
       "      <td>Sale (Dollars)</td>\n",
       "      <td>Total cost of liquor order (number of bottles multiplied by the state bottle retail)</td>\n",
       "    </tr>\n",
       "    <tr>\n",
       "      <th>26</th>\n",
       "      <td>sale_liters number</td>\n",
       "      <td>Volume Sold (Liters)</td>\n",
       "      <td>Total volume of liquor ordered in liters. (i.e. (Bottle Volume (ml) x Bottles Sold)/1,000)</td>\n",
       "    </tr>\n",
       "    <tr>\n",
       "      <th>27</th>\n",
       "      <td>sale_gallons number</td>\n",
       "      <td>Volume Sold (Gallons)</td>\n",
       "      <td>Total volume of liquor ordered in gallons. (i.e. (Bottle Volume (ml) x Bottles Sold)/3785.411784)</td>\n",
       "    </tr>\n",
       "  </tbody>\n",
       "</table>\n",
       "</div>"
      ],
      "text/plain": [
       "                         Field          Short description                                                                                                                                                                                                                                        Detailed Description\n",
       "0   invoice_line_no text         invoice (ID)              Concatenated invoice and line number associated with the liquor order. This provides a unique identifier for the individual liquor products included in the store order                                                                                   \n",
       "1   date                         date time                 Date of order                                                                                                                                                                                                                                             \n",
       "2   store text                   Store(ID)                 Unique number assigned to the store who ordered the liquor.                                                                                                                                                                                               \n",
       "3   name text                    Store (name)              Name of store who ordered the liquor.                                                                                                                                                                                                                     \n",
       "4   address text                 Address                   Address of store who ordered the liquor.                                                                                                                                                                                                                  \n",
       "5   city text                    City                      City where the store who ordered the liquor is located                                                                                                                                                                                                    \n",
       "6   zipcode text                 Zip Code                  Zip code where the store who ordered the liquor is located                                                                                                                                                                                                \n",
       "7   store_location_address text  Store Location (address)  Store Location (address)                                                                                                                                                                                                                                  \n",
       "8   county_number text           County Number             Iowa county number for the county where store who ordered the liquor is located                                                                                                                                                                           \n",
       "9   store_location_city text     Store Location (city)     Store Location (city)                                                                                                                                                                                                                                     \n",
       "10  store_location_zip text      Store Location (zip)      Store Location (zip)                                                                                                                                                                                                                                      \n",
       "11  county text                  County                    County where the store who ordered the liquor is located                                                                                                                                                                                                  \n",
       "12  category text                Category                  Category code associated with the liquor ordered                                                                                                                                                                                                          \n",
       "13  store_location point         Store Location            Location of store who ordered the liquor. The Address, City, State and Zip Code are geocoded to provide geographic coordinates. Accuracy of geocoding is dependent on how well the address is interpreted and the completeness of the reference data used.\n",
       "14  store_location_state text    Store Location (state)    Store Location (state)                                                                                                                                                                                                                                    \n",
       "15  category_name text           Category Name             Category of the liquor ordered.                                                                                                                                                                                                                           \n",
       "16  vendor_no text               Vendor Number             The vendor number of the company for the brand of liquor ordered                                                                                                                                                                                          \n",
       "17  vendor_name text             Vendor Name               The vendor name of the company for the brand of liquor ordered                                                                                                                                                                                            \n",
       "18  itemno text                  Item Number               Item number for the individual liquor product ordered.                                                                                                                                                                                                    \n",
       "19  im_desc text                 Item Description          Description of the individual liquor product ordered.                                                                                                                                                                                                     \n",
       "20  pack number                  Pack                      The number of bottles in a case for the liquor ordered                                                                                                                                                                                                    \n",
       "21  bottle_volume_ml number      Bottle Volume (ml)        Volume of each liquor bottle ordered in milliliters.                                                                                                                                                                                                      \n",
       "22  state_bottle_cost money      State Bottle Cost         The amount that Alcoholic Beverages Division paid for each bottle of liquor ordered                                                                                                                                                                       \n",
       "23  state_bottle_retail money    State Bottle Retail       The amount the store paid for each bottle of liquor ordered                                                                                                                                                                                               \n",
       "24  sale_bottles number          Bottles Sold              The number of bottles of liquor ordered by the store                                                                                                                                                                                                      \n",
       "25  sale_dollars money           Sale (Dollars)            Total cost of liquor order (number of bottles multiplied by the state bottle retail)                                                                                                                                                                      \n",
       "26  sale_liters number           Volume Sold (Liters)      Total volume of liquor ordered in liters. (i.e. (Bottle Volume (ml) x Bottles Sold)/1,000)                                                                                                                                                                \n",
       "27  sale_gallons number          Volume Sold (Gallons)     Total volume of liquor ordered in gallons. (i.e. (Bottle Volume (ml) x Bottles Sold)/3785.411784)                                                                                                                                                         "
      ]
     },
     "execution_count": 1,
     "metadata": {},
     "output_type": "execute_result"
    }
   ],
   "source": [
    "import pandas as pd\n",
    "from IPython.display import display, HTML\n",
    "\n",
    "pd.set_option('display.width', 1000)\n",
    "\n",
    "df = pd.read_csv(\"https://raw.githubusercontent.com/ChristopheHunt/MSDA-\" + \n",
    "                      \"--Coursework/master/Data%20602/Data%20602%20-%20Advanced%20\" +\n",
    "                      \"Programming/Final%20Project/data%20dictionary.csv\")\n",
    "\n",
    "pd.set_option('display.max_colwidth', -1)\n",
    "df"
   ]
  },
  {
   "cell_type": "markdown",
   "metadata": {},
   "source": [
    "An example of the structure of each line is as follows:\n",
    "\n",
    ">   \n",
    "JSON format    \n",
    "{  \n",
    "\"DATE\": [ \"02/26/2015\" ],  \n",
    "\"CONVENIENCE.STORE\": [ \"\" ],  \n",
    "\"STORE\": [ 2515 ],  \n",
    "\"NAME\": [ \"Hy-Vee Food Store #1 / Mason City\" ],  \n",
    "\"ADDRESS\": [ \"2400 4TH ST SW\" ],  \n",
    "\"CITY\": [ \"MASON CITY\" ],  \n",
    "\"ZIPCODE\": [ \"50401\" ],  \n",
    "\"STORE.LOCATION\": [ \"2400 4TH ST SW\\nMASON CITY 50401\\n(43.148463097000047, -93.236272961999987)\" ],  \n",
    "\"COUNTY.NUMBER\": [ 17 ],  \n",
    "\"COUNTY\": [ \"Cerro Gordo\" ],  \n",
    "\"CATEGORY\": [ 1022100 ],  \n",
    "\"CATEGORY.NAME\": [ \"TEQUILA\" ],  \n",
    "\"VENDOR.NO\": [ 434 ],  \n",
    "\"VENDOR\": [ \"Luxco-St Louis\" ],  \n",
    "\"ITEM\": [ 87937 ],  \n",
    "\"DESCRIPTION\": [ \"Juarez Tequila Silver\" ],  \n",
    "\"PACK\": [ 12 ],  \n",
    "\"LITER.SIZE\": [ 1000 ],  \n",
    "\"STATE.BTL.COST\": [ \"6.92\"],  \n",
    "\"BTL.PRICE\": [\"10.38\" ],  \n",
    "\"BOTTLE.QTY\": [ 48 ],  \n",
    "\"TOTAL\": [ \"498.24\" ]   \n",
    "}"
   ]
  },
  {
   "cell_type": "markdown",
   "metadata": {},
   "source": [
    "## Approach "
   ]
  },
  {
   "cell_type": "markdown",
   "metadata": {},
   "source": [
    "### Data Management \n",
    "\n",
    "The program will be automated to pull the data from https://data.iowa.gov. \n",
    "\n",
    "Then the program will write the information to a MongoDB collection, this step will require some interaction with the user in opening a MongoDB connection and having MongoDB installed."
   ]
  },
  {
   "cell_type": "code",
   "execution_count": 2,
   "metadata": {
    "collapsed": false
   },
   "outputs": [
    {
     "data": {
      "text/html": [
       "\n",
       "        <iframe\n",
       "            width=\"900\"\n",
       "            height=\"250\"\n",
       "            src=\"https://en.wikipedia.org/wiki/MongoDB\"\n",
       "            frameborder=\"0\"\n",
       "            allowfullscreen\n",
       "        ></iframe>\n",
       "        "
      ],
      "text/plain": [
       "<IPython.lib.display.IFrame at 0x3d25c18>"
      ]
     },
     "execution_count": 2,
     "metadata": {},
     "output_type": "execute_result"
    }
   ],
   "source": [
    "from IPython.display import IFrame\n",
    "IFrame('https://en.wikipedia.org/wiki/MongoDB', width=900, height=250)"
   ]
  },
  {
   "cell_type": "markdown",
   "metadata": {},
   "source": [
    "### Analysis \n",
    "\n",
    "Then an analysis will be made on the data using mainly numpy and pandas but possible some other useful python modules. I will develop some interactions with the user at this stage, such as the ability to set filters on certain columns to analyze. My initial development will be based on the types of liqour purchases over time and liquor purchases by region. \n",
    "\n",
    "However, there will be some validations at this stage to ensure the user does not attempt to perform an inappropriate operation. "
   ]
  },
  {
   "cell_type": "code",
   "execution_count": 3,
   "metadata": {
    "collapsed": false
   },
   "outputs": [
    {
     "data": {
      "text/html": [
       "\n",
       "        <iframe\n",
       "            width=\"900\"\n",
       "            height=\"250\"\n",
       "            src=\"https://en.wikipedia.org/wiki/NumPy\"\n",
       "            frameborder=\"0\"\n",
       "            allowfullscreen\n",
       "        ></iframe>\n",
       "        "
      ],
      "text/plain": [
       "<IPython.lib.display.IFrame at 0x3d25dd8>"
      ]
     },
     "execution_count": 3,
     "metadata": {},
     "output_type": "execute_result"
    }
   ],
   "source": [
    "IFrame('https://en.wikipedia.org/wiki/NumPy', width=900, height=250)"
   ]
  },
  {
   "cell_type": "code",
   "execution_count": 4,
   "metadata": {
    "collapsed": false
   },
   "outputs": [
    {
     "data": {
      "text/html": [
       "\n",
       "        <iframe\n",
       "            width=\"900\"\n",
       "            height=\"250\"\n",
       "            src=\"https://en.wikipedia.org/wiki/Pandas_(software)\"\n",
       "            frameborder=\"0\"\n",
       "            allowfullscreen\n",
       "        ></iframe>\n",
       "        "
      ],
      "text/plain": [
       "<IPython.lib.display.IFrame at 0x3d47048>"
      ]
     },
     "execution_count": 4,
     "metadata": {},
     "output_type": "execute_result"
    }
   ],
   "source": [
    "IFrame('https://en.wikipedia.org/wiki/Pandas_(software)', width=900, height=250)"
   ]
  },
  {
   "cell_type": "markdown",
   "metadata": {},
   "source": [
    "### Visualization\n",
    "Finally, the graphical representation will be done through Plotly for the time series analysis and geo-spatial. Due to the data being at the state level I do have some concerns that Plotly isn't designed for state level analysis so I may need to use another type of module. \n",
    "\n",
    "Regardless of the module used, the user must have the ability to inspect and set new filters depending on the filters set in the analysis stage, so that the users can properly explore the results. "
   ]
  },
  {
   "cell_type": "code",
   "execution_count": 7,
   "metadata": {
    "collapsed": false
   },
   "outputs": [
    {
     "data": {
      "text/html": [
       "\n",
       "        <iframe\n",
       "            width=\"900\"\n",
       "            height=\"550\"\n",
       "            src=\"https://plot.ly/python/dashboard/#\"\n",
       "            frameborder=\"0\"\n",
       "            allowfullscreen\n",
       "        ></iframe>\n",
       "        "
      ],
      "text/plain": [
       "<IPython.lib.display.IFrame at 0x3d47198>"
      ]
     },
     "execution_count": 7,
     "metadata": {},
     "output_type": "execute_result"
    }
   ],
   "source": [
    "IFrame('https://plot.ly/python/dashboard/#', width=900, height=550) "
   ]
  },
  {
   "cell_type": "markdown",
   "metadata": {},
   "source": [
    "## Goals \n",
    "\n",
    "I want to dive deep into geo-spatial analysis using python and different visualization techniques. Some of the most significant and lasting visualizations I have encountered were GIS related and it was due to seeing the information spatial represented. \n",
    "\n",
    "I want to fully understand setting up and solving a time series analysis. Data that is time stamped is very interesting and commonly analyzed because it is useful to be able to understand changes over time. I also hope to become more versatile in understanding date time data types in python and how to analyze such types. \n",
    "\n",
    "Finally, after this entire process I hope that I will be able to find one meaningful insight. This large data set  should have some interesting information, such as the timing of liquor sales related to holiday or general Iowa shopping trends. "
   ]
  }
 ],
 "metadata": {
  "kernelspec": {
   "display_name": "Python 2",
   "language": "python",
   "name": "python2"
  },
  "language_info": {
   "codemirror_mode": {
    "name": "ipython",
    "version": 2
   },
   "file_extension": ".py",
   "mimetype": "text/x-python",
   "name": "python",
   "nbconvert_exporter": "python",
   "pygments_lexer": "ipython2",
   "version": "2.7.11"
  }
 },
 "nbformat": 4,
 "nbformat_minor": 0
}
