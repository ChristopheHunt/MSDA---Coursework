{
 "cells": [
  {
   "cell_type": "code",
   "execution_count": 30,
   "metadata": {
    "collapsed": false
   },
   "outputs": [],
   "source": [
    "import shapefile\n",
    "import sys\n",
    "\n",
    "myshp = open(\".//cb_2015_us_county_20m/cb_2015_us_county_20m.shp\", \"rb\")\n",
    "mydbf = open(\".//cb_2015_us_county_20m/cb_2015_us_county_20m.dbf\", \"rb\")\n",
    "r = shapefile.Reader(shp=myshp, dbf=mydbf)\n",
    "m m = shapes = r.shapes()"
   ]
  },
  {
   "cell_type": "code",
   "execution_count": 32,
   "metadata": {
    "collapsed": false
   },
   "outputs": [
    {
     "data": {
      "text/plain": [
       "[('DeletionFlag', 'C', 1, 0),\n",
       " ['STATEFP', 'C', 2, 0],\n",
       " ['COUNTYFP', 'C', 3, 0],\n",
       " ['COUNTYNS', 'C', 8, 0],\n",
       " ['AFFGEOID', 'C', 14, 0],\n",
       " ['GEOID', 'C', 5, 0],\n",
       " ['NAME', 'C', 100, 0],\n",
       " ['LSAD', 'C', 2, 0],\n",
       " ['ALAND', 'N', 14, 0],\n",
       " ['AWATER', 'N', 14, 0]]"
      ]
     },
     "execution_count": 32,
     "metadata": {},
     "output_type": "execute_result"
    }
   ],
   "source": [
    "from mpl_toolkits.basemap import Basemap\n",
    "import numpy as np\n",
    "m = Basemap(projection='merc',llcrnrlat=-80,urcrnrlat=80,\\\n",
    "            llcrnrlon=-180,urcrnrlon=180,lat_ts=20,resolution='c')\n",
    "\n",
    "def find_bounding_box(shpfile):\n",
    "    shapes = shapefile.Reader(shpyfile).shapes()\n",
    "    bbox = [180, 90, -180, -90]\n",
    "    for shape in shapes:\n",
    "        bbox[0] = min(bbox[0], shape.bbox[0])\n",
    "        bbox[1] = min(bbox[1], shape.bbox[1])\n",
    "        bbox[2] = min(bbox[2], shape.bbox[2])\n",
    "        bbox[3] = min(bbox[3], shape.bbox[3])\n",
    "    bbox[0] -= 0.05\n",
    "    bbox[1] -= 0.05\n",
    "    bbox[2] += 0.05\n",
    "    bbox[3] += 0.05\n",
    "    return bbox\n",
    "\n",
    "countyshp = m.readshapefile()"
   ]
  },
  {
   "cell_type": "code",
   "execution_count": 33,
   "metadata": {
    "collapsed": true
   },
   "outputs": [],
   "source": [
    "countyshp = \n",
    "\n",
    "\n",
    "shp = fiona.open('.//cb_2015_us_county_20m/cb_2015_us_county_20m.shp')\n",
    "bds = shp.bounds\n",
    "shp.close()\n",
    "extra = 0.01\n",
    "ll = (bds[0], bds[1])\n",
    "ur = (bds[2], bds[3])\n",
    "coords = list(chain(ll, ur))\n",
    "w, h = coords[2] - coords[0], coords[3] - coords[1]"
   ]
  },
  {
   "cell_type": "code",
   "execution_count": 37,
   "metadata": {
    "collapsed": false
   },
   "outputs": [
    {
     "data": {
      "text/plain": [
       "(3220,\n",
       " 5,\n",
       " [-179.174265, 17.913769, 0.0, 0.0],\n",
       " [179.773922, 71.352561, 0.0, 0.0],\n",
       " <matplotlib.collections.LineCollection at 0x21fa7a08828>)"
      ]
     },
     "execution_count": 37,
     "metadata": {},
     "output_type": "execute_result"
    }
   ],
   "source": [
    "m = Basemap(\n",
    "    projection='tmerc',\n",
    "    lon_0=-2.,\n",
    "    lat_0=49.,\n",
    "    ellps = 'WGS84',\n",
    "    llcrnrlon=coords[0] - extra * w,\n",
    "    llcrnrlat=coords[1] - extra + 0.01 * h,\n",
    "    urcrnrlon=coords[2] + extra * w,\n",
    "    urcrnrlat=coords[3] + extra + 0.01 * h,\n",
    "    lat_ts=0,\n",
    "    resolution='i',\n",
    "    suppress_ticks=True)\n",
    "\n",
    "myshp = open(\".//cb_2015_us_county_20m/cb_2015_us_county_20m.shp\", \"rb\")\n",
    "mydbf = open(\".//cb_2015_us_county_20m/cb_2015_us_county_20m.dbf\", \"rb\")\n",
    "\n",
    "m.readshapefile(\n",
    "    './/cb_2015_us_county_20m/cb_2015_us_county_20m',\n",
    "    'cb_2015_us_county_20m',\n",
    "    color='none')"
   ]
  },
  {
   "cell_type": "code",
   "execution_count": null,
   "metadata": {
    "collapsed": false
   },
   "outputs": [],
   "source": [
    "# set up a map dataframe\n",
    "df_map = pd.DataFrame({'poly': [Polygon(xy) for xy in m.cb_2015_us_county_20m]})\n",
    "wards_polygon = prep(MultiPolygon(list(df_map['poly'].values)))\n",
    "# draw ward patches from polygons\n",
    "df_map['patches'] = df_map['poly'].map(lambda x: PolygonPatch(\n",
    "    x,\n",
    "    fc='#555555',\n",
    "    ec='#787878', lw=.25, alpha=.9,\n",
    "    zorder=4))\n",
    "\n",
    "\n",
    "plt.clf()\n",
    "fig = plt.figure()\n",
    "ax = fig.add_subplot(111, axisbg='w', frame_on=False)\n",
    "fig.set_size_inches(7.22, 5.25)\n",
    "plt.savefig('.//test.png', dpi=100, alpha=True)\n",
    "plt.show()\n"
   ]
  },
  {
   "cell_type": "code",
   "execution_count": 22,
   "metadata": {
    "collapsed": false
   },
   "outputs": [],
   "source": []
  },
  {
   "cell_type": "code",
   "execution_count": 5,
   "metadata": {
    "collapsed": false
   },
   "outputs": [
    {
     "ename": "IndexError",
     "evalue": "list index out of range",
     "output_type": "error",
     "traceback": [
      "\u001b[1;31m---------------------------------------------------------------------------\u001b[0m",
      "\u001b[1;31mIndexError\u001b[0m                                Traceback (most recent call last)",
      "\u001b[1;32m<ipython-input-5-484a77a42835>\u001b[0m in \u001b[0;36m<module>\u001b[1;34m()\u001b[0m\n\u001b[0;32m      9\u001b[0m \u001b[1;31m# We can extract the London Borough boundaries by filtering on the AREA_CODE key\u001b[0m\u001b[1;33m\u001b[0m\u001b[1;33m\u001b[0m\u001b[0m\n\u001b[0;32m     10\u001b[0m mp = MultiPolygon(\n\u001b[1;32m---> 11\u001b[1;33m     [shape(pol['geometry']) for pol in fiona.open('.//cb_2015_us_county_20m/cb_2015_us_county_20m.shp')\n\u001b[0m\u001b[0;32m     12\u001b[0m     if pol['properties']['STATEFP'] == '19'])\n\u001b[0;32m     13\u001b[0m \u001b[1;33m\u001b[0m\u001b[0m\n",
      "\u001b[1;32m<ipython-input-5-484a77a42835>\u001b[0m in \u001b[0;36m<listcomp>\u001b[1;34m(.0)\u001b[0m\n\u001b[0;32m      9\u001b[0m \u001b[1;31m# We can extract the London Borough boundaries by filtering on the AREA_CODE key\u001b[0m\u001b[1;33m\u001b[0m\u001b[1;33m\u001b[0m\u001b[0m\n\u001b[0;32m     10\u001b[0m mp = MultiPolygon(\n\u001b[1;32m---> 11\u001b[1;33m     [shape(pol['geometry']) for pol in fiona.open('.//cb_2015_us_county_20m/cb_2015_us_county_20m.shp')\n\u001b[0m\u001b[0;32m     12\u001b[0m     if pol['properties']['STATEFP'] == '19'])\n\u001b[0;32m     13\u001b[0m \u001b[1;33m\u001b[0m\u001b[0m\n",
      "\u001b[1;32mfiona/ogrext.pyx\u001b[0m in \u001b[0;36mfiona.ogrext.Iterator.__next__ (fiona/ogrext.c:19067)\u001b[1;34m()\u001b[0m\n",
      "\u001b[1;32mfiona/ogrext.pyx\u001b[0m in \u001b[0;36mfiona.ogrext.FeatureBuilder.build (fiona/ogrext.c:3357)\u001b[1;34m()\u001b[0m\n",
      "\u001b[1;31mIndexError\u001b[0m: list index out of range"
     ]
    }
   ],
   "source": [
    "import matplotlib.pyplot as plt\n",
    "from matplotlib.collections import PatchCollection\n",
    "from descartes import PolygonPatch\n",
    "import fiona\n",
    "from shapely.geometry import Polygon, MultiPolygon, shape\n",
    "\n",
    "\n",
    "\n",
    "# We can extract the London Borough boundaries by filtering on the AREA_CODE key\n",
    "mp = MultiPolygon(\n",
    "    [shape(pol['geometry']) for pol in fiona.open('.//cb_2015_us_county_20m/cb_2015_us_county_20m.shp')\n",
    "    if pol['properties']['STATEFP'] == '19'])\n",
    "\n",
    "# We can now do GIS-ish operations on each borough polygon!\n",
    "# we could randomize this by dumping the polygons into a list and shuffling it\n",
    "# or we could define a random colour using fc=np.random.rand(3,)\n",
    "# available colour maps are here: http://wiki.scipy.org/Cookbook/Matplotlib/Show_colormaps\n",
    "cm = plt.get_cmap('RdBu')\n",
    "num_colours = len(mp)\n",
    " \n",
    "fig = plt.figure()\n",
    "ax = fig.add_subplot(111)\n",
    "minx, miny, maxx, maxy = mp.bounds\n",
    "w, h = maxx - minx, maxy - miny\n",
    "ax.set_xlim(minx - 0.2 * w, maxx + 0.2 * w)\n",
    "ax.set_ylim(miny - 0.2 * h, maxy + 0.2 * h)\n",
    "ax.set_aspect(1)\n",
    "\n",
    "patches = []\n",
    "for idx, p in enumerate(mp):\n",
    "    colour = cm(1. * idx / num_colours)\n",
    "    patches.append(PolygonPatch(p, fc=colour, ec='#555555', alpha=1., zorder=1))\n",
    "ax.add_collection(PatchCollection(patches, match_original=True))\n",
    "ax.set_xticks([])\n",
    "ax.set_yticks([])\n",
    "plt.title(\"Shapefile polygons rendered using Shapely\")\n",
    "plt.savefig('data/london_from_shp.png', alpha=True, dpi=300)\n",
    "plt.show()\n",
    " "
   ]
  },
  {
   "cell_type": "code",
   "execution_count": 7,
   "metadata": {
    "collapsed": false
   },
   "outputs": [
    {
     "data": {
      "text/plain": [
       "<open Collection './/cb_2015_us_county_20m/cb_2015_us_county_20m.shp:cb_2015_us_county_20m', mode 'r' at 0x2328ee471d0>"
      ]
     },
     "execution_count": 7,
     "metadata": {},
     "output_type": "execute_result"
    }
   ],
   "source": [
    "mp = MultiPolygon(\n",
    "    [shape(pol['geometry']) for pol in fiona.open('.//cb_2015_us_county_20m/cb_2015_us_county_20m.shp')\n",
    "    if pol['properties']['STATEFP'] == '19'])"
   ]
  },
  {
   "cell_type": "code",
   "execution_count": 17,
   "metadata": {
    "collapsed": false
   },
   "outputs": [
    {
     "ename": "AttributeError",
     "evalue": "'Collection' object has no attribute 'plot'",
     "output_type": "error",
     "traceback": [
      "\u001b[1;31m---------------------------------------------------------------------------\u001b[0m",
      "\u001b[1;31mAttributeError\u001b[0m                            Traceback (most recent call last)",
      "\u001b[1;32m<ipython-input-17-e059c2c6ac00>\u001b[0m in \u001b[0;36m<module>\u001b[1;34m()\u001b[0m\n\u001b[0;32m      1\u001b[0m \u001b[0mx\u001b[0m \u001b[1;33m=\u001b[0m \u001b[0mfiona\u001b[0m\u001b[1;33m.\u001b[0m\u001b[0mopen\u001b[0m\u001b[1;33m(\u001b[0m\u001b[1;34m'.//cb_2015_us_county_20m/cb_2015_us_county_20m.shp'\u001b[0m\u001b[1;33m)\u001b[0m\u001b[1;33m\u001b[0m\u001b[0m\n\u001b[1;32m----> 2\u001b[1;33m \u001b[0mx\u001b[0m\u001b[1;33m.\u001b[0m\u001b[0mplot\u001b[0m\u001b[1;33m(\u001b[0m\u001b[1;33m)\u001b[0m\u001b[1;33m\u001b[0m\u001b[0m\n\u001b[0m",
      "\u001b[1;31mAttributeError\u001b[0m: 'Collection' object has no attribute 'plot'"
     ]
    }
   ],
   "source": [
    "x = fiona.open('.//cb_2015_us_county_20m/cb_2015_us_county_20m.shp')\n"
   ]
  },
  {
   "cell_type": "code",
   "execution_count": 19,
   "metadata": {
    "collapsed": false
   },
   "outputs": [
    {
     "ename": "ImportError",
     "evalue": "No module named 'shpUtils'",
     "output_type": "error",
     "traceback": [
      "\u001b[1;31m---------------------------------------------------------------------------\u001b[0m",
      "\u001b[1;31mImportError\u001b[0m                               Traceback (most recent call last)",
      "\u001b[1;32m<ipython-input-19-a1a3de02d055>\u001b[0m in \u001b[0;36m<module>\u001b[1;34m()\u001b[0m\n\u001b[1;32m----> 1\u001b[1;33m \u001b[1;32mimport\u001b[0m \u001b[0mshpUtils\u001b[0m \u001b[1;31m#imports the shapefile reader\u001b[0m\u001b[1;33m\u001b[0m\u001b[0m\n\u001b[0m\u001b[0;32m      2\u001b[0m \u001b[1;31m#Load a shapefile into an object called shpRecords\u001b[0m\u001b[1;33m\u001b[0m\u001b[1;33m\u001b[0m\u001b[0m\n\u001b[0;32m      3\u001b[0m \u001b[0mshpRecords\u001b[0m \u001b[1;33m=\u001b[0m \u001b[0mshpUtils\u001b[0m\u001b[1;33m.\u001b[0m\u001b[0mloadShapefile\u001b[0m\u001b[1;33m(\u001b[0m\u001b[1;34m'.//cb_2015_us_county_20m/cb_2015_us_county_20m.shp'\u001b[0m\u001b[1;33m)\u001b[0m\u001b[1;33m\u001b[0m\u001b[0m\n",
      "\u001b[1;31mImportError\u001b[0m: No module named 'shpUtils'"
     ]
    }
   ],
   "source": [
    "import shpUtils #imports the shapefile reader\n",
    "#Load a shapefile into an object called shpRecords\n",
    "shpRecords = shpUtils.loadShapefile('.//cb_2015_us_county_20m/cb_2015_us_county_20m.shp')"
   ]
  },
  {
   "cell_type": "code",
   "execution_count": 6,
   "metadata": {
    "collapsed": false
   },
   "outputs": [],
   "source": [
    "import matplotlib.pyplot as plt\n",
    "import shapefile   \n",
    "\n",
    "shpFilePath = \".//cb_2015_us_county_20m/cb_2015_us_county_20m\"  \n",
    "listx=[]\n",
    "listy=[]\n",
    "test = shapefile.Reader(shpFilePath)\n",
    "for sr in test.shapeRecords():\n",
    "    for xNew,yNew in sr.shape.points:\n",
    "        listx.append(xNew)\n",
    "        listy.append(yNew)\n",
    "plt.plot(listx,listy)\n",
    "plt.show()"
   ]
  },
  {
   "cell_type": "code",
   "execution_count": 8,
   "metadata": {
    "collapsed": true
   },
   "outputs": [],
   "source": [
    "import shapefile as shp\n",
    "import matplotlib.pyplot as plt\n",
    "\n",
    "sf = shp.Reader(\".//cb_2015_us_county_20m/cb_2015_us_county_20m\")\n",
    "\n",
    "plt.figure()\n",
    "for shape in sf.shapeRecords():\n",
    "    x = [i[0] for i in shape.shape.points[:]]\n",
    "    y = [i[1] for i in shape.shape.points[:]]\n",
    "    plt.plot(x,y)\n",
    "plt.show()"
   ]
  },
  {
   "cell_type": "code",
   "execution_count": 76,
   "metadata": {
    "collapsed": false
   },
   "outputs": [
    {
     "name": "stdout",
     "output_type": "stream",
     "text": [
      "Column number: 1 is STATEFP\n"
     ]
    },
    {
     "ename": "FileExistsError",
     "evalue": "[WinError 183] Cannot create a file when that file already exists: '..//Final Project'",
     "output_type": "error",
     "traceback": [
      "\u001b[1;31m---------------------------------------------------------------------------\u001b[0m",
      "\u001b[1;31mFileExistsError\u001b[0m                           Traceback (most recent call last)",
      "\u001b[1;32m<ipython-input-76-dcc903867ba7>\u001b[0m in \u001b[0;36m<module>\u001b[1;34m()\u001b[0m\n\u001b[0;32m     21\u001b[0m \u001b[0moutputdir\u001b[0m \u001b[1;33m=\u001b[0m \u001b[1;34m\"..//Final Project\"\u001b[0m\u001b[1;33m;\u001b[0m\u001b[1;33m\u001b[0m\u001b[0m\n\u001b[0;32m     22\u001b[0m \u001b[0mshutil\u001b[0m\u001b[1;33m.\u001b[0m\u001b[0mrmtree\u001b[0m\u001b[1;33m(\u001b[0m\u001b[0moutputdir\u001b[0m\u001b[1;33m,\u001b[0m \u001b[0mignore_errors\u001b[0m\u001b[1;33m=\u001b[0m\u001b[1;32mTrue\u001b[0m\u001b[1;33m)\u001b[0m\u001b[1;33m\u001b[0m\u001b[0m\n\u001b[1;32m---> 23\u001b[1;33m \u001b[0mos\u001b[0m\u001b[1;33m.\u001b[0m\u001b[0mmkdir\u001b[0m\u001b[1;33m(\u001b[0m\u001b[0moutputdir\u001b[0m\u001b[1;33m)\u001b[0m\u001b[1;33m\u001b[0m\u001b[0m\n\u001b[0m\u001b[0;32m     24\u001b[0m \u001b[0mfilename\u001b[0m \u001b[1;33m=\u001b[0m \u001b[1;33m(\u001b[0m\u001b[0moutputdir\u001b[0m \u001b[1;33m+\u001b[0m \u001b[1;34m\"//iowa\"\u001b[0m\u001b[1;33m)\u001b[0m\u001b[1;33m\u001b[0m\u001b[0m\n\u001b[0;32m     25\u001b[0m \u001b[0msw\u001b[0m\u001b[1;33m.\u001b[0m\u001b[0msave\u001b[0m\u001b[1;33m(\u001b[0m\u001b[0mfilename\u001b[0m\u001b[1;33m)\u001b[0m\u001b[1;33m\u001b[0m\u001b[0m\n",
      "\u001b[1;31mFileExistsError\u001b[0m: [WinError 183] Cannot create a file when that file already exists: '..//Final Project'"
     ]
    }
   ],
   "source": [
    "import sys, shutil, os\n",
    "\n",
    "def find_column(column_name):\n",
    "    for i in range(len(sf.fields)):\n",
    "        if(sf.fields[i][0] == column_name):\n",
    "            print(\"Column number: {0} is {1}\".format(i,column_name))\n",
    "            return i - 1\n",
    "    print(\"Sorry... couldn't find a field name\")\n",
    "    sys.exit(-1)\n",
    "\n",
    "NAME = find_column('STATEFP')\n",
    "\n",
    "iowa = shapefile.Writer(shapefile.POLYGON)\n",
    "iowa.fields = sf.fields\n",
    "for shapeno in range(len(shapes)):\n",
    "    shapename = records[shapeno][NAME]\n",
    "    if (shapename == '19'):\n",
    "        iowa.records.append(records[shapeno])\n",
    "        iowa.shapes().append(shapes[shapeno])\n",
    "\n",
    "outputdir = \"..//Final Project\";\n",
    "shutil.rmtree(outputdir, ignore_errors=True)\n",
    "os.mkdir(outputdir)\n",
    "filename = (outputdir + \"//iowa\")\n",
    "sw.save(filename)\n",
    "shutil.copyfile(\".//cb_2015_us_county_20m/cb_2015_us_county_20m.prj\", \\\n",
    "               filename + \".prj\")\n",
    "print(filename + \" created\");"
   ]
  },
  {
   "cell_type": "code",
   "execution_count": 74,
   "metadata": {
    "collapsed": false
   },
   "outputs": [],
   "source": []
  },
  {
   "cell_type": "code",
   "execution_count": 51,
   "metadata": {
    "collapsed": false
   },
   "outputs": [],
   "source": [
    "from mpl_toolkits.basemap import Basemap\n",
    "import numpy as np\n",
    "import shapefile as shp\n",
    "import matplotlib.pyplot as plt\n",
    "\n",
    "\n",
    "def find_bounding_box(shpfile):\n",
    "    shapes = shp.Reader(shpfile).shapes()\n",
    "    bbox = [180, 90, -180, -90]\n",
    "    for shape in shapes:\n",
    "        bbox[0] = min(bbox[0], shape.bbox[0])\n",
    "        bbox[1] = min(bbox[1], shape.bbox[1])\n",
    "        bbox[2] = max(bbox[2], shape.bbox[2])\n",
    "        bbox[3] = max(bbox[3], shape.bbox[3])\n",
    "    bbox[0] -= 0.05\n",
    "    bbox[1] -= 0.05\n",
    "    bbox[2] += 0.05\n",
    "    bbox[3] += 0.05\n",
    "    return bbox\n",
    "\n",
    "bbox = find_bounding_box(\".//cb_2015_us_county_20m/cb_2015_us_county_20m\")\n",
    "\n",
    "m = Basemap(projection='merc',\\\n",
    "            llcrnrlat=bbox[3],\\\n",
    "            urcrnrlat=bbox[1],\\\n",
    "            llcrnrlon=bbox[2],\\\n",
    "            urcrnrlon=bbox[0],\\\n",
    "            lat_ts=20,resolution='c')\n",
    "\n",
    "\n",
    "countyshp = m.readshapefile(\".//cb_2015_us_county_20m/cb_2015_us_county_20m\", \\\n",
    "                            \"counties\", drawbounds=True)\n",
    "for shape in m.counties:\n",
    "    xx,yy = zip(*shape)\n",
    "    m.plot(xx,yy,linewidth=.5, color = 'brown')\n",
    "    \n",
    "m.drawmapboundary(fill_color = 'w')\n",
    "plt.show()"
   ]
  },
  {
   "cell_type": "code",
   "execution_count": 37,
   "metadata": {
    "collapsed": false
   },
   "outputs": [
    {
     "data": {
      "text/plain": [
       "[-179.224265, 17.863768999999998, -179.95, -89.95]"
      ]
     },
     "execution_count": 37,
     "metadata": {},
     "output_type": "execute_result"
    }
   ],
   "source": [
    "x"
   ]
  },
  {
   "cell_type": "code",
   "execution_count": 47,
   "metadata": {
    "collapsed": false
   },
   "outputs": [],
   "source": [
    "import shapefile\n",
    "import sys\n",
    "sf = shapefile.Reader(\".//cb_2015_us_county_20m/cb_2015_us_county_20m\");\n",
    "shapes = sf.shapes()\n",
    "fields = sf.fields\n",
    "records = sf.records()"
   ]
  },
  {
   "cell_type": "code",
   "execution_count": 52,
   "metadata": {
    "collapsed": false
   },
   "outputs": [
    {
     "data": {
      "text/plain": [
       "(3220,\n",
       " 5,\n",
       " [-179.174265, 17.913769, 0.0, 0.0],\n",
       " [179.773922, 71.352561, 0.0, 0.0],\n",
       " <matplotlib.collections.LineCollection at 0x24aa7a39e10>)"
      ]
     },
     "execution_count": 52,
     "metadata": {},
     "output_type": "execute_result"
    }
   ],
   "source": []
  },
  {
   "cell_type": "code",
   "execution_count": null,
   "metadata": {
    "collapsed": true
   },
   "outputs": [],
   "source": []
  }
 ],
 "metadata": {
  "kernelspec": {
   "display_name": "Python 3",
   "language": "python",
   "name": "python3"
  },
  "language_info": {
   "codemirror_mode": {
    "name": "ipython",
    "version": 3
   },
   "file_extension": ".py",
   "mimetype": "text/x-python",
   "name": "python",
   "nbconvert_exporter": "python",
   "pygments_lexer": "ipython3",
   "version": "3.5.1"
  }
 },
 "nbformat": 4,
 "nbformat_minor": 0
}
