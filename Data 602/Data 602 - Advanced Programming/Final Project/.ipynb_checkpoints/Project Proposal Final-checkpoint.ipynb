{
 "cells": [
  {
   "cell_type": "markdown",
   "metadata": {},
   "source": [
    "# Iowa Liquor Sales "
   ]
  },
  {
   "cell_type": "markdown",
   "metadata": {
    "collapsed": true
   },
   "source": [
    "I propose to analyze a dataset of spirits purchase information of Iowa Class “E” liquor licensees by product and date of purchase from January 1, 2012 to current. The dataset will allow me to analyze total spirits sales in Iowa of individual products at the store level. Since the dataset has store level detail information I will attempt to map the resulting analysis, as well as graph other descriptive statistics regarding the dataset. I hope to discovery some unique trends over time or determine a general sense of the liquor market place in Iowa. Also, the data set is large at 791 MB so I also hope to learn techniques to efficiently process large amounts of data using Python.  \n",
    "\n",
    "https://data.iowa.gov/Economy/Iowa-Liquor-Sales/m3tr-qhgy    sample data in json format    {  \"DATE\": [ \"02/26/2015\" ],  \"CONVENIENCE.STORE\": [ \"\" ],  \"STORE\": [ 2515 ],  \"NAME\": [ \"Hy-Vee Food Store #1 / Mason City\" ],  \"ADDRESS\": [ \"2400 4TH ST SW\" ],  \"CITY\": [ \"MASON CITY\" ],  \"ZIPCODE\": [ \"50401\" ],  \"STORE.LOCATION\": [ \"2400 4TH ST SW\\nMASON CITY 50401\\n(43.148463097000047, -93.236272961999987)\" ],  \"COUNTY.NUMBER\": [ 17 ],  \"COUNTY\": [ \"Cerro Gordo\" ],  \"CATEGORY\": [ 1022100 ],  \"CATEGORY.NAME\": [ \"TEQUILA\" ],  \"VENDOR.NO\": [ 434 ],  \"VENDOR\": [ \"Luxco-St Louis\" ],  \"ITEM\": [ 87937 ],  \"DESCRIPTION\": [ \"Juarez Tequila Silver\" ],  \"PACK\": [ 12 ],  \"LITER.SIZE\": [ 1000 ],  \"STATE.BTL.COST\": [ \"$6.92\" ],  \"BTL.PRICE\": [ \"$10.38\" ],  \"BOTTLE.QTY\": [ 48 ],  \"TOTAL\": [ \"$498.24\" ]   }"
   ]
  },
  {
   "cell_type": "code",
   "execution_count": null,
   "metadata": {
    "collapsed": true
   },
   "outputs": [],
   "source": []
  }
 ],
 "metadata": {
  "kernelspec": {
   "display_name": "Python 2",
   "language": "python",
   "name": "python2"
  },
  "language_info": {
   "codemirror_mode": {
    "name": "ipython",
    "version": 2
   },
   "file_extension": ".py",
   "mimetype": "text/x-python",
   "name": "python",
   "nbconvert_exporter": "python",
   "pygments_lexer": "ipython2",
   "version": "2.7.11"
  }
 },
 "nbformat": 4,
 "nbformat_minor": 0
}
