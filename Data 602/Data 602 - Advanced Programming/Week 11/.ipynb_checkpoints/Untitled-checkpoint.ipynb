{
 "cells": [
  {
   "cell_type": "markdown",
   "metadata": {},
   "source": [
    "Perform a Monte Carlo simulation to calculate Value at Risk (VaR) for the Apple stock price using the file attached to this lesson. There exist a number of ways to do this type of analysis, but you can follow this basic procedure (refer to this PDF (mc.pdf) for a more rigorous mathematical overview):\n",
    "\n",
    "The file (apple.2011.csv) has 3 columns: date, price, and percent change.  \n",
    "The information you are really interested in is the percent change. \n",
    "This value is the percent change in the price from the previous date to the date on the corresponding row.\n",
    "\n",
    "Use the percent change values to create a Gaussian random number generator.  This generator will create Gaussian-distributed randoms to use as hypothetical percent changes on the day to day price of Apple stock.\n",
    "With that generator, create 20 random numbers.  With these randoms, you can find a potential price change over 20 days.\n",
    "Start with the price from the last row and the random numbers to determine a hypothetical price after 20 days.  To do this, take that last price, apply a percent change and get a new price.  Then take that new price, and apply the next percent change.  Do this for the 20 randoms, and get a final price.\n",
    "Store the final price after 20 days (you can discard the intermediate price values).\n",
    "Repeat steps 3-5 a very large number of times.  Something like 10000.  Each run will yield a different result.\n",
    "Take all of the stored prices (10000 or so), sort them, and find the 1% lowest percentile.  This value is the final result, and represents the VaR with 99% confidence.  This means that the price will be above this result after 20 days with a confidence level of 99%.\n",
    "\n",
    "The other requirement for this assignment is to use an IPython Notebook.  Include in the notebook all the code, the results, and any other information you feel is needed (charts, graphs, plots, etc).  Rather than submitting .py files, give me the .ipynb file for your notebook."
   ]
  },
  {
   "cell_type": "code",
   "execution_count": null,
   "metadata": {
    "collapsed": true
   },
   "outputs": [],
   "source": [
    "import requests\n",
    "import numpy as np\n",
    "import csv\n",
    "import pandas \n",
    "import Tkinter\n",
    "import tkFileDialog\n",
    "import sys\n",
    "%matplotlib inline\n",
    "import matplotlib.pyplot as plt\n",
    "import matplotlib\n",
    "matplotlib.style.use('ggplot')\n",
    "\n",
    "df = pandas.read_csv(\"https://raw.githubusercontent.com/ChristopheHunt/MSDA\" + \n",
    "                         \"---Coursework/master/Data%20602/\" + \n",
    "                         \"Data%20602%20-%20Advanced%20Programming/\" + \n",
    "                         \"data/cars.data.csv\", \n",
    "                         header=None, index_col=False)"
   ]
  }
 ],
 "metadata": {
  "kernelspec": {
   "display_name": "Python 2",
   "language": "python",
   "name": "python2"
  },
  "language_info": {
   "codemirror_mode": {
    "name": "ipython",
    "version": 2
   },
   "file_extension": ".py",
   "mimetype": "text/x-python",
   "name": "python",
   "nbconvert_exporter": "python",
   "pygments_lexer": "ipython2",
   "version": "2.7.11"
  }
 },
 "nbformat": 4,
 "nbformat_minor": 0
}
