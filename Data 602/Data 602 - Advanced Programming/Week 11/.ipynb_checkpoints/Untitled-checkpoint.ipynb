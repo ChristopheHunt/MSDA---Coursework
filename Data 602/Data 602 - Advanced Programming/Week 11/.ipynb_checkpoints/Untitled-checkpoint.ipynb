{
 "cells": [
  {
   "cell_type": "markdown",
   "metadata": {},
   "source": [
    "## Monte Carlo Simulation"
   ]
  },
  {
   "cell_type": "code",
   "execution_count": 1,
   "metadata": {
    "collapsed": false
   },
   "outputs": [],
   "source": [
    "import numpy as np\n",
    "import pandas \n",
    "\n",
    "df = pandas.read_csv(\"https://raw.githubusercontent.com/ChristopheHunt/MSDA\"+ \n",
    "                     \"---Coursework/master/Data%20602/Data%20602%20-%20\" + \n",
    "                     \"Advanced%20Programming/Week%2011/apple.2011.csv\")\n",
    "\n",
    "df.columns = [ 'Date', 'Last', 'Change']"
   ]
  },
  {
   "cell_type": "markdown",
   "metadata": {},
   "source": [
    "> The file (apple.2011.csv) has 3 columns: date, price, and percent change.  The information you are really interested in is the percent change.  This value is the percent change in the price from the previous date to the date on the corresponding row."
   ]
  },
  {
   "cell_type": "code",
   "execution_count": 2,
   "metadata": {
    "collapsed": false
   },
   "outputs": [
    {
     "data": {
      "text/html": [
       "<div>\n",
       "<table border=\"1\" class=\"dataframe\">\n",
       "  <thead>\n",
       "    <tr style=\"text-align: right;\">\n",
       "      <th></th>\n",
       "      <th>Date</th>\n",
       "      <th>Last</th>\n",
       "      <th>Change</th>\n",
       "    </tr>\n",
       "  </thead>\n",
       "  <tbody>\n",
       "    <tr>\n",
       "      <th>0</th>\n",
       "      <td>1/3/2011</td>\n",
       "      <td>329.570</td>\n",
       "      <td>NaN</td>\n",
       "    </tr>\n",
       "    <tr>\n",
       "      <th>1</th>\n",
       "      <td>1/4/2011</td>\n",
       "      <td>331.290</td>\n",
       "      <td>0.005219</td>\n",
       "    </tr>\n",
       "    <tr>\n",
       "      <th>2</th>\n",
       "      <td>1/5/2011</td>\n",
       "      <td>334.000</td>\n",
       "      <td>0.008180</td>\n",
       "    </tr>\n",
       "    <tr>\n",
       "      <th>3</th>\n",
       "      <td>1/6/2011</td>\n",
       "      <td>333.730</td>\n",
       "      <td>-0.000808</td>\n",
       "    </tr>\n",
       "    <tr>\n",
       "      <th>4</th>\n",
       "      <td>1/7/2011</td>\n",
       "      <td>336.120</td>\n",
       "      <td>0.007161</td>\n",
       "    </tr>\n",
       "    <tr>\n",
       "      <th>5</th>\n",
       "      <td>1/10/2011</td>\n",
       "      <td>342.455</td>\n",
       "      <td>0.018847</td>\n",
       "    </tr>\n",
       "    <tr>\n",
       "      <th>6</th>\n",
       "      <td>1/11/2011</td>\n",
       "      <td>341.640</td>\n",
       "      <td>-0.002380</td>\n",
       "    </tr>\n",
       "    <tr>\n",
       "      <th>7</th>\n",
       "      <td>1/12/2011</td>\n",
       "      <td>344.420</td>\n",
       "      <td>0.008137</td>\n",
       "    </tr>\n",
       "    <tr>\n",
       "      <th>8</th>\n",
       "      <td>1/13/2011</td>\n",
       "      <td>345.680</td>\n",
       "      <td>0.003658</td>\n",
       "    </tr>\n",
       "    <tr>\n",
       "      <th>9</th>\n",
       "      <td>1/14/2011</td>\n",
       "      <td>348.480</td>\n",
       "      <td>0.008100</td>\n",
       "    </tr>\n",
       "  </tbody>\n",
       "</table>\n",
       "</div>"
      ],
      "text/plain": [
       "        Date     Last    Change\n",
       "0   1/3/2011  329.570       NaN\n",
       "1   1/4/2011  331.290  0.005219\n",
       "2   1/5/2011  334.000  0.008180\n",
       "3   1/6/2011  333.730 -0.000808\n",
       "4   1/7/2011  336.120  0.007161\n",
       "5  1/10/2011  342.455  0.018847\n",
       "6  1/11/2011  341.640 -0.002380\n",
       "7  1/12/2011  344.420  0.008137\n",
       "8  1/13/2011  345.680  0.003658\n",
       "9  1/14/2011  348.480  0.008100"
      ]
     },
     "execution_count": 2,
     "metadata": {},
     "output_type": "execute_result"
    }
   ],
   "source": [
    "df['Change'] = pandas.to_numeric(df['Change'], errors='coerce')\n",
    "df.head(10)"
   ]
  },
  {
   "cell_type": "markdown",
   "metadata": {},
   "source": [
    "> Use the percent change values to create a Gaussian random number generator.  This generator will create Gaussian-distributed randoms to use as hypothetical percent changes on the day to day price of Apple stock."
   ]
  },
  {
   "cell_type": "code",
   "execution_count": 3,
   "metadata": {
    "collapsed": false
   },
   "outputs": [],
   "source": [
    "mu, sigma = df['Change'].mean(), df['Change'].std()\n",
    "random_numbers = np.random.normal(mu, sigma, 20)"
   ]
  },
  {
   "cell_type": "markdown",
   "metadata": {},
   "source": [
    ">With that generator, create 20 random numbers.  With these randoms, you can find a potential price change over 20 days."
   ]
  },
  {
   "cell_type": "code",
   "execution_count": 4,
   "metadata": {
    "collapsed": false
   },
   "outputs": [
    {
     "data": {
      "text/plain": [
       "array([-0.00826575,  0.01507182, -0.01200947,  0.03247669,  0.01704239,\n",
       "        0.01206027,  0.01864534, -0.01325057,  0.00993179, -0.01295448,\n",
       "        0.00896616,  0.00127762,  0.00786148,  0.00038866,  0.01354714,\n",
       "        0.02089059,  0.0127606 , -0.01395651,  0.0284708 , -0.00866915])"
      ]
     },
     "execution_count": 4,
     "metadata": {},
     "output_type": "execute_result"
    }
   ],
   "source": [
    "random_numbers"
   ]
  },
  {
   "cell_type": "markdown",
   "metadata": {},
   "source": [
    "> Start with the price from the last row and the random numbers to determine a hypothetical price after 20 days.  To do this, take that last price, apply a percent change and get a new price.  Then take that new price, and apply the next percent change.  Do this for the 20 randoms, and get a final price. "
   ]
  },
  {
   "cell_type": "code",
   "execution_count": 5,
   "metadata": {
    "collapsed": false
   },
   "outputs": [],
   "source": [
    "last_price = df['Last'].tail(1)\n",
    "last_price = last_price.iloc[0]\n",
    "for i in random_numbers:\n",
    "    last_price =  (i * last_price) + last_price "
   ]
  },
  {
   "cell_type": "markdown",
   "metadata": {},
   "source": [
    "> Store the final price after 20 days (you can discard the intermediate price values)."
   ]
  },
  {
   "cell_type": "code",
   "execution_count": 6,
   "metadata": {
    "collapsed": false
   },
   "outputs": [
    {
     "data": {
      "text/plain": [
       "460.27989867359827"
      ]
     },
     "execution_count": 6,
     "metadata": {},
     "output_type": "execute_result"
    }
   ],
   "source": [
    "new_last_price = last_price\n",
    "new_last_price"
   ]
  },
  {
   "cell_type": "markdown",
   "metadata": {},
   "source": [
    "> Repeat steps 3-5 a very large number of times.  Something like 10000.  Each run will yield a different result."
   ]
  },
  {
   "cell_type": "code",
   "execution_count": 7,
   "metadata": {
    "collapsed": false
   },
   "outputs": [],
   "source": [
    "def VaR(n, days):\n",
    "    import pandas\n",
    "    list_values = []\n",
    "    mu, sigma = df['Change'].mean(), df['Change'].std()\n",
    "    for j in range(1,n):\n",
    "        random_numbers = np.random.normal(mu, sigma, days)\n",
    "        last_price = df['Last'].tail(1)\n",
    "        last_price = last_price.iloc[0]\n",
    "        for i in random_numbers:\n",
    "            last_price =  (i * last_price) + last_price \n",
    "        list_values.append(last_price)\n",
    "    df_new = pandas.DataFrame(list_values)\n",
    "    df_new.columns = ['Value']\n",
    "    return(df_new)"
   ]
  },
  {
   "cell_type": "markdown",
   "metadata": {},
   "source": [
    "> Take all of the stored prices (10000 or so), sort them, and find the 1% lowest percentile.  This value is the final result, and represents the VaR with 99% confidence.  This means that the price will be above this result after 20 days with a confidence level of 99%."
   ]
  },
  {
   "cell_type": "code",
   "execution_count": 8,
   "metadata": {
    "collapsed": false
   },
   "outputs": [],
   "source": [
    "days = 20\n",
    "VaR_df = VaR(100000, days)\n",
    "lowest = VaR_df.quantile(q = .01).iloc[0]"
   ]
  },
  {
   "cell_type": "code",
   "execution_count": 9,
   "metadata": {
    "collapsed": false
   },
   "outputs": [
    {
     "name": "stdout",
     "output_type": "stream",
     "text": [
      "The stock price should be above $345.94 after 20 days with a confidence level of 99%\n"
     ]
    }
   ],
   "source": [
    "print(\"The stock price should be above $%s after %s days with a confidence level of 99%%\" % (round(lowest,2), days)) "
   ]
  },
  {
   "cell_type": "code",
   "execution_count": 10,
   "metadata": {
    "collapsed": false
   },
   "outputs": [
    {
     "data": {
      "image/png": "[encoded data removed]",
      "text/plain": [
       "<matplotlib.figure.Figure at 0x6960e48>"
      ]
     },
     "metadata": {},
     "output_type": "display_data"
    }
   ],
   "source": [
    "%matplotlib inline\n",
    "import matplotlib\n",
    "import matplotlib.pyplot as plt\n",
    "import matplotlib.mlab as mlab\n",
    "matplotlib.style.use('ggplot')\n",
    "\n",
    "plt.hist(VaR_df['Value'],40)\n",
    "plt.axvline(x= VaR_df['Value'].mean())\n",
    "plt.title(\"Monte Carlo Simulation of Stock Value in 20 days using Gaussian Distribution \\n\")\n",
    "plt.xlabel(\"Stock Price in $\")\n",
    "plt.ylabel(\"Frequency\")\n",
    "plt.show()"
   ]
  }
 ],
 "metadata": {
  "kernelspec": {
   "display_name": "Python 2",
   "language": "python",
   "name": "python2"
  },
  "language_info": {
   "codemirror_mode": {
    "name": "ipython",
    "version": 2
   },
   "file_extension": ".py",
   "mimetype": "text/x-python",
   "name": "python",
   "nbconvert_exporter": "python",
   "pygments_lexer": "ipython2",
   "version": "2.7.11"
  }
 },
 "nbformat": 4,
 "nbformat_minor": 0
}
