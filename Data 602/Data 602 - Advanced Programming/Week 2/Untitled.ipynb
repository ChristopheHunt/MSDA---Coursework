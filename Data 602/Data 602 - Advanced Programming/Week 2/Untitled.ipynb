{
 "cells": [
  {
   "cell_type": "code",
   "execution_count": 92,
   "metadata": {
    "collapsed": false
   },
   "outputs": [
    {
     "name": "stdout",
     "output_type": "stream",
     "text": [
      "Car Count = 3\n",
      "The Ford has a High price and it's safety is rated a 2.\n",
      "The GMC has a Med price and it's safety is rated a 4.\n",
      "The Toyota has a Low price and it's safety is rated a 3.\n"
     ]
    },
    {
     "ename": "NameError",
     "evalue": "name 'sortbyprice' is not defined",
     "output_type": "error",
     "traceback": [
      "\u001b[1;31m---------------------------------------------------------------------------\u001b[0m",
      "\u001b[1;31mNameError\u001b[0m                                 Traceback (most recent call last)",
      "\u001b[1;32m<ipython-input-92-313794d6fe0d>\u001b[0m in \u001b[0;36m<module>\u001b[1;34m()\u001b[0m\n\u001b[0;32m     46\u001b[0m    \u001b[0mL\u001b[0m \u001b[1;33m=\u001b[0m \u001b[1;33m[\u001b[0m\u001b[0meval1\u001b[0m\u001b[1;33m,\u001b[0m \u001b[0meval2\u001b[0m\u001b[1;33m,\u001b[0m \u001b[0meval3\u001b[0m\u001b[1;33m]\u001b[0m\u001b[1;33m\u001b[0m\u001b[0m\n\u001b[0;32m     47\u001b[0m \u001b[1;33m\u001b[0m\u001b[0m\n\u001b[1;32m---> 48\u001b[1;33m    \u001b[1;32mprint\u001b[0m \u001b[0msortbyprice\u001b[0m\u001b[1;33m(\u001b[0m\u001b[0mL\u001b[0m\u001b[1;33m,\u001b[0m \u001b[1;34m\"asc\"\u001b[0m\u001b[1;33m)\u001b[0m\u001b[1;33m;\u001b[0m \u001b[1;31m#[Toyota, GMC, Ford]\u001b[0m\u001b[1;33m\u001b[0m\u001b[0m\n\u001b[0m\u001b[0;32m     49\u001b[0m    \u001b[1;32mprint\u001b[0m \u001b[0msortbyprice\u001b[0m\u001b[1;33m(\u001b[0m\u001b[0mL\u001b[0m\u001b[1;33m,\u001b[0m \u001b[1;34m\"des\"\u001b[0m\u001b[1;33m)\u001b[0m\u001b[1;33m;\u001b[0m \u001b[1;31m#[Ford, GMC, Toyota]\u001b[0m\u001b[1;33m\u001b[0m\u001b[0m\n\u001b[0;32m     50\u001b[0m    \u001b[1;32mprint\u001b[0m \u001b[0msearchforsafety\u001b[0m\u001b[1;33m(\u001b[0m\u001b[0mL\u001b[0m\u001b[1;33m,\u001b[0m \u001b[1;36m2\u001b[0m\u001b[1;33m)\u001b[0m\u001b[1;33m;\u001b[0m \u001b[1;31m#true\u001b[0m\u001b[1;33m\u001b[0m\u001b[0m\n",
      "\u001b[1;31mNameError\u001b[0m: name 'sortbyprice' is not defined"
     ]
    }
   ],
   "source": [
    "#1. fill in this class\n",
    "#   it will need to provide for what happens below in the\n",
    "#\tmain, so you will at least need a constructor that takes the values as (Brand, Price, Safety Rating),\n",
    "# \ta function called showEvaluation, and an attribute carCount\n",
    "class CarEvaluation(object):\n",
    "    'A simple class that represents a car evaluation'\n",
    "    carCount = 0\n",
    "    def __init__ (self,brand,price,safety_rating):\n",
    "       self.brand = brand\n",
    "       self.price = price\n",
    "       self.sr = safety_rating\n",
    "       CarEvaluation.carCount += 1 \n",
    "     \n",
    "    def showEvaluation(self):\n",
    "        print \"The %s has a %s price and it's safety is rated a %s.\" %(self.brand,self.price,self.sr)\n",
    "\n",
    "             #all your logic here\n",
    "\n",
    "#2. fill in this function\n",
    "#   it takes a list of CarEvaluation objects for input and either \"asc\" or \"des\"\n",
    "#   if it gets \"asc\" return a list of car names order by ascending price\n",
    "# \totherwise by descending price\n",
    "def sortbyprice() #you fill in the rest\n",
    "    return #return a value\n",
    "\n",
    "#3. fill in this function\n",
    "#   it takes a list for input of CarEvaluation objects and a value to search for\n",
    "#\tit returns true if the value is in the safety  attribute of an entry on the list,\n",
    "#   otherwise false\n",
    "#def searchforsafety #you fill in the rest\n",
    "    #return #return a value\n",
    "\n",
    "# This is the main of the program.  Expected outputs are in comments after the function calls.\n",
    "if __name__ == \"__main__\":\t\n",
    "   eval1 = CarEvaluation(\"Ford\", \"High\", 2)\n",
    "   eval2 = CarEvaluation(\"GMC\", \"Med\", 4)\n",
    "   eval3 = CarEvaluation(\"Toyota\", \"Low\", 3)\n",
    "\n",
    "   print \"Car Count = %d\" % CarEvaluation.carCount #Car Count = 3  \n",
    "\n",
    "   eval1.showEvaluation() #The Ford has a High price and it's safety is rated a 2\n",
    "   eval2.showEvaluation() #The GMC has a Med price and it's safety is rated a 4\n",
    "   eval3.showEvaluation() #The Toyota has a Low price and it's safety is rated a 3\n",
    "   \n",
    "   L = [eval1, eval2, eval3]\n",
    "\n",
    "   print sortbyprice(L, \"asc\"); #[Toyota, GMC, Ford]\n",
    "   print sortbyprice(L, \"des\"); #[Ford, GMC, Toyota]\n",
    "   print searchforsafety(L, 2); #true\n",
    "   print searchforsafety(L, 1); #false"
   ]
  },
  {
   "cell_type": "code",
   "execution_count": null,
   "metadata": {
    "collapsed": true
   },
   "outputs": [],
   "source": []
  }
 ],
 "metadata": {
  "kernelspec": {
   "display_name": "Python 2",
   "language": "python",
   "name": "python2"
  },
  "language_info": {
   "codemirror_mode": {
    "name": "ipython",
    "version": 2
   },
   "file_extension": ".py",
   "mimetype": "text/x-python",
   "name": "python",
   "nbconvert_exporter": "python",
   "pygments_lexer": "ipython2",
   "version": "2.7.11"
  }
 },
 "nbformat": 4,
 "nbformat_minor": 0
}
