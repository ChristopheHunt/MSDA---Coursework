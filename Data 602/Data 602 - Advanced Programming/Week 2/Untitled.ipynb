{
 "cells": [
  {
   "cell_type": "code",
   "execution_count": null,
   "metadata": {
    "collapsed": false
   },
   "outputs": [],
   "source": [
    "import sys \n",
    "print '\\n'.join(sys.modules.keys())"
   ]
  },
  {
   "cell_type": "code",
   "execution_count": 1,
   "metadata": {
    "collapsed": true
   },
   "outputs": [],
   "source": [
    "def listDirectory(directory, fileExtList):                                         \n",
    "    \"get list of file info objects for files of particular extensions\"\n",
    "    fileList = [os.path.normcase(f)\n",
    "                for f in os.listdir(directory)]           \n",
    "    fileList = [os.path.join(directory, f) \n",
    "               for f in fileList\n",
    "                if os.path.splitext(f)[1] in fileExtList]                          \n",
    "    def getFileInfoClass(filename, module=sys.modules[FileInfo.__module__]):       \n",
    "        \"get file info class from filename extension\"                             \n",
    "        subclass = \"%sFileInfo\" % os.path.splitext(filename)[1].upper()[1:]        \n",
    "        return hasattr(module, subclass) and getattr(module, subclass) or FileInfo \n",
    "    return [getFileInfoClass(f)(f) for f in fileList]     "
   ]
  },
  {
   "cell_type": "code",
   "execution_count": null,
   "metadata": {
    "collapsed": true
   },
   "outputs": [],
   "source": []
  }
 ],
 "metadata": {
  "kernelspec": {
   "display_name": "Python 2",
   "language": "python",
   "name": "python2"
  },
  "language_info": {
   "codemirror_mode": {
    "name": "ipython",
    "version": 2
   },
   "file_extension": ".py",
   "mimetype": "text/x-python",
   "name": "python",
   "nbconvert_exporter": "python",
   "pygments_lexer": "ipython2",
   "version": "2.7.11"
  }
 },
 "nbformat": 4,
 "nbformat_minor": 0
}
