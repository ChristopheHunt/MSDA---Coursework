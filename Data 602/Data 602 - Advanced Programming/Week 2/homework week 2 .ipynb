{
 "cells": [
  {
   "cell_type": "code",
   "execution_count": 1,
   "metadata": {
    "collapsed": false
   },
   "outputs": [
    {
     "name": "stdout",
     "output_type": "stream",
     "text": [
      "Car Count = 3\n",
      "The Ford has a High price and it's safety is rated a 2.\n",
      "The GMC has a Med price and it's safety is rated a 4.\n",
      "The Toyota has a Low price and it's safety is rated a 3.\n",
      "[Toyota, GMC, Ford]\n",
      "[Ford, GMC, Toyota]\n",
      "True\n",
      "False\n"
     ]
    }
   ],
   "source": [
    "#1. fill in this class\n",
    "#   it will need to provide for what happens below in the\n",
    "#\tmain, so you will at least need a constructor that takes the values as (Brand, Price, Safety Rating),\n",
    "# \ta function called showEvaluation, and an attribute carCount\n",
    "class CarEvaluation(object):\n",
    "    'A simple class that represents a car evaluation'\n",
    "    carCount = 0\n",
    "    def __init__ (self,brand,price,safety_rating):\n",
    "       self.brand = brand\n",
    "       self.price = price\n",
    "       self.sr = safety_rating\n",
    "       CarEvaluation.carCount += 1 \n",
    "     \n",
    "    def showEvaluation(self):\n",
    "        print \"The %s has a %s price and it's safety is rated a %s.\" %(self.brand,self.price,self.sr)\n",
    "         \n",
    "    def __repr__(self):\n",
    "        return '{}'.format(self.brand)\n",
    "\n",
    "    def pricesort(self):\n",
    "            if self.price == \"Low\":\n",
    "                return 1\n",
    "            elif self.price == \"Med\":\n",
    "                return 2\n",
    "            elif self.price == \"High\":\n",
    "                return 3\n",
    "        #all your logic here\n",
    "\n",
    "#2. fill in this function\n",
    "#   it takes a list of CarEvaluation objects for input and either \"asc\" or \"des\"\n",
    "#   if it gets \"asc\" return a list of car names order by ascending price\n",
    "# \totherwise by descending price\n",
    "def sortbyprice(input, value): #you fill in the rest\n",
    "    if value == \"asc\":\n",
    "        sort_objects = sorted(input, key = CarEvaluation.pricesort)\n",
    "    elif value == \"des\":\n",
    "        sort_objects = sorted(input, key = CarEvaluation.pricesort, reverse = True)\n",
    "    return sort_objects #return a value \n",
    "\n",
    "#3. fill in this function\n",
    "#   it takes a list for input of CarEvaluation objects and a value to search for\n",
    "#\tit returns true if the value is in the safety  attribute of an entry on the list,\n",
    "#   otherwise false\n",
    "def searchforsafety(input, value):\n",
    "    in_list = [input.sr for input in input]#you fill in the rest\n",
    "    return value in in_list  #return a value\n",
    "\n",
    "# This is the main of the program.  Expected outputs are in comments after the function calls.\n",
    "if __name__ == \"__main__\":\t\n",
    "   eval1 = CarEvaluation(\"Ford\", \"High\", 2)\n",
    "   eval2 = CarEvaluation(\"GMC\", \"Med\", 4)\n",
    "   eval3 = CarEvaluation(\"Toyota\", \"Low\", 3)\n",
    "\n",
    "   print \"Car Count = %d\" % CarEvaluation.carCount #Car Count = 3  \n",
    "\n",
    "   eval1.showEvaluation() #The Ford has a High price and it's safety is rated a 2\n",
    "   eval2.showEvaluation() #The GMC has a Med price and it's safety is rated a 4\n",
    "   eval3.showEvaluation() #The Toyota has a Low price and it's safety is rated a 3\n",
    "   \n",
    "   L = [eval1, eval2, eval3]\n",
    "\n",
    "   print sortbyprice(L, \"asc\"); #[Toyota, GMC, Ford]\n",
    "   print sortbyprice(L, \"des\"); #[Ford, GMC, Toyota]\n",
    "   print searchforsafety(L, 2); #true\n",
    "   print searchforsafety(L, 1); #false"
   ]
  }
 ],
 "metadata": {
  "kernelspec": {
   "display_name": "Python 2",
   "language": "python",
   "name": "python2"
  },
  "language_info": {
   "codemirror_mode": {
    "name": "ipython",
    "version": 2
   },
   "file_extension": ".py",
   "mimetype": "text/x-python",
   "name": "python",
   "nbconvert_exporter": "python",
   "pygments_lexer": "ipython2",
   "version": "2.7.11"
  }
 },
 "nbformat": 4,
 "nbformat_minor": 0
}
