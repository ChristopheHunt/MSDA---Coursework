{
 "cells": [
  {
   "cell_type": "code",
   "execution_count": 4,
   "metadata": {
    "collapsed": true
   },
   "outputs": [],
   "source": [
    "import numpy as np\n",
    "import timeit "
   ]
  },
  {
   "cell_type": "code",
   "execution_count": 24,
   "metadata": {
    "collapsed": false
   },
   "outputs": [
    {
     "name": "stdout",
     "output_type": "stream",
     "text": [
      "[3, 3, 5, 5, 6, 6, 13]\n",
      "[3, 3, 5, 5, 6, 6, 13]\n",
      "[ 3  3  5  5  6  6 13]\n",
      "True\n",
      "False\n",
      "True\n",
      "False\n",
      "True\n",
      "False\n"
     ]
    }
   ],
   "source": [
    "def sortwithloops(input):\n",
    "    L = input[:]\n",
    "    ordered = False \n",
    "    while not ordered: \n",
    "        ordered = True\n",
    "        for i in range(len(L)-1):\n",
    "                if L[i] > L[i + 1]:\n",
    "                   L[i] , L[i + 1] = L[i + 1] , L[i]\n",
    "                   ordered = False\n",
    "    return L \n",
    "\n",
    "\n",
    "def sortwithoutloops(input): \n",
    "    return sorted(input)\n",
    "\n",
    "\n",
    "def sortwithoutloops_numpysort(input):\n",
    "    return np.sort(input)\n",
    "  \n",
    "\n",
    "def searchwithloops(input, value):\n",
    "    L = input[:]\n",
    "    x = value\n",
    "    for i in L:\n",
    "         if i == x: \n",
    "            in_list = True \n",
    "            break\n",
    "         else: \n",
    "            in_list = False\n",
    "    return in_list #return a value\n",
    "\n",
    "\n",
    "def searchwithoutloops(input, value):\n",
    "    L = input[:]\n",
    "    if value in L:\n",
    "        return True\n",
    "    else: \n",
    "        return False\n",
    "\n",
    "\n",
    "def searchwithnumpy(input, value):\n",
    "    x = np.where(np.asarray(input) == value)[0]\n",
    "    if (x.size):\n",
    "        return True\n",
    "    else: \n",
    "        return False\n",
    "   \n",
    " \n",
    "if __name__ == \"__main__\":\t\n",
    "    L = [5,3,6,3,13,5,6]\t\n",
    "    \n",
    "    print sortwithloops(L) # [3, 3, 5, 5, 6, 6, 13]  \n",
    "    print sortwithoutloops(L) # [3, 3, 5, 5, 6, 6, 13] \n",
    "    print sortwithoutloops_numpysort(L)\n",
    "    \n",
    "    print searchwithloops(L, 5) #true  \n",
    "    print searchwithloops(L, 11) #false\n",
    "    print searchwithoutloops(L, 5) #true\n",
    "    print searchwithoutloops(L, 11) #false\n",
    "    \n",
    "    print searchwithnumpy(L, 5)\n",
    "    print searchwithnumpy(L, 11)\n",
    "    \n",
    "    import timeit\n",
    "    \n",
    "    number = 10000\n",
    "     \n",
    "    sortwithloops_time = timeit.timeit(\"sortwithloops(L)\", setup=\"from __main__ import L, sortwithloops\", number = number)\n",
    "    sortwithoutloops_time = timeit.timeit(\"sortwithoutloops(L)\", setup=\"from __main__ import L, sortwithoutloops\", number = number)\n",
    "    numpysort_time = timeit.timeit(\"sortwithoutloops_numpysort(L)\", setup=\"from __main__ import L, sortwithoutloops_numpysort\", number = number)\n",
    "    searchwith_loops_five = timeit.timeit(\"searchwithloops(L, 5)\", setup=\"from __main__ import L, searchwithloops\", number = number)\n",
    "    searchwith_loops_eleven = timeit.timeit(\"searchwithloops(L, 11)\", setup=\"from __main__ import L, searchwithloops\", number = number)\n",
    "    searchwithout_loop_five = timeit.timeit(\"searchwithoutloops(L, 5)\", setup=\"from __main__ import L, searchwithoutloops\", number = number)\n",
    "    searchwithout_loop_eleven = timeit.timeit(\"searchwithoutloops(L, 11)\", setup=\"from __main__ import L, searchwithoutloops\", number = number)\n",
    "    numpy_search_five = timeit.timeit(\"searchwithnumpy(L, 5)\", setup=\"from __main__ import L, searchwithnumpy\", number = number)\n",
    "    numpy_search_eleven = timeit.timeit(\"searchwithnumpy(L, 11)\", setup=\"from __main__ import L, searchwithnumpy\", number = number)\n",
    "   "
   ]
  },
  {
   "cell_type": "code",
   "execution_count": 27,
   "metadata": {
    "collapsed": false
   },
   "outputs": [
    {
     "name": "stdout",
     "output_type": "stream",
     "text": [
      "Sort using iteration:  10000 loops = 0.0475148555361 seconds\n",
      "Sort using built in python: 10000 loops = 0.0127363158084 seconds\n",
      "Sort using numpy: 10000 loops = 0.063568678367 seconds\n",
      "Search with interation with value present: 10000 loops = 0.00522282254485 seconds\n",
      "Search with interation with value not present: 10000 loops = 0.00927045170067 seconds\n",
      "Search using built in python with value present: 10000 loops = 0.00502921188331 seconds\n",
      "Search using built in python with value not present: 10000 loops = 0.00566789380059 seconds\n",
      "Search using numpy with value present: 10000 loops = 0.0438530481083 seconds\n",
      "Search using numpy with value not present: 10000 loops = 0.0393603476967 seconds\n"
     ]
    }
   ],
   "source": [
    "print(\"Sort using iteration:  %s loops = %s seconds\" % (number, sortwithloops_time))\n",
    "print(\"Sort using built in python: %s loops = %s seconds\" % (number, sortwithoutloops_time))\n",
    "print(\"Sort using numpy: %s loops = %s seconds\" % (number, numpysort_time))\n",
    "print(\"Search with interation with value present: %s loops = %s seconds\" % (number, searchwith_loops_five))\n",
    "print(\"Search with interation with value not present: %s loops = %s seconds\" % (number, searchwith_loops_eleven))     \n",
    "print(\"Search using built in python with value present: %s loops = %s seconds\" % (number, searchwithout_loop_five))           \n",
    "print(\"Search using built in python with value not present: %s loops = %s seconds\" % (number, searchwithout_loop_eleven )) \n",
    "print(\"Search using numpy with value present: %s loops = %s seconds\" % (number, numpy_search_five))          \n",
    "print(\"Search using numpy with value not present: %s loops = %s seconds\" % (number, numpy_search_eleven))             "
   ]
  }
 ],
 "metadata": {
  "kernelspec": {
   "display_name": "Python 2",
   "language": "python",
   "name": "python2"
  },
  "language_info": {
   "codemirror_mode": {
    "name": "ipython",
    "version": 2
   },
   "file_extension": ".py",
   "mimetype": "text/x-python",
   "name": "python",
   "nbconvert_exporter": "python",
   "pygments_lexer": "ipython2",
   "version": "2.7.11"
  }
 },
 "nbformat": 4,
 "nbformat_minor": 0
}
