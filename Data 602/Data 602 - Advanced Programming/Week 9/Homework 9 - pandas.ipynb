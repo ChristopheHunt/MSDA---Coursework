{
 "cells": [
  {
   "cell_type": "code",
   "execution_count": 1,
   "metadata": {
    "collapsed": false
   },
   "outputs": [],
   "source": [
    "import pandas as pd\n",
    "import numpy as np\n",
    "from io import StringIO\n",
    "import re\n",
    "import Tkinter\n",
    "import tkFileDialog\n",
    "\n",
    "def create_dataframe(): \n",
    "    root = Tkinter.Tk()\n",
    "    filename = tkFileDialog.askopenfilename(parent=root) \n",
    "    info = open(filename, 'r')\n",
    "    root.withdraw()\n",
    "    info = info.read().decode('utf-8')\n",
    "    headers = ['host', 'date', 'request', 'HTTP_reply_code', 'bytes_in_the_reply']\n",
    "    info = StringIO(info)\n",
    "    return(pd.read_csv(info, sep=\"\\s+\", names=headers, header = None))\n",
    "\n",
    "df = create_dataframe()"
   ]
  },
  {
   "cell_type": "code",
   "execution_count": 2,
   "metadata": {
    "collapsed": false
   },
   "outputs": [
    {
     "data": {
      "text/html": [
       "<div>\n",
       "<table border=\"1\" class=\"dataframe\">\n",
       "  <thead>\n",
       "    <tr style=\"text-align: right;\">\n",
       "      <th></th>\n",
       "      <th>host</th>\n",
       "    </tr>\n",
       "  </thead>\n",
       "  <tbody>\n",
       "    <tr>\n",
       "      <th>sandy.rtptok1.epa.gov</th>\n",
       "      <td>294</td>\n",
       "    </tr>\n",
       "  </tbody>\n",
       "</table>\n",
       "</div>"
      ],
      "text/plain": [
       "                       host\n",
       "sandy.rtptok1.epa.gov   294"
      ]
     },
     "execution_count": 2,
     "metadata": {},
     "output_type": "execute_result"
    }
   ],
   "source": [
    "#Which hostname or IP address made the most requests?\n",
    "x = pd.DataFrame(df['host'].value_counts())\n",
    "x.sort_values('host', ascending = False).head(1)"
   ]
  },
  {
   "cell_type": "code",
   "execution_count": 3,
   "metadata": {
    "collapsed": false
   },
   "outputs": [
    {
     "data": {
      "text/html": [
       "<div>\n",
       "<table border=\"1\" class=\"dataframe\">\n",
       "  <thead>\n",
       "    <tr style=\"text-align: right;\">\n",
       "      <th></th>\n",
       "      <th>bytes_in_the_reply</th>\n",
       "    </tr>\n",
       "    <tr>\n",
       "      <th>host</th>\n",
       "      <th></th>\n",
       "    </tr>\n",
       "  </thead>\n",
       "  <tbody>\n",
       "    <tr>\n",
       "      <th>crc2-fddi.cris.com</th>\n",
       "      <td>9709</td>\n",
       "    </tr>\n",
       "  </tbody>\n",
       "</table>\n",
       "</div>"
      ],
      "text/plain": [
       "                   bytes_in_the_reply\n",
       "host                                 \n",
       "crc2-fddi.cris.com               9709"
      ]
     },
     "execution_count": 3,
     "metadata": {},
     "output_type": "execute_result"
    }
   ],
   "source": [
    "#Which hostname or IP address received the most total bytes from the server?  How many bytes did it receive? \n",
    "x = pd.DataFrame(df.groupby('host')['bytes_in_the_reply'].sum())\n",
    "x.sort_values('bytes_in_the_reply',ascending=False).head(1)"
   ]
  },
  {
   "cell_type": "code",
   "execution_count": 4,
   "metadata": {
    "collapsed": false
   },
   "outputs": [],
   "source": [
    "#During what hour was the server the busiest in terms of requests?  \n",
    "#(You can do this by grouping each hour period e.g. 13:00 – 14:00. \n",
    "# Then count the number of requests in each hour)\n",
    "def create_data_frame_wDateIndex():\n",
    "    from datetime import datetime\n",
    "    df['date'] = df['date'].str.replace(r\"[\",\"\")\n",
    "    df['date'] = df['date'].str.replace(r\"]\",\"\")\n",
    "    df['date'] = pd.to_datetime('1995:08:' + df['date'], format = \"%Y:%m:%d:%H:%M:%S\")\n",
    "    return(df.set_index(pd.DatetimeIndex(df['date'])))\n",
    "    \n",
    "df_time_indexed = create_data_frame_wDateIndex()"
   ]
  },
  {
   "cell_type": "code",
   "execution_count": 5,
   "metadata": {
    "collapsed": false
   },
   "outputs": [
    {
     "data": {
      "text/html": [
       "<div>\n",
       "<table border=\"1\" class=\"dataframe\">\n",
       "  <thead>\n",
       "    <tr style=\"text-align: right;\">\n",
       "      <th></th>\n",
       "      <th>request</th>\n",
       "    </tr>\n",
       "  </thead>\n",
       "  <tbody>\n",
       "    <tr>\n",
       "      <th>1995-08-30 14:00:00</th>\n",
       "      <td>4716</td>\n",
       "    </tr>\n",
       "  </tbody>\n",
       "</table>\n",
       "</div>"
      ],
      "text/plain": [
       "                     request\n",
       "1995-08-30 14:00:00     4716"
      ]
     },
     "execution_count": 5,
     "metadata": {},
     "output_type": "execute_result"
    }
   ],
   "source": [
    "grouped = df_time_indexed.groupby(pd.TimeGrouper(freq='60Min'))\n",
    "grouped = pd.DataFrame(grouped['request'].count())\n",
    "grouped.sort_values('request',ascending=False).head(1)"
   ]
  },
  {
   "cell_type": "code",
   "execution_count": 6,
   "metadata": {
    "collapsed": false
   },
   "outputs": [
    {
     "data": {
      "text/html": [
       "<div>\n",
       "<table border=\"1\" class=\"dataframe\">\n",
       "  <thead>\n",
       "    <tr style=\"text-align: right;\">\n",
       "      <th></th>\n",
       "      <th></th>\n",
       "      <th>host</th>\n",
       "    </tr>\n",
       "    <tr>\n",
       "      <th></th>\n",
       "      <th>request</th>\n",
       "      <th></th>\n",
       "    </tr>\n",
       "  </thead>\n",
       "  <tbody>\n",
       "    <tr>\n",
       "      <th>31</th>\n",
       "      <th>GET /icons/circle_logo_small.gif HTTP/1.0</th>\n",
       "      <td>77</td>\n",
       "    </tr>\n",
       "  </tbody>\n",
       "</table>\n",
       "</div>"
      ],
      "text/plain": [
       "                                              host\n",
       "   request                                        \n",
       "31 GET /icons/circle_logo_small.gif HTTP/1.0    77"
      ]
     },
     "execution_count": 6,
     "metadata": {},
     "output_type": "execute_result"
    }
   ],
   "source": [
    "#Which .gif image was downloaded the most during the day?\n",
    "df_grouped = df_time_indexed[df_time_indexed['request'].str.contains('gif')]\n",
    "grouped = df_grouped.groupby([df_grouped.index.map(lambda t: t.minute), 'request'])\n",
    "grouped = pd.DataFrame(grouped.count())\n",
    "grouped = pd.DataFrame(grouped['host'])\n",
    "grouped.sort_values('host', ascending=False).head(1)"
   ]
  },
  {
   "cell_type": "code",
   "execution_count": 12,
   "metadata": {
    "collapsed": false
   },
   "outputs": [
    {
     "data": {
      "text/html": [
       "<div>\n",
       "<table border=\"1\" class=\"dataframe\">\n",
       "  <thead>\n",
       "    <tr style=\"text-align: right;\">\n",
       "      <th></th>\n",
       "      <th>0</th>\n",
       "    </tr>\n",
       "  </thead>\n",
       "  <tbody>\n",
       "    <tr>\n",
       "      <th>0</th>\n",
       "      <td>200</td>\n",
       "    </tr>\n",
       "    <tr>\n",
       "      <th>1</th>\n",
       "      <td>302</td>\n",
       "    </tr>\n",
       "    <tr>\n",
       "      <th>2</th>\n",
       "      <td>304</td>\n",
       "    </tr>\n",
       "    <tr>\n",
       "      <th>3</th>\n",
       "      <td>400</td>\n",
       "    </tr>\n",
       "    <tr>\n",
       "      <th>4</th>\n",
       "      <td>403</td>\n",
       "    </tr>\n",
       "    <tr>\n",
       "      <th>5</th>\n",
       "      <td>404</td>\n",
       "    </tr>\n",
       "    <tr>\n",
       "      <th>6</th>\n",
       "      <td>500</td>\n",
       "    </tr>\n",
       "    <tr>\n",
       "      <th>7</th>\n",
       "      <td>501</td>\n",
       "    </tr>\n",
       "  </tbody>\n",
       "</table>\n",
       "</div>"
      ],
      "text/plain": [
       "     0\n",
       "0  200\n",
       "1  302\n",
       "2  304\n",
       "3  400\n",
       "4  403\n",
       "5  404\n",
       "6  500\n",
       "7  501"
      ]
     },
     "execution_count": 12,
     "metadata": {},
     "output_type": "execute_result"
    }
   ],
   "source": [
    "#What HTTP reply codes were sent other than 200?\n",
    "reply_codes = df[df['HTTP_reply_code'] != 200]\n",
    "reply_codes = pd.DataFrame(np.unique(reply_codes[['HTTP_reply_code']]))\n",
    "reply_codes[:8] #TODO find out why at index 9 text 'HTTP/1.0\" appears"
   ]
  }
 ],
 "metadata": {
  "anaconda-cloud": {},
  "kernelspec": {
   "display_name": "Python [default]",
   "language": "python",
   "name": "python3"
  },
  "language_info": {
   "codemirror_mode": {
    "name": "ipython",
    "version": 3
   },
   "file_extension": ".py",
   "mimetype": "text/x-python",
   "name": "python",
   "nbconvert_exporter": "python",
   "pygments_lexer": "ipython3",
   "version": "3.5.2"
  }
 },
 "nbformat": 4,
 "nbformat_minor": 0
}
