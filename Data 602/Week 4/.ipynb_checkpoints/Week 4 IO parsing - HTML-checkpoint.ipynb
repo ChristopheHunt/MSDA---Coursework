{
 "cells": [
  {
   "cell_type": "markdown",
   "metadata": {
    "slideshow": {
     "slide_type": "-"
    }
   },
   "source": [
    "# Week 4 IO Parsing HTML"
   ]
  },
  {
   "cell_type": "markdown",
   "metadata": {},
   "source": [
    "### I will be using the Beautiful Soup python library to parse https://www.brainpickings.org. The site has excellent book reviews for a variety of topics by the site's creator Maria Popova. Additionally, she takes several exceptional quotes from each author for their book post, which will be our text of interest. Once we parse the text of interest, will pass them to the Alchemy API for the top ten keywords.  "
   ]
  },
  {
   "cell_type": "code",
   "execution_count": 1,
   "metadata": {
    "collapsed": false
   },
   "outputs": [
    {
     "data": {
      "text/html": [
       "<iframe src=https://www.brainpickings.org width=1000 height=400></iframe>"
      ],
      "text/plain": [
       "<IPython.core.display.HTML object>"
      ]
     },
     "execution_count": 1,
     "metadata": {},
     "output_type": "execute_result"
    }
   ],
   "source": [
    "from IPython.display import HTML\n",
    "HTML('<iframe src=https://www.brainpickings.org width=1000 height=400></iframe>')"
   ]
  },
  {
   "cell_type": "code",
   "execution_count": 2,
   "metadata": {
    "collapsed": false,
    "slideshow": {
     "slide_type": "slide"
    }
   },
   "outputs": [],
   "source": [
    "from BeautifulSoup import BeautifulSoup\n",
    "import urllib2\n",
    "\n",
    "url = 'https://www.brainpickings.org'\n",
    "page = urllib2.urlopen(url)\n",
    "soup = BeautifulSoup(page.read())"
   ]
  },
  {
   "cell_type": "code",
   "execution_count": 3,
   "metadata": {
    "collapsed": false,
    "slideshow": {
     "slide_type": "slide"
    }
   },
   "outputs": [
    {
     "name": "stdout",
     "output_type": "stream",
     "text": [
      "<bound method Tag.prettify of <strong>Robert Lowell</strong>> AUTHOR NAME TEST\n",
      "<bound method Tag.prettify of <blockquote><p>I see clearly now that for the last few days I have been living in a state of increasing mania &#8212; almost off the rails at the end. It almost seems as if I couldn&#8217;t be with you any length of time without acting with abysmal myopia and lack of consideration. My disease, alas, gives one (during its seizures) a headless heart.</p></blockquote>> QUOTE TEXT TEST\n"
     ]
    }
   ],
   "source": [
    "divText = soup.find(\"div\",  {\"id\": \"main_body\"} , {\"class\": \"right\"})\n",
    "print(str(divText.div.strong.prettify) + \" AUTHOR NAME TEST\")\n",
    "print(str(divText.div.blockquote.prettify) + \" QUOTE TEXT TEST\")"
   ]
  },
  {
   "cell_type": "code",
   "execution_count": 4,
   "metadata": {
    "collapsed": false
   },
   "outputs": [],
   "source": [
    "Allquotes = []\n",
    "Allauthors = []\n",
    "\n",
    "for tag in divText:\n",
    "    author = tag.find('strong')\n",
    "    if author not in (-1, None):\n",
    "        Allauthors.append(author.contents)\n",
    "    quotes = tag.find('blockquote')\n",
    "    if quotes not in (-1, None):\n",
    "        quote = quotes.findAll('p', text = True)\n",
    "        Allquotes.append(quote)"
   ]
  },
  {
   "cell_type": "code",
   "execution_count": 5,
   "metadata": {
    "collapsed": false
   },
   "outputs": [
    {
     "name": "stdout",
     "output_type": "stream",
     "text": [
      "[u'Robert Lowell']\n",
      "[u'I see clearly now that for the last few days I have been living in a state of increasing mania &#8212; almost off the rails at the end. It almost seems as if I couldn&#8217;t be with you any length of time without acting with abysmal myopia and lack of consideration. My disease, alas, gives one (during its seizures) a headless heart.']\n"
     ]
    }
   ],
   "source": [
    "print Allauthors[0]\n",
    "print Allquotes[0]"
   ]
  },
  {
   "cell_type": "code",
   "execution_count": 6,
   "metadata": {
    "collapsed": true
   },
   "outputs": [],
   "source": [
    "from alchemyapi.alchemyapi import AlchemyAPI"
   ]
  },
  {
   "cell_type": "code",
   "execution_count": 7,
   "metadata": {
    "collapsed": false
   },
   "outputs": [],
   "source": [
    "alchemyapi = AlchemyAPI()\n",
    "response = alchemyapi.keywords('text', Allquotes)\n",
    "keywords = response.values()"
   ]
  },
  {
   "cell_type": "code",
   "execution_count": 8,
   "metadata": {
    "collapsed": false
   },
   "outputs": [
    {
     "name": "stdout",
     "output_type": "stream",
     "text": [
      "{u'relevance': u'0.976125', u'text': u'harmonious families'} KEYWORD SLICE CHECK\n"
     ]
    }
   ],
   "source": [
    "keywords = keywords[2]\n",
    "print(str(keywords[0]) + \" KEYWORD SLICE CHECK\")"
   ]
  },
  {
   "cell_type": "code",
   "execution_count": 10,
   "metadata": {
    "collapsed": false
   },
   "outputs": [
    {
     "name": "stdout",
     "output_type": "stream",
     "text": [
      "   relevance                 text\n",
      "1   0.976125  harmonious families\n",
      "2   0.892751     tragic necessity\n",
      "3   0.787952         social units\n",
      "4   0.780975          double life\n",
      "5   0.778879           group life\n",
      "6   0.757402            real life\n",
      "7   0.730585  human relationships\n",
      "8   0.632261           human life\n",
      "9   0.357253           affections\n",
      "10  0.350957                 time\n"
     ]
    }
   ],
   "source": [
    "import pandas as pd\n",
    "df = pd.DataFrame(keywords)\n",
    "df.index = df.index + 1\n",
    "print(df[0:10])"
   ]
  }
 ],
 "metadata": {
  "kernelspec": {
   "display_name": "Python 2",
   "language": "python",
   "name": "python2"
  },
  "language_info": {
   "codemirror_mode": {
    "name": "ipython",
    "version": 2
   },
   "file_extension": ".py",
   "mimetype": "text/x-python",
   "name": "python",
   "nbconvert_exporter": "python",
   "pygments_lexer": "ipython2",
   "version": "2.7.11"
  }
 },
 "nbformat": 4,
 "nbformat_minor": 0
}
